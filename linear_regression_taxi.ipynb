{
 "cells": [
  {
   "cell_type": "code",
   "execution_count": 1,
   "metadata": {
    "cellView": "form",
    "id": "X53vZqc7PxCA"
   },
   "outputs": [],
   "source": [
    "# Licensed under the Apache License, Version 2.0 (the \"License\");\n",
    "# you may not use this file except in compliance with the License.\n",
    "# You may obtain a copy of the License at\n",
    "#\n",
    "# https://www.apache.org/licenses/LICENSE-2.0\n",
    "#\n",
    "# Unless required by applicable law or agreed to in writing, software\n",
    "# distributed under the License is distributed on an \"AS IS\" BASIS,\n",
    "# WITHOUT WARRANTIES OR CONDITIONS OF ANY KIND, either express or implied.\n",
    "# See the License for the specific language governing permissions and\n",
    "# limitations under the License."
   ]
  },
  {
   "cell_type": "markdown",
   "metadata": {
    "id": "mWCXBrPgQD0P"
   },
   "source": [
    "# Colabs\n",
    "\n",
    "Machine Learning Crash Course uses Colaboratories (Colabs) for all programming exercises. Colab is Google's implementation of [Jupyter Notebook](https://jupyter.org/). For more information about Colabs and how to use them, go to [Welcome to Colaboratory](https://research.google.com/colaboratory).\n",
    "\n",
    "# Linear Regression\n",
    "In this Colab you will use a real dataset to train a model to predict the fare of a taxi ride in Chicago, Illinois.\n",
    "\n",
    "## Learning Objectives\n",
    "After completing this Colab, you'll be able to:\n",
    "\n",
    "  * Read a .csv file into a [pandas](https://developers.google.com/machine-learning/glossary/#pandas) DataFrame.\n",
    "  * Explore a [dataset](https://developers.google.com/machine-learning/glossary/#data_set) with Python visualization libraries.\n",
    "  * Experiment with different [features](https://developers.google.com/machine-learning/glossary/#feature) to build a linear regression model.\n",
    "  * Tune the model's [hyperparameters](https://developers.google.com/machine-learning/glossary/#hyperparameter).\n",
    "  * Compare training runs using [root mean squared error](https://developers.google.com/machine-learning/glossary/#root-mean-squared-error-rmse) and [loss curves](https://developers.google.com/machine-learning/glossary/#loss-curve).\n",
    "\n",
    "## Dataset Description\n",
    "The [dataset for this exercise](https://storage.mtls.cloud.google.com/mlcc-nextgen-internal/chicago_taxi_train.csv) is derived from the [City of Chicago Taxi Trips dataset](https://data.cityofchicago.org/Transportation/Taxi-Trips/wrvz-psew). The data for this exercise is a subset of the Taxi Trips data, and focuses on a two-day period in May of 2022."
   ]
  },
  {
   "cell_type": "markdown",
   "metadata": {
    "id": "bBJQc5TgRrFx"
   },
   "source": [
    "# Part 1 - Setup Exercise\n",
    "\n",
    "\n",
    "---\n",
    "\n"
   ]
  },
  {
   "cell_type": "markdown",
   "metadata": {
    "id": "V9pkosc63-63"
   },
   "source": [
    "## Load required modules\n",
    "\n",
    "This exercise depends on several Python libraries to help with data manipulation, machine learning tasks, and data visualization.\n",
    "\n",
    "**Instructions**\n",
    "1. Run the **Load dependencies** code cell (below)."
   ]
  },
  {
   "cell_type": "code",
   "execution_count": 2,
   "metadata": {},
   "outputs": [],
   "source": [
    "# uncomment the line below to install the necessary packages\n",
    "#!pip install -r requirements.txt\n"
   ]
  },
  {
   "cell_type": "code",
   "execution_count": 3,
   "metadata": {
    "id": "wHBXW8ob16z3"
   },
   "outputs": [],
   "source": [
    "# Importing general-purpose libraries\n",
    "import io  # Provides the base classes for streams and handles file-like objects in memory\n",
    "\n",
    "# Importing libraries for data manipulation and analysis\n",
    "import numpy as np  # Numpy is used for numerical operations and handling arrays\n",
    "import pandas as pd  # Pandas is used for working with data in tabular form (like spreadsheets)\n",
    "\n",
    "# Importing libraries for machine learning\n",
    "import keras  # Keras is a high-level neural networks API for building and training deep learning models\n",
    "\n",
    "# Importing libraries for data visualization\n",
    "import matplotlib.pyplot as plt \n",
    "import plotly.express as px  # Plotly Express is a high-level interface for creating interactive visualizations\n",
    "from plotly.subplots import make_subplots  # Used for creating complex layouts with multiple subplots\n",
    "import plotly.graph_objects as go  # Provides a low-level interface for creating detailed and customizable plots\n",
    "import seaborn as sns  # Seaborn is a statistical data visualization library built on top of Matplotlib\n"
   ]
  },
  {
   "cell_type": "markdown",
   "metadata": {
    "id": "sgR4YRjj5T-b"
   },
   "source": [
    "## Load the dataset\n",
    "\n",
    "\n",
    "The following code cell loads the dataset and creates a pandas DataFrame.\n",
    "\n",
    "You can think of a DataFrame like a spreadsheet with rows and columns. The rows represent individual data examples, and the columns represent the attributes associated with each example."
   ]
  },
  {
   "cell_type": "code",
   "execution_count": 4,
   "metadata": {
    "id": "abmswn6USJjQ"
   },
   "outputs": [
    {
     "name": "stdout",
     "output_type": "stream",
     "text": [
      "First five rows of the dataset:\n",
      "    TRIP_START_TIMESTAMP     TRIP_END_TIMESTAMP  TRIP_START_HOUR  \\\n",
      "0  05/17/2022 7:15:00 AM  05/17/2022 7:45:00 AM             7.25   \n",
      "1  05/17/2022 5:15:00 PM  05/17/2022 5:30:00 PM            17.25   \n",
      "2  05/17/2022 5:15:00 PM  05/17/2022 5:30:00 PM            17.25   \n",
      "3  05/17/2022 6:00:00 PM  05/17/2022 7:00:00 PM            18.00   \n",
      "4  05/17/2022 5:00:00 PM  05/17/2022 5:30:00 PM            17.00   \n",
      "\n",
      "   TRIP_SECONDS  TRIP_MILES  TRIP_SPEED  PICKUP_CENSUS_TRACT  \\\n",
      "0          2341        2.57         4.0                  NaN   \n",
      "1          1074        1.18         4.0                  NaN   \n",
      "2          1173        1.29         4.0         1.703132e+10   \n",
      "3          3360        3.70         4.0         1.703132e+10   \n",
      "4          1044        1.15         4.0         1.703132e+10   \n",
      "\n",
      "   DROPOFF_CENSUS_TRACT  PICKUP_COMMUNITY_AREA  DROPOFF_COMMUNITY_AREA   FARE  \\\n",
      "0                   NaN                    NaN                    17.0  31.99   \n",
      "1          1.703108e+10                    NaN                     8.0   9.75   \n",
      "2          1.703108e+10                   32.0                     8.0  10.25   \n",
      "3          1.703124e+10                   32.0                    24.0  23.75   \n",
      "4          1.703108e+10                   32.0                     8.0  10.00   \n",
      "\n",
      "   TIPS  TIP_RATE  TOLLS  EXTRAS  TRIP_TOTAL PAYMENT_TYPE  \\\n",
      "0   2.0       6.3    0.0     0.0       33.99       Mobile   \n",
      "1   3.0      27.9    0.0     1.0       14.25  Credit Card   \n",
      "2   0.0       0.0    0.0     0.0       10.25         Cash   \n",
      "3   0.0       0.0    0.0     1.0       24.75         Cash   \n",
      "4   0.0       0.0    0.0     0.0       10.00         Cash   \n",
      "\n",
      "                   COMPANY  \n",
      "0                Flash Cab  \n",
      "1                Flash Cab  \n",
      "2                 Sun Taxi  \n",
      "3  Choice Taxi Association  \n",
      "4                Flash Cab  \n"
     ]
    }
   ],
   "source": [
    "# Load the Chicago Taxi dataset from a URL\n",
    "chicago_taxi_dataset = pd.read_csv(\"https://download.mlcc.google.com/mledu-datasets/chicago_taxi_train.csv\")\n",
    "\n",
    "# Explanation for Beginners:\n",
    "# - The above line fetches a CSV file (Comma-Separated Values format) from the provided URL.\n",
    "# - The CSV file is read into a pandas DataFrame called `chicago_taxi_dataset`.\n",
    "# - A pandas DataFrame is a table-like structure in Python that is widely used for data analysis.\n",
    "\n",
    "# To check that the dataset has been loaded correctly:\n",
    "print(\"First five rows of the dataset:\")\n",
    "print(chicago_taxi_dataset.head())  # This displays the first 5 rows of the dataset to inspect the structure and data.\n"
   ]
  },
  {
   "cell_type": "markdown",
   "metadata": {
    "id": "iKE0s1hNQ4H9"
   },
   "source": [
    "## Update the dataframe\n",
    "\n",
    "The following code cell updates the DataFrame to use only specific columns from the dataset.\n",
    "\n",
    "Notice that that output shows just a sample of the dataset, but there should be enough information for you to identify the features associated with the dataset, and have a look at the actual data for a few examples."
   ]
  },
  {
   "cell_type": "code",
   "execution_count": 5,
   "metadata": {
    "id": "YuLz6IgGP2LE"
   },
   "outputs": [
    {
     "name": "stdout",
     "output_type": "stream",
     "text": [
      "Read dataset completed successfully.\n",
      "Total number of rows: 31694\n",
      "\n",
      "\n"
     ]
    },
    {
     "data": {
      "text/html": [
       "<div>\n",
       "<style scoped>\n",
       "    .dataframe tbody tr th:only-of-type {\n",
       "        vertical-align: middle;\n",
       "    }\n",
       "\n",
       "    .dataframe tbody tr th {\n",
       "        vertical-align: top;\n",
       "    }\n",
       "\n",
       "    .dataframe thead th {\n",
       "        text-align: right;\n",
       "    }\n",
       "</style>\n",
       "<table border=\"1\" class=\"dataframe\">\n",
       "  <thead>\n",
       "    <tr style=\"text-align: right;\">\n",
       "      <th></th>\n",
       "      <th>TRIP_MILES</th>\n",
       "      <th>TRIP_SECONDS</th>\n",
       "      <th>FARE</th>\n",
       "      <th>COMPANY</th>\n",
       "      <th>PAYMENT_TYPE</th>\n",
       "      <th>TIP_RATE</th>\n",
       "    </tr>\n",
       "  </thead>\n",
       "  <tbody>\n",
       "    <tr>\n",
       "      <th>0</th>\n",
       "      <td>2.57</td>\n",
       "      <td>2341</td>\n",
       "      <td>31.99</td>\n",
       "      <td>Flash Cab</td>\n",
       "      <td>Mobile</td>\n",
       "      <td>6.3</td>\n",
       "    </tr>\n",
       "    <tr>\n",
       "      <th>1</th>\n",
       "      <td>1.18</td>\n",
       "      <td>1074</td>\n",
       "      <td>9.75</td>\n",
       "      <td>Flash Cab</td>\n",
       "      <td>Credit Card</td>\n",
       "      <td>27.9</td>\n",
       "    </tr>\n",
       "    <tr>\n",
       "      <th>2</th>\n",
       "      <td>1.29</td>\n",
       "      <td>1173</td>\n",
       "      <td>10.25</td>\n",
       "      <td>Sun Taxi</td>\n",
       "      <td>Cash</td>\n",
       "      <td>0.0</td>\n",
       "    </tr>\n",
       "    <tr>\n",
       "      <th>3</th>\n",
       "      <td>3.70</td>\n",
       "      <td>3360</td>\n",
       "      <td>23.75</td>\n",
       "      <td>Choice Taxi Association</td>\n",
       "      <td>Cash</td>\n",
       "      <td>0.0</td>\n",
       "    </tr>\n",
       "    <tr>\n",
       "      <th>4</th>\n",
       "      <td>1.15</td>\n",
       "      <td>1044</td>\n",
       "      <td>10.00</td>\n",
       "      <td>Flash Cab</td>\n",
       "      <td>Cash</td>\n",
       "      <td>0.0</td>\n",
       "    </tr>\n",
       "    <tr>\n",
       "      <th>...</th>\n",
       "      <td>...</td>\n",
       "      <td>...</td>\n",
       "      <td>...</td>\n",
       "      <td>...</td>\n",
       "      <td>...</td>\n",
       "      <td>...</td>\n",
       "    </tr>\n",
       "    <tr>\n",
       "      <th>195</th>\n",
       "      <td>1.13</td>\n",
       "      <td>821</td>\n",
       "      <td>9.00</td>\n",
       "      <td>Blue Ribbon Taxi Association</td>\n",
       "      <td>Mobile</td>\n",
       "      <td>22.9</td>\n",
       "    </tr>\n",
       "    <tr>\n",
       "      <th>196</th>\n",
       "      <td>0.57</td>\n",
       "      <td>414</td>\n",
       "      <td>6.00</td>\n",
       "      <td>Flash Cab</td>\n",
       "      <td>Cash</td>\n",
       "      <td>0.0</td>\n",
       "    </tr>\n",
       "    <tr>\n",
       "      <th>197</th>\n",
       "      <td>1.22</td>\n",
       "      <td>886</td>\n",
       "      <td>9.00</td>\n",
       "      <td>City Service</td>\n",
       "      <td>Cash</td>\n",
       "      <td>0.0</td>\n",
       "    </tr>\n",
       "    <tr>\n",
       "      <th>198</th>\n",
       "      <td>1.68</td>\n",
       "      <td>1219</td>\n",
       "      <td>9.00</td>\n",
       "      <td>Sun Taxi</td>\n",
       "      <td>Mobile</td>\n",
       "      <td>23.0</td>\n",
       "    </tr>\n",
       "    <tr>\n",
       "      <th>199</th>\n",
       "      <td>0.71</td>\n",
       "      <td>515</td>\n",
       "      <td>6.50</td>\n",
       "      <td>Sun Taxi</td>\n",
       "      <td>Credit Card</td>\n",
       "      <td>18.2</td>\n",
       "    </tr>\n",
       "  </tbody>\n",
       "</table>\n",
       "<p>200 rows × 6 columns</p>\n",
       "</div>"
      ],
      "text/plain": [
       "     TRIP_MILES  TRIP_SECONDS   FARE                       COMPANY  \\\n",
       "0          2.57          2341  31.99                     Flash Cab   \n",
       "1          1.18          1074   9.75                     Flash Cab   \n",
       "2          1.29          1173  10.25                      Sun Taxi   \n",
       "3          3.70          3360  23.75       Choice Taxi Association   \n",
       "4          1.15          1044  10.00                     Flash Cab   \n",
       "..          ...           ...    ...                           ...   \n",
       "195        1.13           821   9.00  Blue Ribbon Taxi Association   \n",
       "196        0.57           414   6.00                     Flash Cab   \n",
       "197        1.22           886   9.00                  City Service   \n",
       "198        1.68          1219   9.00                      Sun Taxi   \n",
       "199        0.71           515   6.50                      Sun Taxi   \n",
       "\n",
       "    PAYMENT_TYPE  TIP_RATE  \n",
       "0         Mobile       6.3  \n",
       "1    Credit Card      27.9  \n",
       "2           Cash       0.0  \n",
       "3           Cash       0.0  \n",
       "4           Cash       0.0  \n",
       "..           ...       ...  \n",
       "195       Mobile      22.9  \n",
       "196         Cash       0.0  \n",
       "197         Cash       0.0  \n",
       "198       Mobile      23.0  \n",
       "199  Credit Card      18.2  \n",
       "\n",
       "[200 rows x 6 columns]"
      ]
     },
     "execution_count": 5,
     "metadata": {},
     "output_type": "execute_result"
    }
   ],
   "source": [
    "# Update the DataFrame to include only specific columns\n",
    "# - Here, we are selecting a subset of the columns from the original dataset\n",
    "# - These columns are chosen because they are likely relevant for the analysis or modeling process\n",
    "training_df = chicago_taxi_dataset[['TRIP_MILES', 'TRIP_SECONDS', 'FARE', 'COMPANY', 'PAYMENT_TYPE', 'TIP_RATE']]\n",
    "\n",
    "# Print a confirmation message to indicate the dataset has been processed\n",
    "print('Read dataset completed successfully.')\n",
    "\n",
    "# Display the total number of rows in the filtered DataFrame\n",
    "print('Total number of rows: {0}\\n\\n'.format(len(training_df.index)))\n",
    "\n",
    "# Preview the first 200 rows of the filtered dataset\n",
    "# - This helps us inspect the data and verify that the selection was performed correctly\n",
    "training_df.head(200)\n"
   ]
  },
  {
   "cell_type": "markdown",
   "metadata": {
    "id": "RUL471vSR28O"
   },
   "source": [
    "# Part 2 - Dataset Exploration\n",
    "\n",
    "\n",
    "---\n",
    "\n"
   ]
  },
  {
   "cell_type": "markdown",
   "metadata": {
    "id": "7mhqzPIS9nFv"
   },
   "source": [
    "## View dataset statistics\n",
    "\n",
    "A large part of most machine learning projects is getting to know your data. In this step, you will use the ``DataFrame.describe`` method to view descriptive statistics about the dataset and answer some important questions about the data.\n",
    "\n",
    "**Instructions**\n",
    "1. Run the **View dataset statistics** code cell.\n",
    "1. Inspect the output and answer these questions:\n",
    "  * What is the maximum fare?\n",
    "  * What is the mean distance across all trips?\n",
    "  * How many cab companies are in the dataset?\n",
    "  * What is the most frequent payment type?\n",
    "  * Are any features missing data?\n",
    "1. Run the code **View answers to dataset statistics** code cell to check your answers.\n",
    "\n",
    "\n",
    "You might be wondering why there are groups of `NaN` (not a number) values listed in the output. When working with data in Python, you may see this value if the result of a calculation can not be computed or if there is missing information. For example, in the taxi dataset `PAYMENT_TYPE` and `COMPANY` are non-numeric, categorical features; numeric information such as mean and max do not make sense for categorical features so the output displays `NaN`."
   ]
  },
  {
   "cell_type": "code",
   "execution_count": 6,
   "metadata": {
    "id": "pkuQNjgoAKYt"
   },
   "outputs": [
    {
     "name": "stdout",
     "output_type": "stream",
     "text": [
      "Total number of rows: 31694\n",
      "\n",
      "\n",
      "Dataset Statistics:\n",
      "\n",
      "          TRIP_MILES  TRIP_SECONDS          FARE    COMPANY PAYMENT_TYPE  \\\n",
      "count   31694.000000  31694.000000  31694.000000      31694        31694   \n",
      "unique           NaN           NaN           NaN         31            7   \n",
      "top              NaN           NaN           NaN  Flash Cab  Credit Card   \n",
      "freq             NaN           NaN           NaN       7887        14142   \n",
      "mean        8.289463   1319.796397     23.905210        NaN          NaN   \n",
      "std         7.265672    928.932873     16.970022        NaN          NaN   \n",
      "min         0.500000     60.000000      3.250000        NaN          NaN   \n",
      "25%         1.720000    548.000000      9.000000        NaN          NaN   \n",
      "50%         5.920000   1081.000000     18.750000        NaN          NaN   \n",
      "75%        14.500000   1888.000000     38.750000        NaN          NaN   \n",
      "max        68.120000   7140.000000    159.250000        NaN          NaN   \n",
      "\n",
      "            TIP_RATE  \n",
      "count   31694.000000  \n",
      "unique           NaN  \n",
      "top              NaN  \n",
      "freq             NaN  \n",
      "mean       12.965785  \n",
      "std        15.517765  \n",
      "min         0.000000  \n",
      "25%         0.000000  \n",
      "50%        12.200000  \n",
      "75%        20.800000  \n",
      "max       648.600000  \n"
     ]
    }
   ],
   "source": [
    "# Display the total number of rows in the DataFrame\n",
    "# - This confirms how many data points (rows) are in the dataset\n",
    "print('Total number of rows: {0}\\n\\n'.format(len(training_df.index)))\n",
    "\n",
    "# View dataset statistics\n",
    "# - `describe()` generates descriptive statistics for the DataFrame.\n",
    "# - It provides insights into numerical columns (like mean, min, max, standard deviation) by default.\n",
    "# - Using `include='all'` extends the summary to non-numerical columns, providing details like unique counts and the most frequent value.\n",
    "dataset_statistics = training_df.describe(include='all')\n",
    "\n",
    "# Display the statistics to inspect data distributions and summaries\n",
    "print(\"Dataset Statistics:\\n\")\n",
    "print(dataset_statistics)\n"
   ]
  },
  {
   "cell_type": "code",
   "execution_count": 7,
   "metadata": {
    "id": "VQ9R5o7CcFzY"
   },
   "outputs": [
    {
     "name": "stdout",
     "output_type": "stream",
     "text": [
      "What is the maximum fare? \t\t\t\tAnswer: $159.25\n",
      "What is the mean distance across all trips? \t\tAnswer: 8.2895 miles\n",
      "How many cab companies are in the dataset? \t\tAnswer: 31\n",
      "What is the most frequent payment type? \t\tAnswer: Credit Card\n",
      "Are any features missing data? \t\t\t\tAnswer: No\n"
     ]
    }
   ],
   "source": [
    "# Answers to dataset statistics questions\n",
    "# These answers are derived by inspecting the data and using pandas methods to calculate them.\n",
    "\n",
    "# What is the maximum fare?\n",
    "# - The .max() method finds the highest value in the 'FARE' column.\n",
    "max_fare = training_df['FARE'].max()\n",
    "print(\"What is the maximum fare? \\t\\t\\t\\tAnswer: ${fare:.2f}\".format(fare=max_fare))\n",
    "\n",
    "# What is the mean distance across all trips?\n",
    "# - The .mean() method calculates the average value in the 'TRIP_MILES' column.\n",
    "mean_distance = training_df['TRIP_MILES'].mean()\n",
    "print(\"What is the mean distance across all trips? \\t\\tAnswer: {mean:.4f} miles\".format(mean=mean_distance))\n",
    "\n",
    "# How many cab companies are in the dataset?\n",
    "# - The .nunique() method returns the number of unique values in the 'COMPANY' column.\n",
    "num_unique_companies = training_df['COMPANY'].nunique()\n",
    "print(\"How many cab companies are in the dataset? \\t\\tAnswer: {number}\".format(number=num_unique_companies))\n",
    "\n",
    "# What is the most frequent payment type?\n",
    "# - The .value_counts() method counts occurrences of each value in 'PAYMENT_TYPE'.\n",
    "# - The .idxmax() method returns the index (payment type) of the most frequent value.\n",
    "most_freq_payment_type = training_df['PAYMENT_TYPE'].value_counts().idxmax()\n",
    "print(\"What is the most frequent payment type? \\t\\tAnswer: {type}\".format(type=most_freq_payment_type))\n",
    "\n",
    "# Are any features missing data?\n",
    "# - The .isnull() method checks for missing (NaN) values.\n",
    "# - .sum().sum() calculates the total number of missing values in the entire DataFrame.\n",
    "missing_values = training_df.isnull().sum().sum()\n",
    "print(\"Are any features missing data? \\t\\t\\t\\tAnswer:\", \"No\" if missing_values == 0 else \"Yes\")\n",
    "\n",
    "# For reference, the expected answers were:\n",
    "# Maximum fare: $159.25\n",
    "# Mean distance: ~8.2895 miles\n",
    "# Number of cab companies: 31\n",
    "# Most frequent payment type: Credit Card\n",
    "# Missing features: No\n"
   ]
  },
  {
   "cell_type": "markdown",
   "metadata": {
    "id": "-StQ4-wbBpIP"
   },
   "source": [
    "## Generate a correlation matrix\n",
    "\n",
    "An important part of machine learning is determining which [features](https://developers.google.com/machine-learning/glossary/#feature) correlate with the [label](https://developers.google.com/machine-learning/glossary/#label). If you have ever taken a taxi ride before, your experience is probably telling you that the fare is typically associated with the distance traveled and the duration of the trip. But, is there a way for you to learn more about how well these features correlate to the fare (label)?\n",
    "\n",
    "In this step, you will use a **correlation matrix** to identify features whose values correlate well with the label. Correlation values have the following meanings:\n",
    "\n",
    "  * **`1.0`**: perfect positive correlation; that is, when one attribute rises, the other attribute rises.\n",
    "  * **`-1.0`**: perfect negative correlation; that is, when one attribute rises, the other attribute falls.\n",
    "  * **`0.0`**: no correlation; the two columns [are not linearly related](https://en.wikipedia.org/wiki/Correlation_and_dependence#/media/File:Correlation_examples2.svg).\n",
    "\n",
    "In general, the higher the absolute value of a correlation value, the greater its predictive power.\n",
    "\n",
    "**Instructions**\n",
    "\n",
    "1. Inspect the code in the **View correlation matrix** code cell.\n",
    "1. Run the **View correlation matrix** code cell and inspect the output.\n",
    "1. **Check your understanding** by answering these questions:\n",
    "  * Which feature correlates most strongly to the label FARE?\n",
    "  * Which feature correlates least strongly to the label FARE?\n"
   ]
  },
  {
   "cell_type": "code",
   "execution_count": 8,
   "metadata": {
    "cellView": "form",
    "id": "-1kFmfdFDVmv"
   },
   "outputs": [
    {
     "name": "stdout",
     "output_type": "stream",
     "text": [
      "Correlation Matrix:\n",
      "\n",
      "              TRIP_MILES  TRIP_SECONDS      FARE  TIP_RATE\n",
      "TRIP_MILES      1.000000      0.800855  0.975344 -0.049594\n",
      "TRIP_SECONDS    0.800855      1.000000  0.830292 -0.084294\n",
      "FARE            0.975344      0.830292  1.000000 -0.070979\n",
      "TIP_RATE       -0.049594     -0.084294 -0.070979  1.000000\n"
     ]
    }
   ],
   "source": [
    "# View the correlation matrix for numerical columns in the DataFrame\n",
    "# - The .corr() method calculates the correlation coefficients between numeric columns.\n",
    "# - Setting numeric_only=True ensures only numerical columns are included in the calculation (avoiding errors with non-numeric data).\n",
    "correlation_matrix = training_df.corr(numeric_only=True)\n",
    "\n",
    "# Display the correlation matrix\n",
    "# - The correlation matrix shows the strength and direction of relationships between variables.\n",
    "# - Values range from -1 to 1:\n",
    "#     - 1 means a perfect positive correlation (variables increase together).\n",
    "#     - -1 means a perfect negative correlation (one variable increases as the other decreases).\n",
    "#     - 0 means no correlation.\n",
    "print(\"Correlation Matrix:\\n\")\n",
    "print(correlation_matrix)\n"
   ]
  },
  {
   "cell_type": "code",
   "execution_count": 9,
   "metadata": {},
   "outputs": [
    {
     "data": {
      "image/png": "[encoded data removed]",
      "text/plain": [
       "<Figure size 1000x800 with 2 Axes>"
      ]
     },
     "metadata": {},
     "output_type": "display_data"
    }
   ],
   "source": [
    "# BONUS: Visualizing the Correlation Matrix as a Heatmap\n",
    "# Calculate the correlation matrix for numeric columns\n",
    "correlation_matrix = training_df.corr(numeric_only=True)\n",
    "\n",
    "# Plot the correlation matrix as a heatmap\n",
    "plt.figure(figsize=(10, 8))  # Set the figure size for better visibility\n",
    "sns.heatmap(correlation_matrix, annot=True, cmap='coolwarm', fmt=\".2f\", linewidths=0.5)\n",
    "\n",
    "# Add a title to the heatmap\n",
    "plt.title(\"Correlation Matrix Heatmap\")\n",
    "\n",
    "# Show the plot\n",
    "plt.show()\n"
   ]
  },
  {
   "cell_type": "code",
   "execution_count": 10,
   "metadata": {
    "cellView": "form",
    "id": "ExPq1h6wIzvR"
   },
   "outputs": [
    {
     "name": "stdout",
     "output_type": "stream",
     "text": [
      "The feature with the strongest correlation to the FARE is TRIP_MILES with a correlation value of 0.98.\n",
      "As expected, TRIP_MILES looks like a good feature to train the model, and TRIP_SECONDS also shows a strong correlation.\n",
      "The feature with the weakest correlation to the FARE is TIP_RATE with a correlation value of -0.07.\n",
      "This suggests that TIP_RATE has the weakest relationship to the FARE.\n"
     ]
    }
   ],
   "source": [
    "# Explanation of answers regarding the correlation matrix\n",
    "# -------------------------------------------------------\n",
    "\n",
    "# Which feature correlates most strongly to the label FARE?\n",
    "# ---------------------------------------------------------\n",
    "# - Use the correlation matrix to find the correlation values for 'FARE' with other features.\n",
    "# - Sort the correlations to identify the strongest one (excluding 'FARE' itself).\n",
    "correlation_with_fare = correlation_matrix['FARE'].drop('FARE')\n",
    "strongest_correlation_feature = correlation_with_fare.idxmax()  # Feature with the highest correlation\n",
    "strongest_correlation_value = correlation_with_fare.max()\n",
    "\n",
    "print(f\"The feature with the strongest correlation to the FARE is {strongest_correlation_feature} \"\n",
    "        f\"with a correlation value of {strongest_correlation_value:.2f}.\")\n",
    "print(\"As expected, TRIP_MILES looks like a good feature to train the model, and TRIP_SECONDS also shows a strong correlation.\")\n",
    "\n",
    "# Which feature correlates least strongly to the label FARE?\n",
    "# -----------------------------------------------------------\n",
    "# - The weakest correlation (closest to 0) indicates the least related feature.\n",
    "weakest_correlation_feature = correlation_with_fare.idxmin()  # Feature with the lowest correlation\n",
    "weakest_correlation_value = correlation_with_fare.min()\n",
    "\n",
    "print(f\"The feature with the weakest correlation to the FARE is {weakest_correlation_feature} \"\n",
    "        f\"with a correlation value of {weakest_correlation_value:.2f}.\")\n",
    "print(\"This suggests that TIP_RATE has the weakest relationship to the FARE.\")\n",
    "\n",
    "# Insights from Correlation Analysis\n",
    "# -----------------------------------\n",
    "# These findings can guide feature selection for modeling, with the most correlated features \n",
    "# being prioritized for training and the least correlated features possibly excluded.\n"
   ]
  },
  {
   "cell_type": "markdown",
   "metadata": {
    "id": "rqklIw96G7JA"
   },
   "source": [
    "## Visualize relationships in dataset\n",
    "\n",
    "Sometimes it is helpful to visualize relationships between features in a dataset; one way to do this is with a pair plot. A **pair plot** generates a grid of pairwise plots to visualize the relationship of each feature with all other features all in one place.\n",
    "\n",
    "**Instructions**\n",
    "1. Run the **View pair plot** code cell."
   ]
  },
  {
   "cell_type": "code",
   "execution_count": 11,
   "metadata": {
    "cellView": "form",
    "id": "ph0FE7ZxHY36"
   },
   "outputs": [
    {
     "data": {
      "image/png": "[encoded data removed]",
      "text/plain": [
       "<Figure size 750x750 with 12 Axes>"
      ]
     },
     "metadata": {},
     "output_type": "display_data"
    }
   ],
   "source": [
    "import seaborn as sns\n",
    "import matplotlib.pyplot as plt  # Ensure matplotlib is available for plotting\n",
    "\n",
    "# Create a pairplot for visualizing relationships between selected features\n",
    "# - Pairplot generates scatterplots for each pair of specified columns, allowing us to visually inspect correlations.\n",
    "# - x_vars specifies the columns for the x-axes, while y_vars specifies the columns for the y-axes.\n",
    "sns.pairplot(training_df, \n",
    "                x_vars=[\"FARE\", \"TRIP_MILES\", \"TRIP_SECONDS\"], \n",
    "                y_vars=[\"FARE\", \"TRIP_MILES\", \"TRIP_SECONDS\"])\n",
    "\n",
    "# Show the plot\n",
    "plt.suptitle(\"Pairplot of Selected Features\", y=1.02)  # Add a title with proper positioning\n",
    "plt.show()\n"
   ]
  },
  {
   "cell_type": "markdown",
   "metadata": {
    "id": "zrereRcYR9KG"
   },
   "source": [
    "# Part 3 - Train Model\n",
    "\n",
    "\n",
    "---\n",
    "\n"
   ]
  },
  {
   "cell_type": "markdown",
   "metadata": {
    "id": "PfRhSs_RR2VI"
   },
   "source": [
    "## Define functions to view model information\n",
    "\n",
    "To help visualize the results of each training run you will generate two plots at the end of each experiment:\n",
    "\n",
    "* a scatter plot of the features vs. the label with a line showing the output of the trained model\n",
    "* a loss curve\n",
    "\n",
    "For this exercise, the plotting functions are provided for you. Unless you are interested, it is not important for you to understand how these plotting functions work.\n",
    "\n",
    "**Instructions**\n",
    "1. Run the **Define plotting functions** code cell."
   ]
  },
  {
   "cell_type": "code",
   "execution_count": 12,
   "metadata": {
    "cellView": "form",
    "id": "EE7nBxoMUtE9"
   },
   "outputs": [
    {
     "name": "stdout",
     "output_type": "stream",
     "text": [
      "SUCCESS: Defining plotting functions complete.\n"
     ]
    }
   ],
   "source": [
    "# Main function to generate visualizations\n",
    "def make_plots(df, feature_names, label_name, model_output, sample_size=200):\n",
    "    \"\"\"\n",
    "    Creates and displays plots to visualize the data, model predictions, and training process.\n",
    "\n",
    "    Parameters:\n",
    "        df (pd.DataFrame): The dataset containing features and labels.\n",
    "        feature_names (list): List of column names for features (independent variables).\n",
    "        label_name (str): The name of the target variable (dependent variable).\n",
    "        model_output (tuple): Contains weights, bias, epochs, and RMSE values for the trained model.\n",
    "        sample_size (int): Number of random samples to include in the plots (default is 200).\n",
    "    \"\"\"\n",
    "    # Step 1: Randomly sample data for plotting\n",
    "    # Sampling makes the plot faster to render while still showing a representative portion of the data\n",
    "    random_sample = df.sample(n=sample_size).copy()  # Randomly select 'sample_size' rows from the DataFrame\n",
    "    random_sample.reset_index(drop=True, inplace=True)  # Reset the index for the sampled data to ensure clean plots\n",
    "\n",
    "    # Step 2: Extract the model's parameters from the output\n",
    "    weights, bias, epochs, rmse = model_output\n",
    "\n",
    "    # Step 3: Determine the type of plot needed\n",
    "    # - If there's only one feature, use a 2D scatter plot.\n",
    "    # - If there are two features, use a 3D surface plot.\n",
    "    is_2d_plot = len(feature_names) == 1  # Check if we're dealing with 1D or 2D data\n",
    "    model_plot_type = \"scatter\" if is_2d_plot else \"surface\"  # Use scatter for 1D, surface for 2D\n",
    "\n",
    "    # Step 4: Create a subplot structure with two areas:\n",
    "    # - The first plot will show the loss curve (training progress over epochs).\n",
    "    # - The second plot will visualize the model's predictions compared to the data.\n",
    "    fig = make_subplots(\n",
    "        rows=1, cols=2,  # We want 1 row and 2 columns for the subplots\n",
    "        subplot_titles=(\"Loss Curve\", \"Model Plot\"),  # Titles for each subplot\n",
    "        specs=[[{\"type\": \"scatter\"}, {\"type\": model_plot_type}]]  # Specify plot types for each subplot\n",
    "    )\n",
    "\n",
    "    # Step 5: Add plots to the subplot\n",
    "    plot_data(random_sample, feature_names, label_name, fig)  # Visualize the original data\n",
    "    plot_model(random_sample, feature_names, weights, bias, fig)  # Visualize the model's predictions\n",
    "    plot_loss_curve(epochs, rmse, fig)  # Add the training loss curve\n",
    "\n",
    "    # Step 6: Display the completed figure with all subplots\n",
    "    fig.show()\n",
    "\n",
    "\n",
    "# Function to plot the loss curve (model training progress)\n",
    "def plot_loss_curve(epochs, rmse, fig):\n",
    "    \"\"\"\n",
    "    Plots the loss curve, showing how the error (RMSE) changes over epochs during training.\n",
    "\n",
    "    Parameters:\n",
    "        epochs (list): List of epoch numbers (iterations during training).\n",
    "        rmse (list): List of Root Mean Squared Error (RMSE) values for each epoch.\n",
    "        fig (plotly.graph_objs._figure.Figure): The subplot figure to which the curve will be added.\n",
    "    \"\"\"\n",
    "    # Create a line plot showing RMSE vs. Epochs\n",
    "    curve = px.line(x=epochs, y=rmse, labels={'x': 'Epoch', 'y': 'RMSE'})  # x-axis: epochs, y-axis: RMSE\n",
    "\n",
    "    # Customize the line's appearance for better visibility\n",
    "    curve.update_traces(line_color='#ff0000', line_width=3)  # Red color and thicker line\n",
    "\n",
    "    # Add the loss curve to the first subplot (row 1, column 1)\n",
    "    fig.add_trace(curve.data[0], row=1, col=1)\n",
    "\n",
    "    # Update axis titles and scale for the loss curve\n",
    "    fig.update_xaxes(title_text=\"Epoch\", row=1, col=1)  # Label the x-axis\n",
    "    fig.update_yaxes(\n",
    "        title_text=\"Root Mean Squared Error\", row=1, col=1,  # Label the y-axis\n",
    "        range=[min(rmse) * 0.8, max(rmse)]  # Adjust the range to give some padding for better visualization\n",
    "    )\n",
    "\n",
    "\n",
    "# Function to plot the original data points\n",
    "def plot_data(df, features, label, fig):\n",
    "    \"\"\"\n",
    "    Visualizes the original data points in either 2D (scatter) or 3D (scatter_3d) plots.\n",
    "\n",
    "    Parameters:\n",
    "        df (pd.DataFrame): The data to plot.\n",
    "        features (list): The feature columns to plot on the x-axis (and y-axis for 3D).\n",
    "        label (str): The target variable (to be plotted on the y-axis in 2D or z-axis in 3D).\n",
    "        fig (plotly.graph_objs._figure.Figure): The subplot figure to which the data plot will be added.\n",
    "    \"\"\"\n",
    "    # Check if we're plotting in 2D or 3D\n",
    "    if len(features) == 1:\n",
    "        # Create a 2D scatter plot\n",
    "        scatter = px.scatter(df, x=features[0], y=label)\n",
    "    else:\n",
    "        # Create a 3D scatter plot\n",
    "        scatter = px.scatter_3d(df, x=features[0], y=features[1], z=label)\n",
    "\n",
    "    # Add the data points to the second subplot (row 1, column 2)\n",
    "    fig.add_trace(scatter.data[0], row=1, col=2)\n",
    "\n",
    "    # Update axis labels for 2D or 3D plots\n",
    "    if len(features) == 1:\n",
    "        fig.update_xaxes(title_text=features[0], row=1, col=2)  # Label x-axis\n",
    "        fig.update_yaxes(title_text=label, row=1, col=2)  # Label y-axis\n",
    "    else:\n",
    "        # Update labels for 3D plot\n",
    "        fig.update_layout(scene=dict(\n",
    "            xaxis_title=features[0],  # Label x-axis\n",
    "            yaxis_title=features[1],  # Label y-axis\n",
    "            zaxis_title=label  # Label z-axis\n",
    "        ))\n",
    "\n",
    "\n",
    "# Function to plot the model's predictions\n",
    "def plot_model(df, features, weights, bias, fig):\n",
    "    \"\"\"\n",
    "    Overlays the model's predictions onto the original data.\n",
    "\n",
    "    Parameters:\n",
    "        df (pd.DataFrame): The dataset, including features and predictions.\n",
    "        features (list): The feature columns used for prediction.\n",
    "        weights (list): The model's weights for each feature.\n",
    "        bias (list): The model's bias term.\n",
    "        fig (plotly.graph_objs._figure.Figure): The subplot figure to which the model plot will be added.\n",
    "    \"\"\"\n",
    "    # Step 1: Compute the predicted values for the target variable\n",
    "    df['FARE_PREDICTED'] = bias[0]  # Start with the bias term\n",
    "    for index, feature in enumerate(features):\n",
    "        # Add the contribution of each feature to the predicted value\n",
    "        df['FARE_PREDICTED'] += weights[index][0] * df[feature]\n",
    "\n",
    "    # Step 2: Create a line (2D) or surface (3D) plot for the model's predictions\n",
    "    if len(features) == 1:\n",
    "        # Create a 2D line plot for the predictions\n",
    "        model = px.line(df, x=features[0], y='FARE_PREDICTED')\n",
    "        model.update_traces(line_color='#ff0000', line_width=3)  # Customize appearance\n",
    "    else:\n",
    "        # Create a 3D surface plot for predictions (useful for 2D input features)\n",
    "        x = df[features[0]]\n",
    "        y = df[features[1]]\n",
    "        z = df['FARE_PREDICTED']\n",
    "        model = go.Figure(data=go.Surface(z=[z], x=x, y=y))\n",
    "\n",
    "    # Add the model plot to the second subplot (row 1, column 2)\n",
    "    fig.add_trace(model.data[0], row=1, col=2)\n",
    "\n",
    "\n",
    "# Function to display model details\n",
    "def model_info(feature_names, label_name, model_output):\n",
    "    \"\"\"\n",
    "    Prints the model equation, weights, and bias in a readable format.\n",
    "\n",
    "    Parameters:\n",
    "        feature_names (list): List of feature column names.\n",
    "        label_name (str): The target variable name.\n",
    "        model_output (tuple): Contains the model weights and bias.\n",
    "    \"\"\"\n",
    "    weights = model_output[0]  # Extract weights\n",
    "    bias = model_output[1]  # Extract bias\n",
    "\n",
    "    # Prepare a formatted string with model details\n",
    "    nl = \"\\n\"  # Newline character for readability\n",
    "    header = \"-\" * 80  # Decorative separator\n",
    "    banner = header + nl + \"|\" + \"MODEL INFO\".center(78) + \"|\" + nl + header  # Title banner\n",
    "\n",
    "    info = \"\"  # Initialize an empty string to hold the model info\n",
    "    equation = f\"{label_name} = \"  # Start the equation with the target variable\n",
    "\n",
    "    # Loop through features to add their weights to the equation\n",
    "    for index, feature in enumerate(feature_names):\n",
    "        info += f\"Weight for feature [{feature}]: {weights[index][0]:.3f}\\n\"  # Add weight details\n",
    "        equation += f\"{weights[index][0]:.3f} * {feature} + \"  # Add feature contribution to the equation\n",
    "\n",
    "    # Add the bias term to the info and equation\n",
    "    info += f\"Bias: {bias[0]:.3f}\\n\"\n",
    "    equation += f\"{bias[0]:.3f}\\n\"\n",
    "\n",
    "    # Return the complete formatted string\n",
    "    return banner + nl + info + nl + equation\n",
    "\n",
    "\n",
    "# Confirmation message\n",
    "print(\"SUCCESS: Defining plotting functions complete.\")\n"
   ]
  },
  {
   "cell_type": "markdown",
   "metadata": {
    "id": "iRluiQhNvTwc"
   },
   "source": [
    "## Define functions to build and train a model\n",
    "\n",
    "The code you need to build and train your model is in the **Define ML functions** code cell. If you would like to explore this code, expand the code cell and take a look.\n",
    "\n",
    "**Instructions**\n",
    "1. Run the **Define ML functions** code cell."
   ]
  },
  {
   "cell_type": "code",
   "execution_count": 13,
   "metadata": {
    "cellView": "form",
    "id": "W6a7dtcCob-n"
   },
   "outputs": [
    {
     "name": "stdout",
     "output_type": "stream",
     "text": [
      "SUCCESS: Defining linear regression functions complete.\n"
     ]
    }
   ],
   "source": [
    "# Function to create and compile a simple linear regression model\n",
    "def build_model(my_learning_rate, num_features):\n",
    "    \"\"\"\n",
    "    Creates and compiles a simple linear regression model.\n",
    "\n",
    "    Parameters:\n",
    "        my_learning_rate (float): The learning rate for the optimizer.\n",
    "        num_features (int): The number of features (input variables) for the model.\n",
    "\n",
    "    Returns:\n",
    "        keras.Model: A compiled Keras model ready for training.\n",
    "    \"\"\"\n",
    "    # Define the input layer, which expects 'num_features' inputs\n",
    "    inputs = keras.Input(shape=(num_features,))\n",
    "\n",
    "    # Define the output layer, which predicts a single numeric value\n",
    "    outputs = keras.layers.Dense(units=1)(inputs)\n",
    "\n",
    "    # Combine the input and output layers into a model\n",
    "    model = keras.Model(inputs=inputs, outputs=outputs)\n",
    "\n",
    "    # Compile the model:\n",
    "    # - Optimizer: RMSprop with the specified learning rate (adjusts weights during training).\n",
    "    # - Loss: Mean Squared Error (measures prediction accuracy).\n",
    "    # - Metric: Root Mean Squared Error (monitors training performance).\n",
    "    model.compile(\n",
    "        optimizer=keras.optimizers.RMSprop(learning_rate=my_learning_rate),\n",
    "        loss=\"mean_squared_error\",\n",
    "        metrics=[keras.metrics.RootMeanSquaredError()]\n",
    "    )\n",
    "\n",
    "    return model\n",
    "\n",
    "\n",
    "# Function to train the model on a dataset\n",
    "def train_model(model, df, features, label, epochs, batch_size):\n",
    "    \"\"\"\n",
    "    Trains the model by feeding it features and labels.\n",
    "\n",
    "    Parameters:\n",
    "        model (keras.Model): The compiled Keras model.\n",
    "        df (pd.DataFrame): The dataset (not directly used here but passed for reference).\n",
    "        features (np.ndarray): The input features for training.\n",
    "        label (np.ndarray): The target values for training.\n",
    "        epochs (int): The number of training iterations.\n",
    "        batch_size (int): The number of samples per training batch.\n",
    "\n",
    "    Returns:\n",
    "        tuple: Contains the trained weights, bias, epochs list, and RMSE per epoch.\n",
    "    \"\"\"\n",
    "    # Train the model using the features and labels\n",
    "    # - batch_size: Number of samples processed at a time during training.\n",
    "    # - epochs: Number of full passes through the dataset.\n",
    "    history = model.fit(\n",
    "        x=features,  # Input features (independent variables)\n",
    "        y=label,     # Target values (dependent variable)\n",
    "        batch_size=batch_size,\n",
    "        epochs=epochs\n",
    "    )\n",
    "\n",
    "    # Retrieve the model's trained weights (parameters) and bias\n",
    "    trained_weight = model.get_weights()[0]  # Weights for each feature\n",
    "    trained_bias = model.get_weights()[1]    # Bias term\n",
    "\n",
    "    # Extract the epoch numbers from the training history\n",
    "    epochs = history.epoch\n",
    "\n",
    "    # Convert the training history (loss, metrics) into a DataFrame for analysis\n",
    "    hist = pd.DataFrame(history.history)\n",
    "\n",
    "    # Extract the RMSE for each epoch (monitors training progress)\n",
    "    rmse = hist[\"root_mean_squared_error\"]\n",
    "\n",
    "    return trained_weight, trained_bias, epochs, rmse\n",
    "\n",
    "\n",
    "# Function to run a complete training experiment\n",
    "def run_experiment(df, feature_names, label_name, learning_rate, epochs, batch_size):\n",
    "    \"\"\"\n",
    "    Runs a training experiment by building, training, and evaluating a model.\n",
    "\n",
    "    Parameters:\n",
    "        df (pd.DataFrame): The dataset containing features and labels.\n",
    "        feature_names (list): The names of the features (independent variables).\n",
    "        label_name (str): The name of the target variable (dependent variable).\n",
    "        learning_rate (float): The learning rate for the optimizer.\n",
    "        epochs (int): The number of training iterations.\n",
    "        batch_size (int): The number of samples per training batch.\n",
    "\n",
    "    Returns:\n",
    "        keras.Model: The trained Keras model.\n",
    "    \"\"\"\n",
    "    print('INFO: Starting training experiment with features={} and label={}\\n'.format(feature_names, label_name))\n",
    "\n",
    "    # Step 1: Count the number of features\n",
    "    num_features = len(feature_names)\n",
    "\n",
    "    # Step 2: Extract features and labels from the DataFrame\n",
    "    features = df.loc[:, feature_names].values  # Extract feature columns as a NumPy array\n",
    "    label = df[label_name].values               # Extract the target column as a NumPy array\n",
    "\n",
    "    # Step 3: Build a linear regression model with the specified learning rate\n",
    "    model = build_model(learning_rate, num_features)\n",
    "\n",
    "    # Step 4: Train the model and capture training metrics (weights, bias, epochs, RMSE)\n",
    "    model_output = train_model(model, df, features, label, epochs, batch_size)\n",
    "\n",
    "    print('\\nSUCCESS: Training experiment complete\\n')\n",
    "\n",
    "    # Step 5: Display the model's details and weights\n",
    "    print('{}'.format(model_info(feature_names, label_name, model_output)))\n",
    "\n",
    "    # Step 6: Visualize the model's performance (loss curve and predictions)\n",
    "    make_plots(df, feature_names, label_name, model_output)\n",
    "\n",
    "    return model  # Return the trained model\n",
    "\n",
    "\n",
    "# Confirmation message to indicate successful definition of the functions\n",
    "print(\"SUCCESS: Defining linear regression functions complete.\")\n"
   ]
  },
  {
   "cell_type": "markdown",
   "metadata": {
    "id": "m3DQCE2OpH4-"
   },
   "source": [
    "## Train a model with one feature\n",
    "\n",
    "In this step you will train a model to predict the cost of the fare using a **single feature**. Earlier, you saw that `TRIP_MILES` (distance) correlates most strongly with the ``FARE``, so let's start with `TRIP_MILES` as the feature for your first training run.\n",
    "\n",
    "**Instructions**\n",
    "\n",
    "1. Run the **Experiment 1** code cell to build your model with one feature.\n",
    "1. Review the output from the training run\n",
    "1. **Check your understanding** by answering these questions:\n",
    "  * How many epochs did it take to converge on the final model?\n",
    "  * How well does the model fit the sample data?\n",
    "\n",
    "During training, you should see the root mean square error (RMSE) in the output. The units for RMSE are the same as the units for the label (dollars). In other words, you can use the RMSE to determine how far off, on average, the predicted fares are in dollars from the observed values."
   ]
  },
  {
   "cell_type": "code",
   "execution_count": 14,
   "metadata": {
    "cellView": "form",
    "id": "F_17Aum6IG1F"
   },
   "outputs": [
    {
     "name": "stdout",
     "output_type": "stream",
     "text": [
      "INFO: Starting training experiment with features=['TRIP_MILES'] and label=FARE\n",
      "\n",
      "Epoch 1/20\n",
      "\u001b[1m634/634\u001b[0m \u001b[32m━━━━━━━━━━━━━━━━━━━━\u001b[0m\u001b[37m\u001b[0m \u001b[1m1s\u001b[0m 477us/step - loss: 1289.4154 - root_mean_squared_error: 35.8901\n",
      "Epoch 2/20\n",
      "\u001b[1m634/634\u001b[0m \u001b[32m━━━━━━━━━━━━━━━━━━━━\u001b[0m\u001b[37m\u001b[0m \u001b[1m0s\u001b[0m 484us/step - loss: 821.9614 - root_mean_squared_error: 28.6501\n",
      "Epoch 3/20\n",
      "\u001b[1m634/634\u001b[0m \u001b[32m━━━━━━━━━━━━━━━━━━━━\u001b[0m\u001b[37m\u001b[0m \u001b[1m0s\u001b[0m 458us/step - loss: 453.9261 - root_mean_squared_error: 21.2844\n",
      "Epoch 4/20\n",
      "\u001b[1m634/634\u001b[0m \u001b[32m━━━━━━━━━━━━━━━━━━━━\u001b[0m\u001b[37m\u001b[0m \u001b[1m0s\u001b[0m 472us/step - loss: 202.7274 - root_mean_squared_error: 14.2073\n",
      "Epoch 5/20\n",
      "\u001b[1m634/634\u001b[0m \u001b[32m━━━━━━━━━━━━━━━━━━━━\u001b[0m\u001b[37m\u001b[0m \u001b[1m0s\u001b[0m 462us/step - loss: 60.8452 - root_mean_squared_error: 7.7521\n",
      "Epoch 6/20\n",
      "\u001b[1m634/634\u001b[0m \u001b[32m━━━━━━━━━━━━━━━━━━━━\u001b[0m\u001b[37m\u001b[0m \u001b[1m0s\u001b[0m 464us/step - loss: 16.4068 - root_mean_squared_error: 4.0438\n",
      "Epoch 7/20\n",
      "\u001b[1m634/634\u001b[0m \u001b[32m━━━━━━━━━━━━━━━━━━━━\u001b[0m\u001b[37m\u001b[0m \u001b[1m0s\u001b[0m 466us/step - loss: 14.4448 - root_mean_squared_error: 3.7888\n",
      "Epoch 8/20\n",
      "\u001b[1m634/634\u001b[0m \u001b[32m━━━━━━━━━━━━━━━━━━━━\u001b[0m\u001b[37m\u001b[0m \u001b[1m0s\u001b[0m 460us/step - loss: 13.6996 - root_mean_squared_error: 3.6986\n",
      "Epoch 9/20\n",
      "\u001b[1m634/634\u001b[0m \u001b[32m━━━━━━━━━━━━━━━━━━━━\u001b[0m\u001b[37m\u001b[0m \u001b[1m0s\u001b[0m 457us/step - loss: 14.3512 - root_mean_squared_error: 3.7811\n",
      "Epoch 10/20\n",
      "\u001b[1m634/634\u001b[0m \u001b[32m━━━━━━━━━━━━━━━━━━━━\u001b[0m\u001b[37m\u001b[0m \u001b[1m0s\u001b[0m 469us/step - loss: 13.0506 - root_mean_squared_error: 3.6038\n",
      "Epoch 11/20\n",
      "\u001b[1m634/634\u001b[0m \u001b[32m━━━━━━━━━━━━━━━━━━━━\u001b[0m\u001b[37m\u001b[0m \u001b[1m0s\u001b[0m 457us/step - loss: 13.2453 - root_mean_squared_error: 3.6299\n",
      "Epoch 12/20\n",
      "\u001b[1m634/634\u001b[0m \u001b[32m━━━━━━━━━━━━━━━━━━━━\u001b[0m\u001b[37m\u001b[0m \u001b[1m0s\u001b[0m 458us/step - loss: 13.5790 - root_mean_squared_error: 3.6818\n",
      "Epoch 13/20\n",
      "\u001b[1m634/634\u001b[0m \u001b[32m━━━━━━━━━━━━━━━━━━━━\u001b[0m\u001b[37m\u001b[0m \u001b[1m0s\u001b[0m 457us/step - loss: 13.7951 - root_mean_squared_error: 3.7113\n",
      "Epoch 14/20\n",
      "\u001b[1m634/634\u001b[0m \u001b[32m━━━━━━━━━━━━━━━━━━━━\u001b[0m\u001b[37m\u001b[0m \u001b[1m0s\u001b[0m 465us/step - loss: 13.4161 - root_mean_squared_error: 3.6594\n",
      "Epoch 15/20\n",
      "\u001b[1m634/634\u001b[0m \u001b[32m━━━━━━━━━━━━━━━━━━━━\u001b[0m\u001b[37m\u001b[0m \u001b[1m0s\u001b[0m 462us/step - loss: 13.8691 - root_mean_squared_error: 3.7204\n",
      "Epoch 16/20\n",
      "\u001b[1m634/634\u001b[0m \u001b[32m━━━━━━━━━━━━━━━━━━━━\u001b[0m\u001b[37m\u001b[0m \u001b[1m0s\u001b[0m 450us/step - loss: 14.3256 - root_mean_squared_error: 3.7814\n",
      "Epoch 17/20\n",
      "\u001b[1m634/634\u001b[0m \u001b[32m━━━━━━━━━━━━━━━━━━━━\u001b[0m\u001b[37m\u001b[0m \u001b[1m0s\u001b[0m 451us/step - loss: 14.4682 - root_mean_squared_error: 3.7926\n",
      "Epoch 18/20\n",
      "\u001b[1m634/634\u001b[0m \u001b[32m━━━━━━━━━━━━━━━━━━━━\u001b[0m\u001b[37m\u001b[0m \u001b[1m0s\u001b[0m 465us/step - loss: 15.1499 - root_mean_squared_error: 3.8817\n",
      "Epoch 19/20\n",
      "\u001b[1m634/634\u001b[0m \u001b[32m━━━━━━━━━━━━━━━━━━━━\u001b[0m\u001b[37m\u001b[0m \u001b[1m0s\u001b[0m 455us/step - loss: 13.8059 - root_mean_squared_error: 3.7104\n",
      "Epoch 20/20\n",
      "\u001b[1m634/634\u001b[0m \u001b[32m━━━━━━━━━━━━━━━━━━━━\u001b[0m\u001b[37m\u001b[0m \u001b[1m0s\u001b[0m 465us/step - loss: 15.0671 - root_mean_squared_error: 3.8640\n",
      "\n",
      "SUCCESS: Training experiment complete\n",
      "\n",
      "--------------------------------------------------------------------------------\n",
      "|                                  MODEL INFO                                  |\n",
      "--------------------------------------------------------------------------------\n",
      "Weight for feature [TRIP_MILES]: 2.282\n",
      "Bias: 4.987\n",
      "\n",
      "FARE = 2.282 * TRIP_MILES + 4.987\n",
      "\n"
     ]
    },
    {
     "data": {
      "application/vnd.plotly.v1+json": {
       "config": {
        "plotlyServerURL": "https://plot.ly"
       },
       "data": [
        {
         "hovertemplate": "TRIP_MILES=%{x}<br>FARE=%{y}<extra></extra>",
         "legendgroup": "",
         "marker": {
          "color": "#636efa",
          "symbol": "circle"
         },
         "mode": "markers",
         "name": "",
         "orientation": "v",
         "showlegend": false,
         "type": "scatter",
         "x": [
          2.2,
          7.3,
          1.3,
          4.53,
          18.24,
          1.23,
          2.5,
          11.09,
          18.1,
          17.6,
          17.91,
          12.5,
          16.49,
          0.5,
          2.6,
          21.3,
          1.7,
          0.98,
          18.58,
          14.17,
          1.5,
          0.9,
          6.4,
          17.96,
          26.41,
          19.42,
          3.2,
          8.3,
          1.09,
          2.48,
          18.2,
          17.1,
          4.32,
          10.7,
          11.17,
          0.93,
          10.42,
          1.12,
          23.6,
          17.4,
          7.37,
          1.06,
          12.8,
          17.21,
          7.81,
          1.67,
          30.34,
          13.5,
          16.98,
          4.51,
          1.92,
          17.68,
          12.83,
          2.66,
          2.26,
          1.8,
          3.2,
          19.63,
          3.7,
          14.4,
          2.43,
          5.09,
          1.47,
          4.95,
          1.8,
          1.6,
          4.49,
          5.01,
          3.82,
          13.46,
          1.24,
          11.1,
          17.68,
          1.61,
          15.3,
          17,
          19.36,
          12.22,
          17.74,
          14.2,
          18,
          9.91,
          6.53,
          17.3,
          1.6,
          2,
          1.56,
          1,
          6.57,
          14.3,
          17.2,
          27.9,
          11.32,
          1.5,
          2.76,
          2.01,
          1.13,
          2.8,
          4.2,
          1.34,
          0.79,
          14.88,
          1.3,
          5.6,
          9.77,
          0.68,
          6.8,
          12.53,
          17,
          4.9,
          26.44,
          2.66,
          3.41,
          3.16,
          16.06,
          10.71,
          0.94,
          1.45,
          1.1,
          1.81,
          17.13,
          1.1,
          1.22,
          2.8,
          17.19,
          6.11,
          1.44,
          17.6,
          17.79,
          18.44,
          3.28,
          16.7,
          17.97,
          16.52,
          2.8,
          1.46,
          2.7,
          16.7,
          1.16,
          3.64,
          13.8,
          1.11,
          9.82,
          2.56,
          0.97,
          22.07,
          5.8,
          0.9,
          20.99,
          1.16,
          0.97,
          18.69,
          1.75,
          21,
          1.36,
          0.9,
          2.48,
          11.8,
          2.7,
          2.7,
          3.31,
          1.01,
          1.03,
          2.62,
          0.54,
          2.5,
          16.67,
          5.7,
          1.06,
          0.99,
          0.95,
          1.12,
          2.6,
          1.1,
          9.35,
          0.95,
          18.39,
          1.43,
          1.58,
          0.51,
          16.16,
          12.9,
          18.03,
          19.64,
          14.93,
          18.13,
          6.44,
          0.6,
          0.71,
          17.03,
          0.72,
          2.58,
          10.33,
          0.83,
          1.4,
          17.38,
          10.45,
          4.91,
          5.71,
          1.88
         ],
         "xaxis": "x2",
         "y": [
          10.25,
          22.25,
          7.25,
          14.25,
          46.5,
          7,
          10.5,
          28.5,
          46.5,
          44.5,
          45.5,
          34.5,
          41.55,
          5,
          10.25,
          51.5,
          7.5,
          6.75,
          45.25,
          40.23,
          7.25,
          5.5,
          19.5,
          44.5,
          64.5,
          51.75,
          11.75,
          23.25,
          6.5,
          9.75,
          44.5,
          45,
          13.9,
          28.75,
          32.75,
          6,
          27.75,
          6.5,
          59,
          44,
          24,
          9,
          34.5,
          42.75,
          23,
          8.25,
          74,
          33.75,
          41.75,
          13.5,
          9,
          43.25,
          33.75,
          10.04,
          9.85,
          8.75,
          11.25,
          50.5,
          12.75,
          36,
          9,
          17.59,
          7.5,
          9.56,
          9.25,
          7.5,
          15.75,
          16.75,
          14.9,
          36.25,
          7.25,
          31.25,
          43.75,
          8,
          38.5,
          42.25,
          50.5,
          30.75,
          44,
          36.5,
          44.75,
          29.75,
          19.25,
          43.75,
          7.5,
          9,
          7.5,
          5.75,
          19.5,
          41.25,
          42.75,
          66.75,
          30.25,
          9,
          11.25,
          11.29,
          6.5,
          10.75,
          13.5,
          9,
          6.25,
          42.5,
          7.75,
          17,
          30,
          6.25,
          20.5,
          34.25,
          42.25,
          15.5,
          65,
          11,
          12.56,
          9.43,
          40.25,
          30.25,
          9,
          7.25,
          6.75,
          8.25,
          46.02,
          6.75,
          8.75,
          10.75,
          42.75,
          18.5,
          7.25,
          44.25,
          44.25,
          46,
          12.25,
          42.5,
          49.5,
          43.25,
          10.5,
          7.75,
          10.25,
          42,
          6.25,
          12,
          35.75,
          8,
          27.25,
          9.9,
          9,
          55,
          17.92,
          5.5,
          51.25,
          9,
          9,
          45.75,
          8,
          51.5,
          7.75,
          6,
          10,
          30.25,
          14.25,
          11.75,
          11.75,
          6.25,
          6.25,
          10.5,
          5,
          10.5,
          42.25,
          18.25,
          6.25,
          6.25,
          5.75,
          6.5,
          10.75,
          6.25,
          59.91,
          6.5,
          46.25,
          7.5,
          8,
          5,
          44.86,
          33,
          45.25,
          50.25,
          38.75,
          44.75,
          21,
          5,
          5.25,
          42,
          6,
          10,
          30.25,
          9,
          7.5,
          42.25,
          30.5,
          16.25,
          15.79,
          7.75
         ],
         "yaxis": "y2"
        },
        {
         "hovertemplate": "TRIP_MILES=%{x}<br>FARE_PREDICTED=%{y}<extra></extra>",
         "legendgroup": "",
         "line": {
          "color": "#ff0000",
          "dash": "solid",
          "width": 3
         },
         "marker": {
          "symbol": "circle"
         },
         "mode": "lines",
         "name": "",
         "orientation": "v",
         "showlegend": false,
         "type": "scatter",
         "x": [
          2.2,
          7.3,
          1.3,
          4.53,
          18.24,
          1.23,
          2.5,
          11.09,
          18.1,
          17.6,
          17.91,
          12.5,
          16.49,
          0.5,
          2.6,
          21.3,
          1.7,
          0.98,
          18.58,
          14.17,
          1.5,
          0.9,
          6.4,
          17.96,
          26.41,
          19.42,
          3.2,
          8.3,
          1.09,
          2.48,
          18.2,
          17.1,
          4.32,
          10.7,
          11.17,
          0.93,
          10.42,
          1.12,
          23.6,
          17.4,
          7.37,
          1.06,
          12.8,
          17.21,
          7.81,
          1.67,
          30.34,
          13.5,
          16.98,
          4.51,
          1.92,
          17.68,
          12.83,
          2.66,
          2.26,
          1.8,
          3.2,
          19.63,
          3.7,
          14.4,
          2.43,
          5.09,
          1.47,
          4.95,
          1.8,
          1.6,
          4.49,
          5.01,
          3.82,
          13.46,
          1.24,
          11.1,
          17.68,
          1.61,
          15.3,
          17,
          19.36,
          12.22,
          17.74,
          14.2,
          18,
          9.91,
          6.53,
          17.3,
          1.6,
          2,
          1.56,
          1,
          6.57,
          14.3,
          17.2,
          27.9,
          11.32,
          1.5,
          2.76,
          2.01,
          1.13,
          2.8,
          4.2,
          1.34,
          0.79,
          14.88,
          1.3,
          5.6,
          9.77,
          0.68,
          6.8,
          12.53,
          17,
          4.9,
          26.44,
          2.66,
          3.41,
          3.16,
          16.06,
          10.71,
          0.94,
          1.45,
          1.1,
          1.81,
          17.13,
          1.1,
          1.22,
          2.8,
          17.19,
          6.11,
          1.44,
          17.6,
          17.79,
          18.44,
          3.28,
          16.7,
          17.97,
          16.52,
          2.8,
          1.46,
          2.7,
          16.7,
          1.16,
          3.64,
          13.8,
          1.11,
          9.82,
          2.56,
          0.97,
          22.07,
          5.8,
          0.9,
          20.99,
          1.16,
          0.97,
          18.69,
          1.75,
          21,
          1.36,
          0.9,
          2.48,
          11.8,
          2.7,
          2.7,
          3.31,
          1.01,
          1.03,
          2.62,
          0.54,
          2.5,
          16.67,
          5.7,
          1.06,
          0.99,
          0.95,
          1.12,
          2.6,
          1.1,
          9.35,
          0.95,
          18.39,
          1.43,
          1.58,
          0.51,
          16.16,
          12.9,
          18.03,
          19.64,
          14.93,
          18.13,
          6.44,
          0.6,
          0.71,
          17.03,
          0.72,
          2.58,
          10.33,
          0.83,
          1.4,
          17.38,
          10.45,
          4.91,
          5.71,
          1.88
         ],
         "xaxis": "x2",
         "y": [
          10.00762233734131,
          21.64716019630432,
          7.95358624458313,
          15.325293555259705,
          46.615110034942624,
          7.7938278818130495,
          10.692301034927368,
          30.29693440914154,
          46.29559330940247,
          45.15446214675904,
          45.86196346759796,
          33.51492428779602,
          42.62115096569061,
          6.127776384353638,
          10.920527267456055,
          53.59883275032043,
          8.866491174697876,
          7.223262300491333,
          47.39107922554016,
          37.326302371025086,
          8.410038709640503,
          7.040681314468384,
          19.593124103546145,
          45.97607658386231,
          65.26119323253631,
          49.30817957878113,
          12.289884662628175,
          23.92942252159119,
          7.474311156272888,
          10.646655788421631,
          46.523819541931154,
          44.013330984115605,
          14.846018466949463,
          29.40685210227966,
          30.47951539516449,
          7.10914918422699,
          28.76781865119934,
          7.542779026031495,
          58.84803609848023,
          44.698009681701656,
          21.8069185590744,
          7.4058432865142825,
          34.199602985382086,
          44.26437983989716,
          22.81111398220062,
          8.79802330493927,
          74.2304841709137,
          35.797186613082886,
          43.73945950508118,
          15.279648308753966,
          9.368588886260987,
          45.33704313278198,
          34.268070855140685,
          11.057463006973267,
          10.14455807685852,
          9.094717407226563,
          12.289884662628175,
          49.78745466709137,
          13.431015825271606,
          37.85122270584107,
          10.532542672157287,
          16.60336045742035,
          8.341570839881896,
          16.28384373188019,
          9.094717407226563,
          8.63826494216919,
          15.234003062248231,
          16.4207794713974,
          13.70488730430603,
          35.705896120071415,
          7.816650505065918,
          30.31975703239441,
          45.33704313278198,
          8.661087565422058,
          39.90525879859924,
          43.785104751586914,
          49.171243839263916,
          32.8758908367157,
          45.47397887229919,
          37.39477024078369,
          46.06736707687378,
          27.60386486530304,
          19.889818205833436,
          44.46978344917297,
          8.63826494216919,
          9.551169872283936,
          8.546974449157716,
          7.26890754699707,
          19.98110869884491,
          37.62299647331238,
          44.24155721664429,
          68.66176409721373,
          30.82185474395752,
          8.410038709640503,
          11.285689239501952,
          9.573992495536803,
          7.565601649284362,
          11.376979732513426,
          14.572146987915039,
          8.044876737594604,
          6.789632458686828,
          38.946708621978765,
          7.95358624458313,
          17.767314243316648,
          27.284348139762876,
          6.538583602905273,
          20.506029033660887,
          33.58339215755463,
          43.785104751586914,
          16.169730615615848,
          65.32966110229492,
          11.057463006973267,
          12.769159750938416,
          12.1985941696167,
          41.639778165817255,
          29.429674725532532,
          7.131971807479858,
          8.29592559337616,
          7.4971337795257575,
          9.117540030479432,
          44.081798853874204,
          7.4971337795257575,
          7.77100525856018,
          11.376979732513426,
          44.218734593391424,
          18.93126802921295,
          8.27310297012329,
          45.15446214675904,
          45.588091988563534,
          47.071562500000006,
          12.472465648651124,
          43.100426054000856,
          45.99889920711517,
          42.68961883544922,
          11.376979732513426,
          8.318748216629029,
          11.148753499984743,
          43.100426054000856,
          7.634069519042969,
          13.294080085754395,
          36.48186531066895,
          7.519956402778625,
          27.398461256027222,
          10.829236774444581,
          7.200439677238464,
          55.356174740791324,
          18.223766708374022,
          7.040681314468384,
          52.891331429481504,
          7.634069519042969,
          7.200439677238464,
          47.64212808132172,
          8.98060429096222,
          52.914154052734375,
          8.090521984100342,
          7.040681314468384,
          10.646655788421631,
          31.917340660095217,
          11.148753499984743,
          11.148753499984743,
          12.54093351840973,
          7.291730170249939,
          7.337375416755677,
          10.966172513961792,
          6.219066877365112,
          10.692301034927368,
          43.03195818424225,
          17.99554047584534,
          7.4058432865142825,
          7.246084923744202,
          7.154794430732727,
          7.542779026031495,
          10.920527267456055,
          7.4971337795257575,
          26.325797963142396,
          7.154794430732727,
          46.95744938373566,
          8.250280346870422,
          8.592619695663451,
          6.150599007606506,
          41.868004398345946,
          34.42782921791077,
          46.135834946632386,
          49.81027729034424,
          39.0608217382431,
          46.36406117916107,
          19.684414596557616,
          6.356002616882324,
          6.60705147266388,
          43.85357262134552,
          6.6298740959167475,
          10.874882020950317,
          28.562415041923522,
          6.880922951698303,
          8.181812477111816,
          44.65236443519592,
          28.836286520957945,
          16.19255323886871,
          18.018363099098206,
          9.277298393249511
         ],
         "yaxis": "y2"
        },
        {
         "hovertemplate": "Epoch=%{x}<br>RMSE=%{y}<extra></extra>",
         "legendgroup": "",
         "line": {
          "color": "#ff0000",
          "dash": "solid",
          "width": 3
         },
         "marker": {
          "symbol": "circle"
         },
         "mode": "lines",
         "name": "",
         "orientation": "v",
         "showlegend": false,
         "type": "scatter",
         "x": [
          0,
          1,
          2,
          3,
          4,
          5,
          6,
          7,
          8,
          9,
          10,
          11,
          12,
          13,
          14,
          15,
          16,
          17,
          18,
          19
         ],
         "xaxis": "x",
         "y": [
          34.00395584106445,
          26.782485961914062,
          19.60950469970703,
          12.626514434814453,
          6.406854152679443,
          3.9092936515808105,
          3.8252460956573486,
          3.783444881439209,
          3.7622036933898926,
          3.752258777618408,
          3.74853253364563,
          3.7472050189971924,
          3.746037721633911,
          3.7465271949768066,
          3.7454288005828857,
          3.7458887100219727,
          3.7460014820098877,
          3.745993137359619,
          3.7452011108398438,
          3.745690107345581
         ],
         "yaxis": "y"
        }
       ],
       "layout": {
        "annotations": [
         {
          "font": {
           "size": 16
          },
          "showarrow": false,
          "text": "Loss Curve",
          "x": 0.225,
          "xanchor": "center",
          "xref": "paper",
          "y": 1,
          "yanchor": "bottom",
          "yref": "paper"
         },
         {
          "font": {
           "size": 16
          },
          "showarrow": false,
          "text": "Model Plot",
          "x": 0.775,
          "xanchor": "center",
          "xref": "paper",
          "y": 1,
          "yanchor": "bottom",
          "yref": "paper"
         }
        ],
        "template": {
         "data": {
          "bar": [
           {
            "error_x": {
             "color": "#2a3f5f"
            },
            "error_y": {
             "color": "#2a3f5f"
            },
            "marker": {
             "line": {
              "color": "#E5ECF6",
              "width": 0.5
             },
             "pattern": {
              "fillmode": "overlay",
              "size": 10,
              "solidity": 0.2
             }
            },
            "type": "bar"
           }
          ],
          "barpolar": [
           {
            "marker": {
             "line": {
              "color": "#E5ECF6",
              "width": 0.5
             },
             "pattern": {
              "fillmode": "overlay",
              "size": 10,
              "solidity": 0.2
             }
            },
            "type": "barpolar"
           }
          ],
          "carpet": [
           {
            "aaxis": {
             "endlinecolor": "#2a3f5f",
             "gridcolor": "white",
             "linecolor": "white",
             "minorgridcolor": "white",
             "startlinecolor": "#2a3f5f"
            },
            "baxis": {
             "endlinecolor": "#2a3f5f",
             "gridcolor": "white",
             "linecolor": "white",
             "minorgridcolor": "white",
             "startlinecolor": "#2a3f5f"
            },
            "type": "carpet"
           }
          ],
          "choropleth": [
           {
            "colorbar": {
             "outlinewidth": 0,
             "ticks": ""
            },
            "type": "choropleth"
           }
          ],
          "contour": [
           {
            "colorbar": {
             "outlinewidth": 0,
             "ticks": ""
            },
            "colorscale": [
             [
              0,
              "#0d0887"
             ],
             [
              0.1111111111111111,
              "#46039f"
             ],
             [
              0.2222222222222222,
              "#7201a8"
             ],
             [
              0.3333333333333333,
              "#9c179e"
             ],
             [
              0.4444444444444444,
              "#bd3786"
             ],
             [
              0.5555555555555556,
              "#d8576b"
             ],
             [
              0.6666666666666666,
              "#ed7953"
             ],
             [
              0.7777777777777778,
              "#fb9f3a"
             ],
             [
              0.8888888888888888,
              "#fdca26"
             ],
             [
              1,
              "#f0f921"
             ]
            ],
            "type": "contour"
           }
          ],
          "contourcarpet": [
           {
            "colorbar": {
             "outlinewidth": 0,
             "ticks": ""
            },
            "type": "contourcarpet"
           }
          ],
          "heatmap": [
           {
            "colorbar": {
             "outlinewidth": 0,
             "ticks": ""
            },
            "colorscale": [
             [
              0,
              "#0d0887"
             ],
             [
              0.1111111111111111,
              "#46039f"
             ],
             [
              0.2222222222222222,
              "#7201a8"
             ],
             [
              0.3333333333333333,
              "#9c179e"
             ],
             [
              0.4444444444444444,
              "#bd3786"
             ],
             [
              0.5555555555555556,
              "#d8576b"
             ],
             [
              0.6666666666666666,
              "#ed7953"
             ],
             [
              0.7777777777777778,
              "#fb9f3a"
             ],
             [
              0.8888888888888888,
              "#fdca26"
             ],
             [
              1,
              "#f0f921"
             ]
            ],
            "type": "heatmap"
           }
          ],
          "heatmapgl": [
           {
            "colorbar": {
             "outlinewidth": 0,
             "ticks": ""
            },
            "colorscale": [
             [
              0,
              "#0d0887"
             ],
             [
              0.1111111111111111,
              "#46039f"
             ],
             [
              0.2222222222222222,
              "#7201a8"
             ],
             [
              0.3333333333333333,
              "#9c179e"
             ],
             [
              0.4444444444444444,
              "#bd3786"
             ],
             [
              0.5555555555555556,
              "#d8576b"
             ],
             [
              0.6666666666666666,
              "#ed7953"
             ],
             [
              0.7777777777777778,
              "#fb9f3a"
             ],
             [
              0.8888888888888888,
              "#fdca26"
             ],
             [
              1,
              "#f0f921"
             ]
            ],
            "type": "heatmapgl"
           }
          ],
          "histogram": [
           {
            "marker": {
             "pattern": {
              "fillmode": "overlay",
              "size": 10,
              "solidity": 0.2
             }
            },
            "type": "histogram"
           }
          ],
          "histogram2d": [
           {
            "colorbar": {
             "outlinewidth": 0,
             "ticks": ""
            },
            "colorscale": [
             [
              0,
              "#0d0887"
             ],
             [
              0.1111111111111111,
              "#46039f"
             ],
             [
              0.2222222222222222,
              "#7201a8"
             ],
             [
              0.3333333333333333,
              "#9c179e"
             ],
             [
              0.4444444444444444,
              "#bd3786"
             ],
             [
              0.5555555555555556,
              "#d8576b"
             ],
             [
              0.6666666666666666,
              "#ed7953"
             ],
             [
              0.7777777777777778,
              "#fb9f3a"
             ],
             [
              0.8888888888888888,
              "#fdca26"
             ],
             [
              1,
              "#f0f921"
             ]
            ],
            "type": "histogram2d"
           }
          ],
          "histogram2dcontour": [
           {
            "colorbar": {
             "outlinewidth": 0,
             "ticks": ""
            },
            "colorscale": [
             [
              0,
              "#0d0887"
             ],
             [
              0.1111111111111111,
              "#46039f"
             ],
             [
              0.2222222222222222,
              "#7201a8"
             ],
             [
              0.3333333333333333,
              "#9c179e"
             ],
             [
              0.4444444444444444,
              "#bd3786"
             ],
             [
              0.5555555555555556,
              "#d8576b"
             ],
             [
              0.6666666666666666,
              "#ed7953"
             ],
             [
              0.7777777777777778,
              "#fb9f3a"
             ],
             [
              0.8888888888888888,
              "#fdca26"
             ],
             [
              1,
              "#f0f921"
             ]
            ],
            "type": "histogram2dcontour"
           }
          ],
          "mesh3d": [
           {
            "colorbar": {
             "outlinewidth": 0,
             "ticks": ""
            },
            "type": "mesh3d"
           }
          ],
          "parcoords": [
           {
            "line": {
             "colorbar": {
              "outlinewidth": 0,
              "ticks": ""
             }
            },
            "type": "parcoords"
           }
          ],
          "pie": [
           {
            "automargin": true,
            "type": "pie"
           }
          ],
          "scatter": [
           {
            "fillpattern": {
             "fillmode": "overlay",
             "size": 10,
             "solidity": 0.2
            },
            "type": "scatter"
           }
          ],
          "scatter3d": [
           {
            "line": {
             "colorbar": {
              "outlinewidth": 0,
              "ticks": ""
             }
            },
            "marker": {
             "colorbar": {
              "outlinewidth": 0,
              "ticks": ""
             }
            },
            "type": "scatter3d"
           }
          ],
          "scattercarpet": [
           {
            "marker": {
             "colorbar": {
              "outlinewidth": 0,
              "ticks": ""
             }
            },
            "type": "scattercarpet"
           }
          ],
          "scattergeo": [
           {
            "marker": {
             "colorbar": {
              "outlinewidth": 0,
              "ticks": ""
             }
            },
            "type": "scattergeo"
           }
          ],
          "scattergl": [
           {
            "marker": {
             "colorbar": {
              "outlinewidth": 0,
              "ticks": ""
             }
            },
            "type": "scattergl"
           }
          ],
          "scattermapbox": [
           {
            "marker": {
             "colorbar": {
              "outlinewidth": 0,
              "ticks": ""
             }
            },
            "type": "scattermapbox"
           }
          ],
          "scatterpolar": [
           {
            "marker": {
             "colorbar": {
              "outlinewidth": 0,
              "ticks": ""
             }
            },
            "type": "scatterpolar"
           }
          ],
          "scatterpolargl": [
           {
            "marker": {
             "colorbar": {
              "outlinewidth": 0,
              "ticks": ""
             }
            },
            "type": "scatterpolargl"
           }
          ],
          "scatterternary": [
           {
            "marker": {
             "colorbar": {
              "outlinewidth": 0,
              "ticks": ""
             }
            },
            "type": "scatterternary"
           }
          ],
          "surface": [
           {
            "colorbar": {
             "outlinewidth": 0,
             "ticks": ""
            },
            "colorscale": [
             [
              0,
              "#0d0887"
             ],
             [
              0.1111111111111111,
              "#46039f"
             ],
             [
              0.2222222222222222,
              "#7201a8"
             ],
             [
              0.3333333333333333,
              "#9c179e"
             ],
             [
              0.4444444444444444,
              "#bd3786"
             ],
             [
              0.5555555555555556,
              "#d8576b"
             ],
             [
              0.6666666666666666,
              "#ed7953"
             ],
             [
              0.7777777777777778,
              "#fb9f3a"
             ],
             [
              0.8888888888888888,
              "#fdca26"
             ],
             [
              1,
              "#f0f921"
             ]
            ],
            "type": "surface"
           }
          ],
          "table": [
           {
            "cells": {
             "fill": {
              "color": "#EBF0F8"
             },
             "line": {
              "color": "white"
             }
            },
            "header": {
             "fill": {
              "color": "#C8D4E3"
             },
             "line": {
              "color": "white"
             }
            },
            "type": "table"
           }
          ]
         },
         "layout": {
          "annotationdefaults": {
           "arrowcolor": "#2a3f5f",
           "arrowhead": 0,
           "arrowwidth": 1
          },
          "autotypenumbers": "strict",
          "coloraxis": {
           "colorbar": {
            "outlinewidth": 0,
            "ticks": ""
           }
          },
          "colorscale": {
           "diverging": [
            [
             0,
             "#8e0152"
            ],
            [
             0.1,
             "#c51b7d"
            ],
            [
             0.2,
             "#de77ae"
            ],
            [
             0.3,
             "#f1b6da"
            ],
            [
             0.4,
             "#fde0ef"
            ],
            [
             0.5,
             "#f7f7f7"
            ],
            [
             0.6,
             "#e6f5d0"
            ],
            [
             0.7,
             "#b8e186"
            ],
            [
             0.8,
             "#7fbc41"
            ],
            [
             0.9,
             "#4d9221"
            ],
            [
             1,
             "#276419"
            ]
           ],
           "sequential": [
            [
             0,
             "#0d0887"
            ],
            [
             0.1111111111111111,
             "#46039f"
            ],
            [
             0.2222222222222222,
             "#7201a8"
            ],
            [
             0.3333333333333333,
             "#9c179e"
            ],
            [
             0.4444444444444444,
             "#bd3786"
            ],
            [
             0.5555555555555556,
             "#d8576b"
            ],
            [
             0.6666666666666666,
             "#ed7953"
            ],
            [
             0.7777777777777778,
             "#fb9f3a"
            ],
            [
             0.8888888888888888,
             "#fdca26"
            ],
            [
             1,
             "#f0f921"
            ]
           ],
           "sequentialminus": [
            [
             0,
             "#0d0887"
            ],
            [
             0.1111111111111111,
             "#46039f"
            ],
            [
             0.2222222222222222,
             "#7201a8"
            ],
            [
             0.3333333333333333,
             "#9c179e"
            ],
            [
             0.4444444444444444,
             "#bd3786"
            ],
            [
             0.5555555555555556,
             "#d8576b"
            ],
            [
             0.6666666666666666,
             "#ed7953"
            ],
            [
             0.7777777777777778,
             "#fb9f3a"
            ],
            [
             0.8888888888888888,
             "#fdca26"
            ],
            [
             1,
             "#f0f921"
            ]
           ]
          },
          "colorway": [
           "#636efa",
           "#EF553B",
           "#00cc96",
           "#ab63fa",
           "#FFA15A",
           "#19d3f3",
           "#FF6692",
           "#B6E880",
           "#FF97FF",
           "#FECB52"
          ],
          "font": {
           "color": "#2a3f5f"
          },
          "geo": {
           "bgcolor": "white",
           "lakecolor": "white",
           "landcolor": "#E5ECF6",
           "showlakes": true,
           "showland": true,
           "subunitcolor": "white"
          },
          "hoverlabel": {
           "align": "left"
          },
          "hovermode": "closest",
          "mapbox": {
           "style": "light"
          },
          "paper_bgcolor": "white",
          "plot_bgcolor": "#E5ECF6",
          "polar": {
           "angularaxis": {
            "gridcolor": "white",
            "linecolor": "white",
            "ticks": ""
           },
           "bgcolor": "#E5ECF6",
           "radialaxis": {
            "gridcolor": "white",
            "linecolor": "white",
            "ticks": ""
           }
          },
          "scene": {
           "xaxis": {
            "backgroundcolor": "#E5ECF6",
            "gridcolor": "white",
            "gridwidth": 2,
            "linecolor": "white",
            "showbackground": true,
            "ticks": "",
            "zerolinecolor": "white"
           },
           "yaxis": {
            "backgroundcolor": "#E5ECF6",
            "gridcolor": "white",
            "gridwidth": 2,
            "linecolor": "white",
            "showbackground": true,
            "ticks": "",
            "zerolinecolor": "white"
           },
           "zaxis": {
            "backgroundcolor": "#E5ECF6",
            "gridcolor": "white",
            "gridwidth": 2,
            "linecolor": "white",
            "showbackground": true,
            "ticks": "",
            "zerolinecolor": "white"
           }
          },
          "shapedefaults": {
           "line": {
            "color": "#2a3f5f"
           }
          },
          "ternary": {
           "aaxis": {
            "gridcolor": "white",
            "linecolor": "white",
            "ticks": ""
           },
           "baxis": {
            "gridcolor": "white",
            "linecolor": "white",
            "ticks": ""
           },
           "bgcolor": "#E5ECF6",
           "caxis": {
            "gridcolor": "white",
            "linecolor": "white",
            "ticks": ""
           }
          },
          "title": {
           "x": 0.05
          },
          "xaxis": {
           "automargin": true,
           "gridcolor": "white",
           "linecolor": "white",
           "ticks": "",
           "title": {
            "standoff": 15
           },
           "zerolinecolor": "white",
           "zerolinewidth": 2
          },
          "yaxis": {
           "automargin": true,
           "gridcolor": "white",
           "linecolor": "white",
           "ticks": "",
           "title": {
            "standoff": 15
           },
           "zerolinecolor": "white",
           "zerolinewidth": 2
          }
         }
        },
        "xaxis": {
         "anchor": "y",
         "domain": [
          0,
          0.45
         ],
         "title": {
          "text": "Epoch"
         }
        },
        "xaxis2": {
         "anchor": "y2",
         "domain": [
          0.55,
          1
         ],
         "title": {
          "text": "TRIP_MILES"
         }
        },
        "yaxis": {
         "anchor": "x",
         "domain": [
          0,
          1
         ],
         "range": [
          2.9961608886718754,
          34.00395584106445
         ],
         "title": {
          "text": "Root Mean Squared Error"
         }
        },
        "yaxis2": {
         "anchor": "x2",
         "domain": [
          0,
          1
         ],
         "title": {
          "text": "FARE"
         }
        }
       }
      }
     },
     "metadata": {},
     "output_type": "display_data"
    }
   ],
   "source": [
    "# Experiment 1: Train a linear regression model using a single feature\n",
    "\n",
    "# Step 1: Define the hyperparameters\n",
    "# - Hyperparameters control the training process.\n",
    "# - These values can be adjusted to improve the model's performance.\n",
    "learning_rate = 0.001  # The rate at which the model updates its weights during training\n",
    "epochs = 20            # The number of complete passes through the dataset\n",
    "batch_size = 50        # The number of data samples processed together in a single training step\n",
    "\n",
    "# Step 2: Specify the feature and label\n",
    "# - Feature: Independent variable used for prediction (input to the model).\n",
    "# - Label: Dependent variable to be predicted (output from the model).\n",
    "features = ['TRIP_MILES']  # Using only the 'TRIP_MILES' column as the input feature\n",
    "label = 'FARE'             # The target variable is 'FARE'\n",
    "\n",
    "# Step 3: Run the experiment\n",
    "# - This function builds, trains, and evaluates the model using the specified parameters.\n",
    "# - It also visualizes the training process and predictions.\n",
    "model_1 = run_experiment(training_df, features, label, learning_rate, epochs, batch_size)\n",
    "\n",
    "# Notes for Beginners:\n",
    "# - The `run_experiment` function:\n",
    "#   1. Builds a linear regression model with a single input feature.\n",
    "#   2. Trains the model on the dataset (using the specified hyperparameters).\n",
    "#   3. Visualizes the training loss curve and model predictions.\n",
    "#   4. Returns the trained model for further use or evaluation.\n"
   ]
  },
  {
   "cell_type": "code",
   "execution_count": 15,
   "metadata": {
    "cellView": "form",
    "id": "y8Qnmb0wZ_pQ"
   },
   "outputs": [
    {
     "name": "stdout",
     "output_type": "stream",
     "text": [
      "\n",
      "Use the loss curve to see where the loss begins to level off during training.\n",
      "\n",
      "With this set of hyperparameters:\n",
      "\n",
      "  learning_rate = 0.001\n",
      "  epochs = 20\n",
      "  batch_size = 50\n",
      "\n",
      "it takes about 5 epochs for the training run to converge to the final model.\n",
      "\n",
      "\n",
      "It appears from the model plot that the model fits the sample data fairly well.\n",
      "\n"
     ]
    }
   ],
   "source": [
    "# Double-click to view answers for training the model with one feature\n",
    "\n",
    "# Question 1: How many epochs did it take to converge on the final model?\n",
    "# -----------------------------------------------------------------------\n",
    "# - \"Convergence\" means the point during training where the loss stops significantly decreasing.\n",
    "# - The loss curve shows this visually. Look for when the curve flattens out.\n",
    "# - With the provided hyperparameters:\n",
    "#     - learning_rate = 0.001\n",
    "#     - epochs = 20\n",
    "#     - batch_size = 50\n",
    "# - The model converges after approximately 5 epochs.\n",
    "\n",
    "answer_epochs = \"\"\"\n",
    "Use the loss curve to see where the loss begins to level off during training.\n",
    "\n",
    "With this set of hyperparameters:\n",
    "\n",
    "  learning_rate = 0.001\n",
    "  epochs = 20\n",
    "  batch_size = 50\n",
    "\n",
    "it takes about 5 epochs for the training run to converge to the final model.\n",
    "\"\"\"\n",
    "print(answer_epochs)\n",
    "\n",
    "# Question 2: How well does the model fit the sample data?\n",
    "# -----------------------------------------------------------------------\n",
    "# - The model plot overlays the predicted values on the actual data points.\n",
    "# - A good fit is indicated by the line passing closely through the majority of data points.\n",
    "# - With the given settings, the model appears to fit the sample data fairly well.\n",
    "\n",
    "answer_fit = '''\n",
    "It appears from the model plot that the model fits the sample data fairly well.\n",
    "'''\n",
    "print(answer_fit)\n"
   ]
  },
  {
   "cell_type": "markdown",
   "metadata": {
    "id": "MYmWW0a9p1ro"
   },
   "source": [
    "## Experiment with hyperparameters\n",
    "\n",
    "It is common with machine learning to run multiple experiments to find the best set of hyperparmeters to train your model. In this step, try varying the hyperparameters one by one with this set of experiments:\n",
    "\n",
    "* *Experiment 1:* **Increase** the learning rate to **``1``** (batch size at ``50``).\n",
    "* *Experiment 2:* **Decrease** the learning rate to **``0.0001``** (batch size at ``50``).\n",
    "* *Experiment 3:* **Increase** the batch size to **``500``** (learning rate at ``0.001``).\n",
    "\n",
    "**Instructions**\n",
    "1. Update the hyperparameter values in the **Experiment 2** code cell according to the experiment.\n",
    "2. Run the **Experiment 2** code cell.\n",
    "3. After the training run, examine the output and note any differences you see in the loss curve or model output.\n",
    "4. Repeat steps 1 - 3 for each hyperparameter experiment.\n",
    "5. **Check your understanding** by answering these questions:\n",
    "  * How did raising the learning rate impact your ability to train the model?\n",
    "  * How did lowering the learning rate impact your ability to train the model?\n",
    "  * Did changing the batch size effect your training results?\n"
   ]
  },
  {
   "cell_type": "code",
   "execution_count": 16,
   "metadata": {
    "cellView": "form",
    "id": "PdUXEm1xeWcK"
   },
   "outputs": [
    {
     "name": "stdout",
     "output_type": "stream",
     "text": [
      "INFO: Starting training experiment with features=['TRIP_MILES'] and label=FARE\n",
      "\n",
      "Epoch 1/20\n",
      "\u001b[1m634/634\u001b[0m \u001b[32m━━━━━━━━━━━━━━━━━━━━\u001b[0m\u001b[37m\u001b[0m \u001b[1m1s\u001b[0m 481us/step - loss: 841.8950 - root_mean_squared_error: 28.9985\n",
      "Epoch 2/20\n",
      "\u001b[1m634/634\u001b[0m \u001b[32m━━━━━━━━━━━━━━━━━━━━\u001b[0m\u001b[37m\u001b[0m \u001b[1m0s\u001b[0m 471us/step - loss: 477.9320 - root_mean_squared_error: 21.8394\n",
      "Epoch 3/20\n",
      "\u001b[1m634/634\u001b[0m \u001b[32m━━━━━━━━━━━━━━━━━━━━\u001b[0m\u001b[37m\u001b[0m \u001b[1m0s\u001b[0m 469us/step - loss: 222.0711 - root_mean_squared_error: 14.8655\n",
      "Epoch 4/20\n",
      "\u001b[1m634/634\u001b[0m \u001b[32m━━━━━━━━━━━━━━━━━━━━\u001b[0m\u001b[37m\u001b[0m \u001b[1m0s\u001b[0m 476us/step - loss: 66.6152 - root_mean_squared_error: 8.1229\n",
      "Epoch 5/20\n",
      "\u001b[1m634/634\u001b[0m \u001b[32m━━━━━━━━━━━━━━━━━━━━\u001b[0m\u001b[37m\u001b[0m \u001b[1m0s\u001b[0m 473us/step - loss: 17.2296 - root_mean_squared_error: 4.1465\n",
      "Epoch 6/20\n",
      "\u001b[1m634/634\u001b[0m \u001b[32m━━━━━━━━━━━━━━━━━━━━\u001b[0m\u001b[37m\u001b[0m \u001b[1m0s\u001b[0m 464us/step - loss: 16.4063 - root_mean_squared_error: 4.0399\n",
      "Epoch 7/20\n",
      "\u001b[1m634/634\u001b[0m \u001b[32m━━━━━━━━━━━━━━━━━━━━\u001b[0m\u001b[37m\u001b[0m \u001b[1m0s\u001b[0m 469us/step - loss: 15.7020 - root_mean_squared_error: 3.9580\n",
      "Epoch 8/20\n",
      "\u001b[1m634/634\u001b[0m \u001b[32m━━━━━━━━━━━━━━━━━━━━\u001b[0m\u001b[37m\u001b[0m \u001b[1m0s\u001b[0m 461us/step - loss: 14.3101 - root_mean_squared_error: 3.7746\n",
      "Epoch 9/20\n",
      "\u001b[1m634/634\u001b[0m \u001b[32m━━━━━━━━━━━━━━━━━━━━\u001b[0m\u001b[37m\u001b[0m \u001b[1m0s\u001b[0m 456us/step - loss: 12.6863 - root_mean_squared_error: 3.5450\n",
      "Epoch 10/20\n",
      "\u001b[1m634/634\u001b[0m \u001b[32m━━━━━━━━━━━━━━━━━━━━\u001b[0m\u001b[37m\u001b[0m \u001b[1m0s\u001b[0m 464us/step - loss: 13.5835 - root_mean_squared_error: 3.6797\n",
      "Epoch 11/20\n",
      "\u001b[1m634/634\u001b[0m \u001b[32m━━━━━━━━━━━━━━━━━━━━\u001b[0m\u001b[37m\u001b[0m \u001b[1m0s\u001b[0m 461us/step - loss: 15.0197 - root_mean_squared_error: 3.8714\n",
      "Epoch 12/20\n",
      "\u001b[1m634/634\u001b[0m \u001b[32m━━━━━━━━━━━━━━━━━━━━\u001b[0m\u001b[37m\u001b[0m \u001b[1m0s\u001b[0m 455us/step - loss: 13.9921 - root_mean_squared_error: 3.7360\n",
      "Epoch 13/20\n",
      "\u001b[1m634/634\u001b[0m \u001b[32m━━━━━━━━━━━━━━━━━━━━\u001b[0m\u001b[37m\u001b[0m \u001b[1m0s\u001b[0m 459us/step - loss: 13.1050 - root_mean_squared_error: 3.6150\n",
      "Epoch 14/20\n",
      "\u001b[1m634/634\u001b[0m \u001b[32m━━━━━━━━━━━━━━━━━━━━\u001b[0m\u001b[37m\u001b[0m \u001b[1m0s\u001b[0m 467us/step - loss: 13.7348 - root_mean_squared_error: 3.6966\n",
      "Epoch 15/20\n",
      "\u001b[1m634/634\u001b[0m \u001b[32m━━━━━━━━━━━━━━━━━━━━\u001b[0m\u001b[37m\u001b[0m \u001b[1m0s\u001b[0m 454us/step - loss: 15.2860 - root_mean_squared_error: 3.9004\n",
      "Epoch 16/20\n",
      "\u001b[1m634/634\u001b[0m \u001b[32m━━━━━━━━━━━━━━━━━━━━\u001b[0m\u001b[37m\u001b[0m \u001b[1m0s\u001b[0m 458us/step - loss: 14.7694 - root_mean_squared_error: 3.8354\n",
      "Epoch 17/20\n",
      "\u001b[1m634/634\u001b[0m \u001b[32m━━━━━━━━━━━━━━━━━━━━\u001b[0m\u001b[37m\u001b[0m \u001b[1m0s\u001b[0m 472us/step - loss: 14.8017 - root_mean_squared_error: 3.8439\n",
      "Epoch 18/20\n",
      "\u001b[1m634/634\u001b[0m \u001b[32m━━━━━━━━━━━━━━━━━━━━\u001b[0m\u001b[37m\u001b[0m \u001b[1m0s\u001b[0m 475us/step - loss: 14.0659 - root_mean_squared_error: 3.7423\n",
      "Epoch 19/20\n",
      "\u001b[1m634/634\u001b[0m \u001b[32m━━━━━━━━━━━━━━━━━━━━\u001b[0m\u001b[37m\u001b[0m \u001b[1m0s\u001b[0m 474us/step - loss: 13.5074 - root_mean_squared_error: 3.6701\n",
      "Epoch 20/20\n",
      "\u001b[1m634/634\u001b[0m \u001b[32m━━━━━━━━━━━━━━━━━━━━\u001b[0m\u001b[37m\u001b[0m \u001b[1m0s\u001b[0m 475us/step - loss: 14.2685 - root_mean_squared_error: 3.7733\n",
      "\n",
      "SUCCESS: Training experiment complete\n",
      "\n",
      "--------------------------------------------------------------------------------\n",
      "|                                  MODEL INFO                                  |\n",
      "--------------------------------------------------------------------------------\n",
      "Weight for feature [TRIP_MILES]: 2.285\n",
      "Bias: 4.977\n",
      "\n",
      "FARE = 2.285 * TRIP_MILES + 4.977\n",
      "\n"
     ]
    },
    {
     "data": {
      "application/vnd.plotly.v1+json": {
       "config": {
        "plotlyServerURL": "https://plot.ly"
       },
       "data": [
        {
         "hovertemplate": "TRIP_MILES=%{x}<br>FARE=%{y}<extra></extra>",
         "legendgroup": "",
         "marker": {
          "color": "#636efa",
          "symbol": "circle"
         },
         "mode": "markers",
         "name": "",
         "orientation": "v",
         "showlegend": false,
         "type": "scatter",
         "x": [
          2.19,
          7.94,
          18.11,
          2.8,
          5.32,
          17.38,
          16.4,
          17.51,
          9.01,
          17.7,
          0.7,
          14,
          2.93,
          19.96,
          2.53,
          0.83,
          1.85,
          7.9,
          9.84,
          11.93,
          18.88,
          9.6,
          14,
          12.36,
          1.82,
          8.05,
          7.01,
          17.47,
          1.1,
          5.05,
          15.5,
          4.97,
          2.67,
          7.77,
          0.99,
          1.4,
          1.78,
          1.3,
          12.4,
          7.4,
          11.82,
          0.91,
          1.6,
          1.54,
          7.36,
          8.8,
          18.3,
          1.7,
          0.6,
          6.97,
          18.54,
          0.68,
          6.29,
          13.9,
          1.65,
          12.9,
          12.17,
          17.85,
          1.2,
          0.58,
          17.31,
          4.21,
          1.29,
          6.33,
          0.9,
          4.6,
          8,
          0.93,
          6.71,
          1.77,
          0.8,
          17.23,
          1.76,
          20.94,
          8.55,
          1.01,
          7.7,
          2.21,
          0.9,
          2.37,
          5.9,
          0.5,
          17.37,
          1.65,
          0.62,
          36.74,
          21.45,
          12.02,
          0.8,
          0.9,
          1.81,
          12.6,
          0.64,
          4.94,
          0.94,
          3.9,
          9,
          10.7,
          11.7,
          1.52,
          4.93,
          18.32,
          16.6,
          14.36,
          8.6,
          12.71,
          18.32,
          6.18,
          1.88,
          18.4,
          6.1,
          2.55,
          12.5,
          5.87,
          12.8,
          19.24,
          1.1,
          10.72,
          14.53,
          18.1,
          21.54,
          0.8,
          1.9,
          1.6,
          1.08,
          1.4,
          2.03,
          2.78,
          1.2,
          4.01,
          10.4,
          15.7,
          1.91,
          16.7,
          15.46,
          18.1,
          6.05,
          8.18,
          1,
          3.2,
          1.4,
          16.66,
          17.4,
          0.53,
          0.5,
          10.22,
          5.57,
          1.4,
          3.23,
          1.6,
          16.85,
          17.7,
          2.28,
          1.06,
          6.2,
          16.04,
          11.09,
          17.71,
          23.08,
          4.39,
          0.87,
          11.7,
          1.35,
          7.81,
          1.2,
          1.1,
          2.3,
          19.5,
          12.28,
          2.26,
          10.4,
          1.4,
          0.5,
          1.2,
          17.66,
          2.01,
          2.54,
          8.5,
          17.1,
          1.08,
          1.4,
          2.1,
          3.85,
          8.82,
          13.85,
          0.94,
          0.55,
          0.65,
          1.91,
          3.83,
          2.74,
          10.43,
          0.89,
          6.27,
          6.8,
          10.01,
          10.48,
          0.86,
          3.6,
          3.76
         ],
         "xaxis": "x2",
         "y": [
          9,
          22.25,
          44.5,
          10.5,
          19.02,
          49.5,
          41.5,
          43.25,
          27.5,
          45.75,
          5.25,
          35.5,
          10.5,
          49.73,
          9.5,
          5.5,
          9.75,
          24.25,
          27.5,
          31.75,
          47.75,
          27.75,
          35.25,
          34.25,
          8.75,
          21.75,
          22,
          44.5,
          6,
          15.33,
          43.75,
          15.75,
          11.5,
          22.75,
          6.75,
          8,
          9,
          7,
          33.5,
          21.5,
          33.75,
          9,
          11,
          8.75,
          20.25,
          24.25,
          45.75,
          9,
          5,
          21.25,
          47,
          9,
          18.25,
          34.75,
          9,
          33.75,
          32.5,
          44.75,
          6,
          4.75,
          44.75,
          13.9,
          6.5,
          18.74,
          6.75,
          15,
          41.25,
          6.25,
          20,
          9,
          5.5,
          43,
          9,
          56.33,
          27.25,
          5.75,
          21.5,
          10.02,
          6,
          9.25,
          18.5,
          5,
          43.75,
          7.5,
          4.75,
          105,
          52,
          31.75,
          5.5,
          5.75,
          8.5,
          32.75,
          5.5,
          16.62,
          5.75,
          13.5,
          24.25,
          27.5,
          30.75,
          7.5,
          16.23,
          55.14,
          41.5,
          37.31,
          24.25,
          33,
          44.75,
          21.25,
          7.75,
          46.5,
          19.46,
          10.75,
          35.5,
          18.69,
          34,
          47,
          7.25,
          29,
          38.5,
          45.25,
          52.5,
          5,
          9,
          8,
          9,
          7.25,
          9.73,
          11.25,
          7,
          13.73,
          27,
          44,
          9.25,
          45.75,
          41.24,
          45.25,
          24,
          24.75,
          6.25,
          11.25,
          6.5,
          41,
          43,
          5,
          4.75,
          27.25,
          17.75,
          6.75,
          11.75,
          9,
          41.25,
          44.25,
          9.75,
          6.75,
          18.5,
          46.25,
          29.75,
          45.25,
          58.75,
          13.5,
          6.25,
          30.75,
          10.75,
          21.75,
          6.5,
          6.75,
          10.75,
          47.75,
          31.25,
          9.5,
          27.25,
          7.5,
          5,
          7,
          45.5,
          8.25,
          10,
          29.25,
          43.25,
          6.25,
          8.5,
          10,
          13,
          24.5,
          36.5,
          5.75,
          5,
          5.25,
          9.75,
          86.45,
          10.75,
          27.25,
          6,
          18.75,
          20.5,
          28.25,
          27.5,
          9,
          13,
          13.25
         ],
         "yaxis": "y2"
        },
        {
         "hovertemplate": "TRIP_MILES=%{x}<br>FARE_PREDICTED=%{y}<extra></extra>",
         "legendgroup": "",
         "line": {
          "color": "#ff0000",
          "dash": "solid",
          "width": 3
         },
         "marker": {
          "symbol": "circle"
         },
         "mode": "lines",
         "name": "",
         "orientation": "v",
         "showlegend": false,
         "type": "scatter",
         "x": [
          2.19,
          7.94,
          18.11,
          2.8,
          5.32,
          17.38,
          16.4,
          17.51,
          9.01,
          17.7,
          0.7,
          14,
          2.93,
          19.96,
          2.53,
          0.83,
          1.85,
          7.9,
          9.84,
          11.93,
          18.88,
          9.6,
          14,
          12.36,
          1.82,
          8.05,
          7.01,
          17.47,
          1.1,
          5.05,
          15.5,
          4.97,
          2.67,
          7.77,
          0.99,
          1.4,
          1.78,
          1.3,
          12.4,
          7.4,
          11.82,
          0.91,
          1.6,
          1.54,
          7.36,
          8.8,
          18.3,
          1.7,
          0.6,
          6.97,
          18.54,
          0.68,
          6.29,
          13.9,
          1.65,
          12.9,
          12.17,
          17.85,
          1.2,
          0.58,
          17.31,
          4.21,
          1.29,
          6.33,
          0.9,
          4.6,
          8,
          0.93,
          6.71,
          1.77,
          0.8,
          17.23,
          1.76,
          20.94,
          8.55,
          1.01,
          7.7,
          2.21,
          0.9,
          2.37,
          5.9,
          0.5,
          17.37,
          1.65,
          0.62,
          36.74,
          21.45,
          12.02,
          0.8,
          0.9,
          1.81,
          12.6,
          0.64,
          4.94,
          0.94,
          3.9,
          9,
          10.7,
          11.7,
          1.52,
          4.93,
          18.32,
          16.6,
          14.36,
          8.6,
          12.71,
          18.32,
          6.18,
          1.88,
          18.4,
          6.1,
          2.55,
          12.5,
          5.87,
          12.8,
          19.24,
          1.1,
          10.72,
          14.53,
          18.1,
          21.54,
          0.8,
          1.9,
          1.6,
          1.08,
          1.4,
          2.03,
          2.78,
          1.2,
          4.01,
          10.4,
          15.7,
          1.91,
          16.7,
          15.46,
          18.1,
          6.05,
          8.18,
          1,
          3.2,
          1.4,
          16.66,
          17.4,
          0.53,
          0.5,
          10.22,
          5.57,
          1.4,
          3.23,
          1.6,
          16.85,
          17.7,
          2.28,
          1.06,
          6.2,
          16.04,
          11.09,
          17.71,
          23.08,
          4.39,
          0.87,
          11.7,
          1.35,
          7.81,
          1.2,
          1.1,
          2.3,
          19.5,
          12.28,
          2.26,
          10.4,
          1.4,
          0.5,
          1.2,
          17.66,
          2.01,
          2.54,
          8.5,
          17.1,
          1.08,
          1.4,
          2.1,
          3.85,
          8.82,
          13.85,
          0.94,
          0.55,
          0.65,
          1.91,
          3.83,
          2.74,
          10.43,
          0.89,
          6.27,
          6.8,
          10.01,
          10.48,
          0.86,
          3.6,
          3.76
         ],
         "xaxis": "x2",
         "y": [
          9.981194608211517,
          23.11916094303131,
          46.35622487783432,
          11.374961471557617,
          17.13281802177429,
          44.68827436923981,
          42.44910793304443,
          44.98530665159226,
          25.563965113162993,
          45.41943075656891,
          6.5767476797103885,
          36.96543502807617,
          11.671993753910066,
          50.58322274208069,
          10.758048269748688,
          6.8737799620628355,
          9.204340946674346,
          23.027766394615174,
          27.460401992797852,
          32.23576714754105,
          48.11556993484497,
          26.912034702301025,
          36.96543502807617,
          33.21825854301453,
          9.135795035362243,
          23.37049595117569,
          20.99423769235611,
          44.89391210317611,
          7.490693163871765,
          16.515904819965364,
          40.392730593681335,
          16.333115723133087,
          11.07792918920517,
          22.730734112262724,
          7.239358155727386,
          8.176152276992799,
          9.044400486946106,
          7.947665905952453,
          33.30965309143066,
          21.885334539413453,
          31.984432139396667,
          7.056569058895111,
          8.633125019073486,
          8.496033196449279,
          21.793939990997316,
          25.084143733978273,
          46.790348982810976,
          8.861611390113831,
          6.348261308670044,
          20.902843143939972,
          47.338716273307796,
          6.531050405502319,
          19.349135820865634,
          36.736948657035825,
          8.74736820459366,
          34.45208494663238,
          32.78413443803787,
          45.76216031312943,
          7.71917953491211,
          6.302564034461975,
          44.528333909511566,
          14.59661930322647,
          7.924817268848419,
          19.440530369281767,
          7.033720421791077,
          15.487716150283813,
          23.256252765655518,
          7.10226633310318,
          20.308778579235074,
          9.021551849842073,
          6.805234050750732,
          44.34554481267929,
          8.998703212738036,
          52.82238917827606,
          24.512927806377412,
          7.285055429935456,
          22.570793652534487,
          10.026891882419587,
          7.033720421791077,
          10.392470076084138,
          18.45803897380829,
          6.1197749376297,
          44.66542573213577,
          8.74736820459366,
          6.3939585828781125,
          88.92323580265045,
          53.987669670581816,
          32.441404881477354,
          6.805234050750732,
          7.033720421791077,
          9.11294639825821,
          33.766625833511355,
          6.439655857086182,
          16.264569811820984,
          7.125114970207214,
          13.888311553001403,
          25.54111647605896,
          29.42538478374481,
          31.710248494148253,
          8.45033592224121,
          16.24172117471695,
          46.83604625701904,
          42.906080675125125,
          37.78798596382141,
          24.627170991897582,
          34.017960841655736,
          46.83604625701904,
          19.097800812721253,
          9.27288685798645,
          47.018835353851316,
          18.915011715888976,
          10.803745543956756,
          33.53813946247101,
          18.389493062496186,
          34.22359857559204,
          48.938120870590204,
          7.490693163871765,
          29.47108205795288,
          38.17641279458999,
          46.33337624073029,
          54.19330740451812,
          6.805234050750732,
          9.31858413219452,
          8.633125019073486,
          7.444995889663696,
          8.176152276992799,
          9.615616414546967,
          11.329264197349548,
          7.71917953491211,
          14.139646561145781,
          28.73992567062378,
          40.84970333576202,
          9.341432769298553,
          43.134567046165465,
          40.3013360452652,
          46.33337624073029,
          18.800768530368806,
          23.667528233528138,
          7.262206792831421,
          12.288906955718994,
          8.176152276992799,
          43.04317249774933,
          44.73397164344787,
          6.188320848941803,
          6.1197749376297,
          28.32865020275116,
          17.70403394937515,
          8.176152276992799,
          12.357452867031096,
          8.633125019073486,
          43.477296602725986,
          45.41943075656891,
          10.186832342147827,
          7.399298615455628,
          19.14349808692932,
          41.62655699729919,
          30.316481630802155,
          45.44227939367295,
          57.71199751853943,
          15.00789477109909,
          6.965174510478973,
          31.710248494148253,
          8.061909091472625,
          22.822128660678864,
          7.71917953491211,
          7.490693163871765,
          10.232529616355896,
          49.532185435295105,
          33.03546944618225,
          10.141135067939757,
          28.73992567062378,
          8.176152276992799,
          6.1197749376297,
          7.71917953491211,
          45.328036208152774,
          9.569919140338897,
          10.780896906852721,
          24.39868462085724,
          44.048512530326846,
          7.444995889663696,
          8.176152276992799,
          9.775556874275207,
          13.774068367481233,
          25.12984100818634,
          36.62270547151566,
          7.125114970207214,
          6.2340181231498715,
          6.462504494190216,
          9.341432769298553,
          13.728371093273163,
          11.237869648933412,
          28.808471581935883,
          7.010871784687042,
          19.30343854665756,
          20.514416313171388,
          27.848828823566436,
          28.922714767456057,
          6.942325873374939,
          13.202852439880372,
          13.56843063354492
         ],
         "yaxis": "y2"
        },
        {
         "hovertemplate": "Epoch=%{x}<br>RMSE=%{y}<extra></extra>",
         "legendgroup": "",
         "line": {
          "color": "#ff0000",
          "dash": "solid",
          "width": 3
         },
         "marker": {
          "symbol": "circle"
         },
         "mode": "lines",
         "name": "",
         "orientation": "v",
         "showlegend": false,
         "type": "scatter",
         "x": [
          0,
          1,
          2,
          3,
          4,
          5,
          6,
          7,
          8,
          9,
          10,
          11,
          12,
          13,
          14,
          15,
          16,
          17,
          18,
          19
         ],
         "xaxis": "x",
         "y": [
          27.284040451049805,
          20.139999389648438,
          13.166732788085938,
          6.839317321777344,
          4.056380271911621,
          3.914684295654297,
          3.8381686210632324,
          3.7911064624786377,
          3.7662999629974365,
          3.7546730041503906,
          3.7497568130493164,
          3.7475624084472656,
          3.746694803237915,
          3.7458038330078125,
          3.7459990978240967,
          3.7458736896514893,
          3.7457334995269775,
          3.746000051498413,
          3.7456588745117188,
          3.7458558082580566
         ],
         "yaxis": "y"
        }
       ],
       "layout": {
        "annotations": [
         {
          "font": {
           "size": 16
          },
          "showarrow": false,
          "text": "Loss Curve",
          "x": 0.225,
          "xanchor": "center",
          "xref": "paper",
          "y": 1,
          "yanchor": "bottom",
          "yref": "paper"
         },
         {
          "font": {
           "size": 16
          },
          "showarrow": false,
          "text": "Model Plot",
          "x": 0.775,
          "xanchor": "center",
          "xref": "paper",
          "y": 1,
          "yanchor": "bottom",
          "yref": "paper"
         }
        ],
        "template": {
         "data": {
          "bar": [
           {
            "error_x": {
             "color": "#2a3f5f"
            },
            "error_y": {
             "color": "#2a3f5f"
            },
            "marker": {
             "line": {
              "color": "#E5ECF6",
              "width": 0.5
             },
             "pattern": {
              "fillmode": "overlay",
              "size": 10,
              "solidity": 0.2
             }
            },
            "type": "bar"
           }
          ],
          "barpolar": [
           {
            "marker": {
             "line": {
              "color": "#E5ECF6",
              "width": 0.5
             },
             "pattern": {
              "fillmode": "overlay",
              "size": 10,
              "solidity": 0.2
             }
            },
            "type": "barpolar"
           }
          ],
          "carpet": [
           {
            "aaxis": {
             "endlinecolor": "#2a3f5f",
             "gridcolor": "white",
             "linecolor": "white",
             "minorgridcolor": "white",
             "startlinecolor": "#2a3f5f"
            },
            "baxis": {
             "endlinecolor": "#2a3f5f",
             "gridcolor": "white",
             "linecolor": "white",
             "minorgridcolor": "white",
             "startlinecolor": "#2a3f5f"
            },
            "type": "carpet"
           }
          ],
          "choropleth": [
           {
            "colorbar": {
             "outlinewidth": 0,
             "ticks": ""
            },
            "type": "choropleth"
           }
          ],
          "contour": [
           {
            "colorbar": {
             "outlinewidth": 0,
             "ticks": ""
            },
            "colorscale": [
             [
              0,
              "#0d0887"
             ],
             [
              0.1111111111111111,
              "#46039f"
             ],
             [
              0.2222222222222222,
              "#7201a8"
             ],
             [
              0.3333333333333333,
              "#9c179e"
             ],
             [
              0.4444444444444444,
              "#bd3786"
             ],
             [
              0.5555555555555556,
              "#d8576b"
             ],
             [
              0.6666666666666666,
              "#ed7953"
             ],
             [
              0.7777777777777778,
              "#fb9f3a"
             ],
             [
              0.8888888888888888,
              "#fdca26"
             ],
             [
              1,
              "#f0f921"
             ]
            ],
            "type": "contour"
           }
          ],
          "contourcarpet": [
           {
            "colorbar": {
             "outlinewidth": 0,
             "ticks": ""
            },
            "type": "contourcarpet"
           }
          ],
          "heatmap": [
           {
            "colorbar": {
             "outlinewidth": 0,
             "ticks": ""
            },
            "colorscale": [
             [
              0,
              "#0d0887"
             ],
             [
              0.1111111111111111,
              "#46039f"
             ],
             [
              0.2222222222222222,
              "#7201a8"
             ],
             [
              0.3333333333333333,
              "#9c179e"
             ],
             [
              0.4444444444444444,
              "#bd3786"
             ],
             [
              0.5555555555555556,
              "#d8576b"
             ],
             [
              0.6666666666666666,
              "#ed7953"
             ],
             [
              0.7777777777777778,
              "#fb9f3a"
             ],
             [
              0.8888888888888888,
              "#fdca26"
             ],
             [
              1,
              "#f0f921"
             ]
            ],
            "type": "heatmap"
           }
          ],
          "heatmapgl": [
           {
            "colorbar": {
             "outlinewidth": 0,
             "ticks": ""
            },
            "colorscale": [
             [
              0,
              "#0d0887"
             ],
             [
              0.1111111111111111,
              "#46039f"
             ],
             [
              0.2222222222222222,
              "#7201a8"
             ],
             [
              0.3333333333333333,
              "#9c179e"
             ],
             [
              0.4444444444444444,
              "#bd3786"
             ],
             [
              0.5555555555555556,
              "#d8576b"
             ],
             [
              0.6666666666666666,
              "#ed7953"
             ],
             [
              0.7777777777777778,
              "#fb9f3a"
             ],
             [
              0.8888888888888888,
              "#fdca26"
             ],
             [
              1,
              "#f0f921"
             ]
            ],
            "type": "heatmapgl"
           }
          ],
          "histogram": [
           {
            "marker": {
             "pattern": {
              "fillmode": "overlay",
              "size": 10,
              "solidity": 0.2
             }
            },
            "type": "histogram"
           }
          ],
          "histogram2d": [
           {
            "colorbar": {
             "outlinewidth": 0,
             "ticks": ""
            },
            "colorscale": [
             [
              0,
              "#0d0887"
             ],
             [
              0.1111111111111111,
              "#46039f"
             ],
             [
              0.2222222222222222,
              "#7201a8"
             ],
             [
              0.3333333333333333,
              "#9c179e"
             ],
             [
              0.4444444444444444,
              "#bd3786"
             ],
             [
              0.5555555555555556,
              "#d8576b"
             ],
             [
              0.6666666666666666,
              "#ed7953"
             ],
             [
              0.7777777777777778,
              "#fb9f3a"
             ],
             [
              0.8888888888888888,
              "#fdca26"
             ],
             [
              1,
              "#f0f921"
             ]
            ],
            "type": "histogram2d"
           }
          ],
          "histogram2dcontour": [
           {
            "colorbar": {
             "outlinewidth": 0,
             "ticks": ""
            },
            "colorscale": [
             [
              0,
              "#0d0887"
             ],
             [
              0.1111111111111111,
              "#46039f"
             ],
             [
              0.2222222222222222,
              "#7201a8"
             ],
             [
              0.3333333333333333,
              "#9c179e"
             ],
             [
              0.4444444444444444,
              "#bd3786"
             ],
             [
              0.5555555555555556,
              "#d8576b"
             ],
             [
              0.6666666666666666,
              "#ed7953"
             ],
             [
              0.7777777777777778,
              "#fb9f3a"
             ],
             [
              0.8888888888888888,
              "#fdca26"
             ],
             [
              1,
              "#f0f921"
             ]
            ],
            "type": "histogram2dcontour"
           }
          ],
          "mesh3d": [
           {
            "colorbar": {
             "outlinewidth": 0,
             "ticks": ""
            },
            "type": "mesh3d"
           }
          ],
          "parcoords": [
           {
            "line": {
             "colorbar": {
              "outlinewidth": 0,
              "ticks": ""
             }
            },
            "type": "parcoords"
           }
          ],
          "pie": [
           {
            "automargin": true,
            "type": "pie"
           }
          ],
          "scatter": [
           {
            "fillpattern": {
             "fillmode": "overlay",
             "size": 10,
             "solidity": 0.2
            },
            "type": "scatter"
           }
          ],
          "scatter3d": [
           {
            "line": {
             "colorbar": {
              "outlinewidth": 0,
              "ticks": ""
             }
            },
            "marker": {
             "colorbar": {
              "outlinewidth": 0,
              "ticks": ""
             }
            },
            "type": "scatter3d"
           }
          ],
          "scattercarpet": [
           {
            "marker": {
             "colorbar": {
              "outlinewidth": 0,
              "ticks": ""
             }
            },
            "type": "scattercarpet"
           }
          ],
          "scattergeo": [
           {
            "marker": {
             "colorbar": {
              "outlinewidth": 0,
              "ticks": ""
             }
            },
            "type": "scattergeo"
           }
          ],
          "scattergl": [
           {
            "marker": {
             "colorbar": {
              "outlinewidth": 0,
              "ticks": ""
             }
            },
            "type": "scattergl"
           }
          ],
          "scattermapbox": [
           {
            "marker": {
             "colorbar": {
              "outlinewidth": 0,
              "ticks": ""
             }
            },
            "type": "scattermapbox"
           }
          ],
          "scatterpolar": [
           {
            "marker": {
             "colorbar": {
              "outlinewidth": 0,
              "ticks": ""
             }
            },
            "type": "scatterpolar"
           }
          ],
          "scatterpolargl": [
           {
            "marker": {
             "colorbar": {
              "outlinewidth": 0,
              "ticks": ""
             }
            },
            "type": "scatterpolargl"
           }
          ],
          "scatterternary": [
           {
            "marker": {
             "colorbar": {
              "outlinewidth": 0,
              "ticks": ""
             }
            },
            "type": "scatterternary"
           }
          ],
          "surface": [
           {
            "colorbar": {
             "outlinewidth": 0,
             "ticks": ""
            },
            "colorscale": [
             [
              0,
              "#0d0887"
             ],
             [
              0.1111111111111111,
              "#46039f"
             ],
             [
              0.2222222222222222,
              "#7201a8"
             ],
             [
              0.3333333333333333,
              "#9c179e"
             ],
             [
              0.4444444444444444,
              "#bd3786"
             ],
             [
              0.5555555555555556,
              "#d8576b"
             ],
             [
              0.6666666666666666,
              "#ed7953"
             ],
             [
              0.7777777777777778,
              "#fb9f3a"
             ],
             [
              0.8888888888888888,
              "#fdca26"
             ],
             [
              1,
              "#f0f921"
             ]
            ],
            "type": "surface"
           }
          ],
          "table": [
           {
            "cells": {
             "fill": {
              "color": "#EBF0F8"
             },
             "line": {
              "color": "white"
             }
            },
            "header": {
             "fill": {
              "color": "#C8D4E3"
             },
             "line": {
              "color": "white"
             }
            },
            "type": "table"
           }
          ]
         },
         "layout": {
          "annotationdefaults": {
           "arrowcolor": "#2a3f5f",
           "arrowhead": 0,
           "arrowwidth": 1
          },
          "autotypenumbers": "strict",
          "coloraxis": {
           "colorbar": {
            "outlinewidth": 0,
            "ticks": ""
           }
          },
          "colorscale": {
           "diverging": [
            [
             0,
             "#8e0152"
            ],
            [
             0.1,
             "#c51b7d"
            ],
            [
             0.2,
             "#de77ae"
            ],
            [
             0.3,
             "#f1b6da"
            ],
            [
             0.4,
             "#fde0ef"
            ],
            [
             0.5,
             "#f7f7f7"
            ],
            [
             0.6,
             "#e6f5d0"
            ],
            [
             0.7,
             "#b8e186"
            ],
            [
             0.8,
             "#7fbc41"
            ],
            [
             0.9,
             "#4d9221"
            ],
            [
             1,
             "#276419"
            ]
           ],
           "sequential": [
            [
             0,
             "#0d0887"
            ],
            [
             0.1111111111111111,
             "#46039f"
            ],
            [
             0.2222222222222222,
             "#7201a8"
            ],
            [
             0.3333333333333333,
             "#9c179e"
            ],
            [
             0.4444444444444444,
             "#bd3786"
            ],
            [
             0.5555555555555556,
             "#d8576b"
            ],
            [
             0.6666666666666666,
             "#ed7953"
            ],
            [
             0.7777777777777778,
             "#fb9f3a"
            ],
            [
             0.8888888888888888,
             "#fdca26"
            ],
            [
             1,
             "#f0f921"
            ]
           ],
           "sequentialminus": [
            [
             0,
             "#0d0887"
            ],
            [
             0.1111111111111111,
             "#46039f"
            ],
            [
             0.2222222222222222,
             "#7201a8"
            ],
            [
             0.3333333333333333,
             "#9c179e"
            ],
            [
             0.4444444444444444,
             "#bd3786"
            ],
            [
             0.5555555555555556,
             "#d8576b"
            ],
            [
             0.6666666666666666,
             "#ed7953"
            ],
            [
             0.7777777777777778,
             "#fb9f3a"
            ],
            [
             0.8888888888888888,
             "#fdca26"
            ],
            [
             1,
             "#f0f921"
            ]
           ]
          },
          "colorway": [
           "#636efa",
           "#EF553B",
           "#00cc96",
           "#ab63fa",
           "#FFA15A",
           "#19d3f3",
           "#FF6692",
           "#B6E880",
           "#FF97FF",
           "#FECB52"
          ],
          "font": {
           "color": "#2a3f5f"
          },
          "geo": {
           "bgcolor": "white",
           "lakecolor": "white",
           "landcolor": "#E5ECF6",
           "showlakes": true,
           "showland": true,
           "subunitcolor": "white"
          },
          "hoverlabel": {
           "align": "left"
          },
          "hovermode": "closest",
          "mapbox": {
           "style": "light"
          },
          "paper_bgcolor": "white",
          "plot_bgcolor": "#E5ECF6",
          "polar": {
           "angularaxis": {
            "gridcolor": "white",
            "linecolor": "white",
            "ticks": ""
           },
           "bgcolor": "#E5ECF6",
           "radialaxis": {
            "gridcolor": "white",
            "linecolor": "white",
            "ticks": ""
           }
          },
          "scene": {
           "xaxis": {
            "backgroundcolor": "#E5ECF6",
            "gridcolor": "white",
            "gridwidth": 2,
            "linecolor": "white",
            "showbackground": true,
            "ticks": "",
            "zerolinecolor": "white"
           },
           "yaxis": {
            "backgroundcolor": "#E5ECF6",
            "gridcolor": "white",
            "gridwidth": 2,
            "linecolor": "white",
            "showbackground": true,
            "ticks": "",
            "zerolinecolor": "white"
           },
           "zaxis": {
            "backgroundcolor": "#E5ECF6",
            "gridcolor": "white",
            "gridwidth": 2,
            "linecolor": "white",
            "showbackground": true,
            "ticks": "",
            "zerolinecolor": "white"
           }
          },
          "shapedefaults": {
           "line": {
            "color": "#2a3f5f"
           }
          },
          "ternary": {
           "aaxis": {
            "gridcolor": "white",
            "linecolor": "white",
            "ticks": ""
           },
           "baxis": {
            "gridcolor": "white",
            "linecolor": "white",
            "ticks": ""
           },
           "bgcolor": "#E5ECF6",
           "caxis": {
            "gridcolor": "white",
            "linecolor": "white",
            "ticks": ""
           }
          },
          "title": {
           "x": 0.05
          },
          "xaxis": {
           "automargin": true,
           "gridcolor": "white",
           "linecolor": "white",
           "ticks": "",
           "title": {
            "standoff": 15
           },
           "zerolinecolor": "white",
           "zerolinewidth": 2
          },
          "yaxis": {
           "automargin": true,
           "gridcolor": "white",
           "linecolor": "white",
           "ticks": "",
           "title": {
            "standoff": 15
           },
           "zerolinecolor": "white",
           "zerolinewidth": 2
          }
         }
        },
        "xaxis": {
         "anchor": "y",
         "domain": [
          0,
          0.45
         ],
         "title": {
          "text": "Epoch"
         }
        },
        "xaxis2": {
         "anchor": "y2",
         "domain": [
          0.55,
          1
         ],
         "title": {
          "text": "TRIP_MILES"
         }
        },
        "yaxis": {
         "anchor": "x",
         "domain": [
          0,
          1
         ],
         "range": [
          2.9965270996093754,
          27.284040451049805
         ],
         "title": {
          "text": "Root Mean Squared Error"
         }
        },
        "yaxis2": {
         "anchor": "x2",
         "domain": [
          0,
          1
         ],
         "title": {
          "text": "FARE"
         }
        }
       }
      }
     },
     "metadata": {},
     "output_type": "display_data"
    }
   ],
   "source": [
    "# Experiment 2: Train the model using adjusted hyperparameters\n",
    "# -------------------------------------------------------------\n",
    "\n",
    "# Step 1: Define the hyperparameters\n",
    "# - Hyperparameters are tunable parameters that control the training process.\n",
    "# - Adjusting these values allows us to experiment with the model's performance.\n",
    "\n",
    "# TODO: Experiment by changing these values to observe their impact on training.\n",
    "learning_rate = 0.001  # Determines how much the model adjusts weights with each update\n",
    "epochs = 20            # Number of complete passes through the dataset during training\n",
    "batch_size = 50        # Number of data samples processed together in one training step\n",
    "\n",
    "# Step 2: Specify the feature and label\n",
    "# - The feature is the input variable (independent variable) the model uses for prediction.\n",
    "# - The label is the output variable (dependent variable) the model tries to predict.\n",
    "features = ['TRIP_MILES']  # Use 'TRIP_MILES' as the input feature\n",
    "label = 'FARE'             # Predict 'FARE' as the target variable\n",
    "\n",
    "# Step 3: Run the experiment\n",
    "# - The `run_experiment` function:\n",
    "#   1. Builds and compiles a simple linear regression model.\n",
    "#   2. Trains the model using the specified hyperparameters and data.\n",
    "#   3. Visualizes training progress (loss curve) and model predictions (scatter plot).\n",
    "# - The trained model is returned and stored in `model_1`.\n",
    "model_1 = run_experiment(training_df, features, label, learning_rate, epochs, batch_size)\n",
    "\n",
    "# Notes for Beginners:\n",
    "# --------------------\n",
    "# - `learning_rate`: A smaller value leads to slower but more stable training.\n",
    "#   Larger values can speed up training but might cause instability.\n",
    "# - `epochs`: Increasing this value allows the model to learn more, but too many epochs\n",
    "#   can lead to overfitting (the model learns noise instead of patterns).\n",
    "# - `batch_size`: Smaller batches may improve generalization but slow down training.\n",
    "# - Experiment with different values to observe their impact on the loss curve and predictions.\n"
   ]
  },
  {
   "cell_type": "code",
   "execution_count": 17,
   "metadata": {
    "cellView": "form",
    "id": "Od7vJJpHiHYB"
   },
   "outputs": [
    {
     "name": "stdout",
     "output_type": "stream",
     "text": [
      "\n",
      "When the learning rate is too high, the loss curve bounces around and does not\n",
      "appear to be moving towards convergence with each iteration. Also, notice that\n",
      "the predicted model does not fit the data very well. With a learning rate that\n",
      "is too high, it is unlikely that you will be able to train a model with good\n",
      "results.\n",
      "\n",
      "\n",
      "When the learning rate is too small, it may take longer for the loss curve to\n",
      "converge. With a small learning rate, the loss curve decreases slowly, but does\n",
      "not show a dramatic drop or leveling off. With a small learning rate, you could\n",
      "increase the number of epochs so that your model will eventually converge, but\n",
      "it will take longer.\n",
      "\n",
      "\n",
      "Increasing the batch size makes each epoch run faster, but as with the smaller\n",
      "learning rate, the model does not converge with just 20 epochs. If you have\n",
      "time, try increasing the number of epochs and eventually you should see the\n",
      "model converge.\n",
      "\n"
     ]
    }
   ],
   "source": [
    "# Double-click to view answers for hyperparameter experiments\n",
    "\n",
    "# Question 1: How did raising the learning rate impact your ability to train the model?\n",
    "# -------------------------------------------------------------------------------------\n",
    "# - A learning rate that is too high can cause the model's training to become unstable.\n",
    "# - In the loss curve, this appears as erratic behavior where the loss value fluctuates\n",
    "#   widely instead of decreasing smoothly.\n",
    "# - High learning rates prevent the model from converging to an optimal solution,\n",
    "#   leading to poor predictions and a poor fit to the data.\n",
    "\n",
    "answer_high_lr = \"\"\"\n",
    "When the learning rate is too high, the loss curve bounces around and does not\n",
    "appear to be moving towards convergence with each iteration. Also, notice that\n",
    "the predicted model does not fit the data very well. With a learning rate that\n",
    "is too high, it is unlikely that you will be able to train a model with good\n",
    "results.\n",
    "\"\"\"\n",
    "print(answer_high_lr)\n",
    "\n",
    "\n",
    "# Question 2: How did lowering the learning rate impact your ability to train the model?\n",
    "# -------------------------------------------------------------------------------------\n",
    "# - A learning rate that is too low makes the training process very slow.\n",
    "# - In the loss curve, you will notice a gradual decline in loss without significant drops.\n",
    "# - Although the model may eventually converge, it requires more epochs to do so,\n",
    "#   increasing the training time significantly.\n",
    "\n",
    "answer_low_lr = '''\n",
    "When the learning rate is too small, it may take longer for the loss curve to\n",
    "converge. With a small learning rate, the loss curve decreases slowly, but does\n",
    "not show a dramatic drop or leveling off. With a small learning rate, you could\n",
    "increase the number of epochs so that your model will eventually converge, but\n",
    "it will take longer.\n",
    "'''\n",
    "print(answer_low_lr)\n",
    "\n",
    "\n",
    "# Question 3: Did changing the batch size affect your training results?\n",
    "# -------------------------------------------------------------------------------------\n",
    "# - Increasing the batch size reduces the time it takes to process one epoch,\n",
    "#   as more samples are processed together.\n",
    "# - However, larger batch sizes may lead to slower convergence as they smooth\n",
    "#   out the gradient updates, requiring more epochs to reach an optimal solution.\n",
    "# - Smaller batch sizes often lead to better generalization but increase training time.\n",
    "\n",
    "answer_batch_size = '''\n",
    "Increasing the batch size makes each epoch run faster, but as with the smaller\n",
    "learning rate, the model does not converge with just 20 epochs. If you have\n",
    "time, try increasing the number of epochs and eventually you should see the\n",
    "model converge.\n",
    "'''\n",
    "print(answer_batch_size)\n"
   ]
  },
  {
   "cell_type": "markdown",
   "metadata": {
    "id": "o27u0JRj_gJr"
   },
   "source": [
    "## Train a model with two features\n",
    "\n",
    "The model you trained with the feature ``TOTAL_MILES`` demonstrates fairly strong predictive power, but is it possible to do better? In this step, try training the model with two features, ``TRIP_MILES`` and ``TRIP_MINUTES``, to see if you can improve the model. You may recall that the original dataset does not include a feature ``TRIP_MINUTES``, but this feature can be easily derived from ``TRIP_SECONDS`` as shown in the code below.*\n",
    "\n",
    "**Instructions**\n",
    "1. Review the code in **Experiment 3** code cell.\n",
    "1. Run the **Experiment 3** code cell.\n",
    "1. Review the output from the training run and answer these questions:\n",
    "  * Does the model with two features produce better results than one using a single feature?\n",
    "  * Does it make a difference if you use ``TRIP_SECONDS`` instead of ``TRIP_MINUTES``?\n",
    "  * How well do you think the model comes to the ground truth fare calculation for Chicago Taxi Trips?\n",
    "\n",
    "\n",
    "Notice that the scatter plot of the features vs. the label is a three dimensional (3-D) plot. This representation allows you to visualize both features and the label all together. The two features (TRIP_MILES and TRIP_MINUTES) are on the x and y axis, and the label (FARE) is on the z axis. The plot shows individual examples in the dataset as circles, and the model as a surface (plane). With this 3-D model, if the trained model is good you would expect most of the examples to land on the plane surface. The 3-D plot is interactive so you can explore the data further by clicking or dragging the plot.\n"
   ]
  },
  {
   "cell_type": "code",
   "execution_count": 18,
   "metadata": {
    "cellView": "form",
    "id": "Mg3gUYOoBAtd"
   },
   "outputs": [
    {
     "name": "stdout",
     "output_type": "stream",
     "text": [
      "INFO: Starting training experiment with features=['TRIP_MILES', 'TRIP_MINUTES'] and label=FARE\n",
      "\n",
      "Epoch 1/20\n"
     ]
    },
    {
     "name": "stderr",
     "output_type": "stream",
     "text": [
      "C:\\Users\\Zain_\\AppData\\Local\\Temp\\ipykernel_31648\\648297427.py:15: SettingWithCopyWarning:\n",
      "\n",
      "\n",
      "A value is trying to be set on a copy of a slice from a DataFrame.\n",
      "Try using .loc[row_indexer,col_indexer] = value instead\n",
      "\n",
      "See the caveats in the documentation: https://pandas.pydata.org/pandas-docs/stable/user_guide/indexing.html#returning-a-view-versus-a-copy\n",
      "\n"
     ]
    },
    {
     "name": "stdout",
     "output_type": "stream",
     "text": [
      "\u001b[1m634/634\u001b[0m \u001b[32m━━━━━━━━━━━━━━━━━━━━\u001b[0m\u001b[37m\u001b[0m \u001b[1m1s\u001b[0m 479us/step - loss: 28.5912 - root_mean_squared_error: 5.3347\n",
      "Epoch 2/20\n",
      "\u001b[1m634/634\u001b[0m \u001b[32m━━━━━━━━━━━━━━━━━━━━\u001b[0m\u001b[37m\u001b[0m \u001b[1m0s\u001b[0m 463us/step - loss: 19.2558 - root_mean_squared_error: 4.3842\n",
      "Epoch 3/20\n",
      "\u001b[1m634/634\u001b[0m \u001b[32m━━━━━━━━━━━━━━━━━━━━\u001b[0m\u001b[37m\u001b[0m \u001b[1m0s\u001b[0m 462us/step - loss: 14.6725 - root_mean_squared_error: 3.8226\n",
      "Epoch 4/20\n",
      "\u001b[1m634/634\u001b[0m \u001b[32m━━━━━━━━━━━━━━━━━━━━\u001b[0m\u001b[37m\u001b[0m \u001b[1m0s\u001b[0m 469us/step - loss: 13.2001 - root_mean_squared_error: 3.6262\n",
      "Epoch 5/20\n",
      "\u001b[1m634/634\u001b[0m \u001b[32m━━━━━━━━━━━━━━━━━━━━\u001b[0m\u001b[37m\u001b[0m \u001b[1m0s\u001b[0m 462us/step - loss: 12.8595 - root_mean_squared_error: 3.5799\n",
      "Epoch 6/20\n",
      "\u001b[1m634/634\u001b[0m \u001b[32m━━━━━━━━━━━━━━━━━━━━\u001b[0m\u001b[37m\u001b[0m \u001b[1m0s\u001b[0m 465us/step - loss: 12.0325 - root_mean_squared_error: 3.4652\n",
      "Epoch 7/20\n",
      "\u001b[1m634/634\u001b[0m \u001b[32m━━━━━━━━━━━━━━━━━━━━\u001b[0m\u001b[37m\u001b[0m \u001b[1m0s\u001b[0m 465us/step - loss: 11.7342 - root_mean_squared_error: 3.4216\n",
      "Epoch 8/20\n",
      "\u001b[1m634/634\u001b[0m \u001b[32m━━━━━━━━━━━━━━━━━━━━\u001b[0m\u001b[37m\u001b[0m \u001b[1m0s\u001b[0m 467us/step - loss: 11.7615 - root_mean_squared_error: 3.4217\n",
      "Epoch 9/20\n",
      "\u001b[1m634/634\u001b[0m \u001b[32m━━━━━━━━━━━━━━━━━━━━\u001b[0m\u001b[37m\u001b[0m \u001b[1m0s\u001b[0m 465us/step - loss: 12.7217 - root_mean_squared_error: 3.5593\n",
      "Epoch 10/20\n",
      "\u001b[1m634/634\u001b[0m \u001b[32m━━━━━━━━━━━━━━━━━━━━\u001b[0m\u001b[37m\u001b[0m \u001b[1m0s\u001b[0m 458us/step - loss: 12.3003 - root_mean_squared_error: 3.5013\n",
      "Epoch 11/20\n",
      "\u001b[1m634/634\u001b[0m \u001b[32m━━━━━━━━━━━━━━━━━━━━\u001b[0m\u001b[37m\u001b[0m \u001b[1m0s\u001b[0m 467us/step - loss: 10.9624 - root_mean_squared_error: 3.2995\n",
      "Epoch 12/20\n",
      "\u001b[1m634/634\u001b[0m \u001b[32m━━━━━━━━━━━━━━━━━━━━\u001b[0m\u001b[37m\u001b[0m \u001b[1m0s\u001b[0m 466us/step - loss: 13.8031 - root_mean_squared_error: 3.6687\n",
      "Epoch 13/20\n",
      "\u001b[1m634/634\u001b[0m \u001b[32m━━━━━━━━━━━━━━━━━━━━\u001b[0m\u001b[37m\u001b[0m \u001b[1m0s\u001b[0m 466us/step - loss: 13.6840 - root_mean_squared_error: 3.6860\n",
      "Epoch 14/20\n",
      "\u001b[1m634/634\u001b[0m \u001b[32m━━━━━━━━━━━━━━━━━━━━\u001b[0m\u001b[37m\u001b[0m \u001b[1m0s\u001b[0m 465us/step - loss: 11.5103 - root_mean_squared_error: 3.3886\n",
      "Epoch 15/20\n",
      "\u001b[1m634/634\u001b[0m \u001b[32m━━━━━━━━━━━━━━━━━━━━\u001b[0m\u001b[37m\u001b[0m \u001b[1m0s\u001b[0m 467us/step - loss: 11.3046 - root_mean_squared_error: 3.3530\n",
      "Epoch 16/20\n",
      "\u001b[1m634/634\u001b[0m \u001b[32m━━━━━━━━━━━━━━━━━━━━\u001b[0m\u001b[37m\u001b[0m \u001b[1m0s\u001b[0m 463us/step - loss: 11.2494 - root_mean_squared_error: 3.3472\n",
      "Epoch 17/20\n",
      "\u001b[1m634/634\u001b[0m \u001b[32m━━━━━━━━━━━━━━━━━━━━\u001b[0m\u001b[37m\u001b[0m \u001b[1m0s\u001b[0m 465us/step - loss: 11.8919 - root_mean_squared_error: 3.4419\n",
      "Epoch 18/20\n",
      "\u001b[1m634/634\u001b[0m \u001b[32m━━━━━━━━━━━━━━━━━━━━\u001b[0m\u001b[37m\u001b[0m \u001b[1m0s\u001b[0m 462us/step - loss: 11.7486 - root_mean_squared_error: 3.4235\n",
      "Epoch 19/20\n",
      "\u001b[1m634/634\u001b[0m \u001b[32m━━━━━━━━━━━━━━━━━━━━\u001b[0m\u001b[37m\u001b[0m \u001b[1m0s\u001b[0m 480us/step - loss: 12.7536 - root_mean_squared_error: 3.5608\n",
      "Epoch 20/20\n",
      "\u001b[1m634/634\u001b[0m \u001b[32m━━━━━━━━━━━━━━━━━━━━\u001b[0m\u001b[37m\u001b[0m \u001b[1m0s\u001b[0m 467us/step - loss: 11.0843 - root_mean_squared_error: 3.3210\n",
      "\n",
      "SUCCESS: Training experiment complete\n",
      "\n",
      "--------------------------------------------------------------------------------\n",
      "|                                  MODEL INFO                                  |\n",
      "--------------------------------------------------------------------------------\n",
      "Weight for feature [TRIP_MILES]: 2.032\n",
      "Weight for feature [TRIP_MINUTES]: 0.144\n",
      "Bias: 3.833\n",
      "\n",
      "FARE = 2.032 * TRIP_MILES + 0.144 * TRIP_MINUTES + 3.833\n",
      "\n"
     ]
    },
    {
     "data": {
      "application/vnd.plotly.v1+json": {
       "config": {
        "plotlyServerURL": "https://plot.ly"
       },
       "data": [
        {
         "hovertemplate": "TRIP_MILES=%{x}<br>TRIP_MINUTES=%{y}<br>FARE=%{z}<extra></extra>",
         "legendgroup": "",
         "marker": {
          "color": "#636efa",
          "symbol": "circle"
         },
         "mode": "markers",
         "name": "",
         "scene": "scene",
         "showlegend": false,
         "type": "scatter3d",
         "x": [
          1.33,
          3.8,
          16.61,
          1.16,
          2.26,
          17.92,
          16.9,
          10.85,
          0.77,
          11.62,
          1.42,
          0.96,
          14.2,
          1.35,
          6.95,
          2.14,
          3.7,
          11.9,
          4.34,
          17.4,
          1.55,
          0.76,
          6.34,
          4.7,
          2.04,
          17.41,
          13.89,
          0.97,
          1.8,
          17,
          16.6,
          12.84,
          13.27,
          10.05,
          9.58,
          7.22,
          17.1,
          2.74,
          18.02,
          17.7,
          3.9,
          4.98,
          1.98,
          2.99,
          1.86,
          10.72,
          1.32,
          4.1,
          2.1,
          0.82,
          10.41,
          1.77,
          17.47,
          16.1,
          1.4,
          0.8,
          1.58,
          0.55,
          1.89,
          9.38,
          4.89,
          16.64,
          1.9,
          18,
          17.15,
          1.37,
          2.14,
          4.9,
          31.4,
          1.9,
          2.2,
          3.32,
          0.8,
          18.1,
          2.08,
          7.14,
          11.53,
          8.26,
          0.7,
          17.94,
          16.84,
          0.6,
          11.32,
          1.69,
          18.1,
          3.42,
          1.98,
          9.1,
          1.25,
          3.84,
          0.68,
          1.24,
          0.65,
          1.4,
          1.56,
          5.5,
          0.5,
          4.37,
          19.69,
          4.6,
          13.49,
          2.37,
          1.3,
          7.7,
          1.58,
          3.22,
          1.7,
          10.26,
          20.4,
          11.9,
          1.85,
          0.91,
          6.25,
          8.3,
          13.1,
          0.9,
          0.9,
          2.2,
          5.32,
          1.05,
          9.28,
          2.6,
          0.98,
          1.13,
          10,
          9.87,
          0.5,
          8.12,
          1.58,
          1.26,
          10.2,
          1.4,
          21,
          1.42,
          9.22,
          30.6,
          8.8,
          1.3,
          2.71,
          15.8,
          3.84,
          4.6,
          10.66,
          11.88,
          1.13,
          8.71,
          3.8,
          4.66,
          12.2,
          12.2,
          13.5,
          16.96,
          5.42,
          17.1,
          18.69,
          5.45,
          3.13,
          12.2,
          17.9,
          2.93,
          3.3,
          10.96,
          2.5,
          6.53,
          3.09,
          1.05,
          26.69,
          1.46,
          10.16,
          12.39,
          4.5,
          6.7,
          3.88,
          6.94,
          14.48,
          1.58,
          1.41,
          18.72,
          12.71,
          20.8,
          17.45,
          12.7,
          4.17,
          12.3,
          1.24,
          17.31,
          2.02,
          10.2,
          4.9,
          0.8,
          17.24,
          16.95,
          0.5,
          11.9,
          9.54,
          14,
          9.57,
          11.35,
          11.73,
          1.64
         ],
         "y": [
          8.833333333333334,
          7,
          55.1,
          5.466666666666667,
          12.116666666666667,
          29.016666666666666,
          22.333333333333332,
          27.533333333333335,
          4.133333333333334,
          31.533333333333335,
          8.45,
          5.9,
          61,
          9.966666666666667,
          34.46666666666667,
          12.483333333333333,
          21,
          29,
          15.383333333333333,
          34,
          7.05,
          4.483333333333333,
          13.333333333333334,
          14.35,
          10.433333333333334,
          37.4,
          29.016666666666666,
          5.616666666666666,
          10.516666666666667,
          25,
          27,
          16.183333333333334,
          40.1,
          34.18333333333333,
          17.25,
          32.78333333333333,
          29,
          16.916666666666668,
          31.633333333333333,
          31,
          23,
          9.833333333333334,
          13.75,
          12.4,
          6.283333333333333,
          50.65,
          7.9,
          17,
          11,
          6.416666666666667,
          25.2,
          12.7,
          34.7,
          38,
          4,
          3,
          7.716666666666667,
          5.733333333333333,
          8.133333333333333,
          27.666666666666668,
          34.06666666666667,
          33.1,
          10.316666666666666,
          26,
          24.2,
          11.066666666666666,
          12.1,
          10,
          47,
          9,
          16,
          24.366666666666667,
          5.35,
          26,
          11.55,
          14.3,
          47.483333333333334,
          22.25,
          4,
          55.3,
          33.56666666666667,
          4.583333333333333,
          20.65,
          11.916666666666666,
          21,
          9.45,
          11.533333333333333,
          25.7,
          8.4,
          41.083333333333336,
          3.3,
          8.05,
          4.183333333333334,
          8.35,
          10.516666666666667,
          33.266666666666666,
          4,
          16.866666666666667,
          33,
          22,
          16.933333333333334,
          6.716666666666667,
          6,
          15,
          7.683333333333334,
          11.3,
          10,
          27.75,
          41.53333333333333,
          19,
          11.016666666666667,
          6.45,
          12.016666666666667,
          20,
          31.7,
          6.4,
          4,
          11,
          17.35,
          5.616666666666666,
          30.283333333333335,
          16,
          7.65,
          5.6,
          16,
          30.783333333333335,
          4,
          77.36666666666666,
          8.766666666666667,
          10.4,
          43,
          8,
          51.233333333333334,
          10.233333333333333,
          20.433333333333334,
          60,
          40,
          8,
          28.5,
          27,
          14.55,
          9.966666666666667,
          16.033333333333335,
          40.36666666666667,
          7.616666666666666,
          24.066666666666666,
          20,
          15.166666666666666,
          24,
          15,
          47,
          36.3,
          37.71666666666667,
          39,
          31.5,
          15.2,
          18.55,
          24,
          39,
          13.416666666666666,
          18,
          24.9,
          7.683333333333334,
          19.4,
          10.033333333333333,
          8.433333333333334,
          73.13333333333334,
          10.683333333333334,
          37.583333333333336,
          14.466666666666667,
          23,
          13,
          19.566666666666666,
          33.5,
          35.21666666666667,
          9.416666666666666,
          6.766666666666667,
          44.083333333333336,
          16.916666666666668,
          33,
          60,
          22.533333333333335,
          34.28333333333333,
          17,
          8.416666666666666,
          18.916666666666668,
          9.566666666666666,
          19,
          22,
          4,
          61.86666666666667,
          24.616666666666667,
          3.65,
          37,
          25.35,
          38,
          36.916666666666664,
          23.683333333333334,
          24.316666666666666,
          9.7
         ],
         "z": [
          7.5,
          12,
          42.75,
          6.5,
          9.75,
          47,
          42.25,
          30.5,
          5.5,
          31,
          7.25,
          6.25,
          40,
          6.25,
          22.5,
          10,
          14,
          32.5,
          14.5,
          43.25,
          7.5,
          5.5,
          18.25,
          15,
          9.25,
          43.5,
          37,
          6,
          9.5,
          42.25,
          41.5,
          32,
          36.5,
          30,
          55.14,
          24,
          42.75,
          11.63,
          45,
          45,
          14.75,
          15.28,
          9.34,
          11.25,
          7.75,
          33.25,
          7.25,
          13.75,
          9.25,
          6,
          27.5,
          9.5,
          43,
          40,
          6.5,
          5.25,
          7.75,
          5.5,
          9.36,
          27,
          16.7,
          43,
          9,
          44.75,
          42.25,
          8,
          9.25,
          15,
          75.5,
          8.75,
          10.75,
          11.83,
          5.5,
          44.5,
          9.5,
          19.75,
          33.5,
          23,
          5.25,
          45.85,
          42.75,
          5,
          28.75,
          8.75,
          44,
          11.5,
          9.25,
          26,
          7.25,
          21,
          5,
          7.25,
          5,
          7.5,
          8.25,
          17.08,
          4.75,
          15,
          48.25,
          16,
          34,
          9.12,
          6.75,
          21.75,
          7.5,
          11.5,
          8,
          29,
          53,
          31.25,
          8.75,
          9,
          18,
          23.5,
          33.5,
          6.25,
          5.5,
          9,
          17.25,
          6.25,
          29.25,
          10.75,
          9,
          6.25,
          26,
          27,
          5,
          26.5,
          8,
          8,
          30,
          7.5,
          53.5,
          7.75,
          36.06,
          74.25,
          29.25,
          7,
          15.5,
          39.75,
          13,
          14,
          27.75,
          33.5,
          6.75,
          24.5,
          20,
          14.5,
          32.5,
          30.75,
          39,
          41.75,
          23,
          42.5,
          46.75,
          15.85,
          12.75,
          31.5,
          45.25,
          11.25,
          13,
          32.48,
          9.5,
          20.25,
          11,
          6.75,
          75.41,
          8.25,
          29.5,
          31.5,
          16.5,
          19.75,
          15.15,
          21.72,
          38.5,
          8,
          7,
          47.5,
          32.25,
          51.25,
          46.75,
          32.5,
          18.75,
          31.75,
          9,
          42.25,
          8.75,
          27.25,
          16.5,
          5.5,
          46.25,
          41.75,
          4.75,
          34,
          27.5,
          37.5,
          29,
          30.75,
          31,
          8
         ]
        },
        {
         "scene": "scene",
         "type": "surface",
         "x": [
          1.33,
          3.8,
          16.61,
          1.16,
          2.26,
          17.92,
          16.9,
          10.85,
          0.77,
          11.62,
          1.42,
          0.96,
          14.2,
          1.35,
          6.95,
          2.14,
          3.7,
          11.9,
          4.34,
          17.4,
          1.55,
          0.76,
          6.34,
          4.7,
          2.04,
          17.41,
          13.89,
          0.97,
          1.8,
          17,
          16.6,
          12.84,
          13.27,
          10.05,
          9.58,
          7.22,
          17.1,
          2.74,
          18.02,
          17.7,
          3.9,
          4.98,
          1.98,
          2.99,
          1.86,
          10.72,
          1.32,
          4.1,
          2.1,
          0.82,
          10.41,
          1.77,
          17.47,
          16.1,
          1.4,
          0.8,
          1.58,
          0.55,
          1.89,
          9.38,
          4.89,
          16.64,
          1.9,
          18,
          17.15,
          1.37,
          2.14,
          4.9,
          31.4,
          1.9,
          2.2,
          3.32,
          0.8,
          18.1,
          2.08,
          7.14,
          11.53,
          8.26,
          0.7,
          17.94,
          16.84,
          0.6,
          11.32,
          1.69,
          18.1,
          3.42,
          1.98,
          9.1,
          1.25,
          3.84,
          0.68,
          1.24,
          0.65,
          1.4,
          1.56,
          5.5,
          0.5,
          4.37,
          19.69,
          4.6,
          13.49,
          2.37,
          1.3,
          7.7,
          1.58,
          3.22,
          1.7,
          10.26,
          20.4,
          11.9,
          1.85,
          0.91,
          6.25,
          8.3,
          13.1,
          0.9,
          0.9,
          2.2,
          5.32,
          1.05,
          9.28,
          2.6,
          0.98,
          1.13,
          10,
          9.87,
          0.5,
          8.12,
          1.58,
          1.26,
          10.2,
          1.4,
          21,
          1.42,
          9.22,
          30.6,
          8.8,
          1.3,
          2.71,
          15.8,
          3.84,
          4.6,
          10.66,
          11.88,
          1.13,
          8.71,
          3.8,
          4.66,
          12.2,
          12.2,
          13.5,
          16.96,
          5.42,
          17.1,
          18.69,
          5.45,
          3.13,
          12.2,
          17.9,
          2.93,
          3.3,
          10.96,
          2.5,
          6.53,
          3.09,
          1.05,
          26.69,
          1.46,
          10.16,
          12.39,
          4.5,
          6.7,
          3.88,
          6.94,
          14.48,
          1.58,
          1.41,
          18.72,
          12.71,
          20.8,
          17.45,
          12.7,
          4.17,
          12.3,
          1.24,
          17.31,
          2.02,
          10.2,
          4.9,
          0.8,
          17.24,
          16.95,
          0.5,
          11.9,
          9.54,
          14,
          9.57,
          11.35,
          11.73,
          1.64
         ],
         "y": [
          8.833333333333334,
          7,
          55.1,
          5.466666666666667,
          12.116666666666667,
          29.016666666666666,
          22.333333333333332,
          27.533333333333335,
          4.133333333333334,
          31.533333333333335,
          8.45,
          5.9,
          61,
          9.966666666666667,
          34.46666666666667,
          12.483333333333333,
          21,
          29,
          15.383333333333333,
          34,
          7.05,
          4.483333333333333,
          13.333333333333334,
          14.35,
          10.433333333333334,
          37.4,
          29.016666666666666,
          5.616666666666666,
          10.516666666666667,
          25,
          27,
          16.183333333333334,
          40.1,
          34.18333333333333,
          17.25,
          32.78333333333333,
          29,
          16.916666666666668,
          31.633333333333333,
          31,
          23,
          9.833333333333334,
          13.75,
          12.4,
          6.283333333333333,
          50.65,
          7.9,
          17,
          11,
          6.416666666666667,
          25.2,
          12.7,
          34.7,
          38,
          4,
          3,
          7.716666666666667,
          5.733333333333333,
          8.133333333333333,
          27.666666666666668,
          34.06666666666667,
          33.1,
          10.316666666666666,
          26,
          24.2,
          11.066666666666666,
          12.1,
          10,
          47,
          9,
          16,
          24.366666666666667,
          5.35,
          26,
          11.55,
          14.3,
          47.483333333333334,
          22.25,
          4,
          55.3,
          33.56666666666667,
          4.583333333333333,
          20.65,
          11.916666666666666,
          21,
          9.45,
          11.533333333333333,
          25.7,
          8.4,
          41.083333333333336,
          3.3,
          8.05,
          4.183333333333334,
          8.35,
          10.516666666666667,
          33.266666666666666,
          4,
          16.866666666666667,
          33,
          22,
          16.933333333333334,
          6.716666666666667,
          6,
          15,
          7.683333333333334,
          11.3,
          10,
          27.75,
          41.53333333333333,
          19,
          11.016666666666667,
          6.45,
          12.016666666666667,
          20,
          31.7,
          6.4,
          4,
          11,
          17.35,
          5.616666666666666,
          30.283333333333335,
          16,
          7.65,
          5.6,
          16,
          30.783333333333335,
          4,
          77.36666666666666,
          8.766666666666667,
          10.4,
          43,
          8,
          51.233333333333334,
          10.233333333333333,
          20.433333333333334,
          60,
          40,
          8,
          28.5,
          27,
          14.55,
          9.966666666666667,
          16.033333333333335,
          40.36666666666667,
          7.616666666666666,
          24.066666666666666,
          20,
          15.166666666666666,
          24,
          15,
          47,
          36.3,
          37.71666666666667,
          39,
          31.5,
          15.2,
          18.55,
          24,
          39,
          13.416666666666666,
          18,
          24.9,
          7.683333333333334,
          19.4,
          10.033333333333333,
          8.433333333333334,
          73.13333333333334,
          10.683333333333334,
          37.583333333333336,
          14.466666666666667,
          23,
          13,
          19.566666666666666,
          33.5,
          35.21666666666667,
          9.416666666666666,
          6.766666666666667,
          44.083333333333336,
          16.916666666666668,
          33,
          60,
          22.533333333333335,
          34.28333333333333,
          17,
          8.416666666666666,
          18.916666666666668,
          9.566666666666666,
          19,
          22,
          4,
          61.86666666666667,
          24.616666666666667,
          3.65,
          37,
          25.35,
          38,
          36.916666666666664,
          23.683333333333334,
          24.316666666666666,
          9.7
         ],
         "z": [
          [
           7.809434042771658,
           12.562744045257567,
           45.52635699987412,
           6.9783269373575845,
           10.172464582125347,
           44.42426960627238,
           41.387843283017475,
           29.847481032212578,
           5.9936619098981225,
           31.988872450192765,
           7.936961636543274,
           6.634547452926636,
           41.48168573379516,
           8.013584212462108,
           22.924952868620558,
           9.981587007840474,
           14.379545903205873,
           32.19217975139618,
           14.86932595094045,
           44.08689184188842,
           7.999062550067902,
           6.023845637639364,
           18.63656547387441,
           15.451577496528625,
           9.48265729268392,
           44.59776689291,
           36.23728768746058,
           6.613982547918956,
           9.007118622461956,
           41.97574710845947,
           41.45170812606812,
           32.25257969220479,
           36.57688128709793,
           29.18175127108892,
           25.783760991096496,
           23.230585068066915,
           42.7560273885727,
           11.840144216219585,
           45.004959314664205,
           44.26349756717682,
           15.074412417411803,
           15.368724821408591,
           9.839303174018859,
           11.696346266269684,
           8.518213928540549,
           32.91871162414551,
           7.654455432891846,
           14.615020203590392,
           9.68630783557892,
           6.424682046572367,
           28.61695820569992,
           9.26118979215622,
           44.3300951218605,
           42.023059296607975,
           7.254275035858154,
           5.891087198257447,
           8.156196052233378,
           5.777581640084585,
           8.846081534226736,
           26.88040021101634,
           18.68233106056849,
           42.413090772628784,
           9.181413070360819,
           44.151538610458374,
           42.16504760980606,
           8.212924970785776,
           9.926278777122498,
           15.230251145362855,
           74.40369052886962,
           8.991441321372985,
           10.610870456695558,
           14.093322970072428,
           6.2301506996154785,
           44.35468952655793,
           9.72503293991089,
           20.401245732307434,
           34.10733996470769,
           23.82358060359955,
           5.832218623161316,
           48.25712065219879,
           42.88672436396281,
           5.713232405980428,
           29.809146890640257,
           8.985647892157237,
           43.63327782154084,
           12.144262299537658,
           9.51947731812795,
           26.027822375297546,
           7.584390962123871,
           17.561627534230553,
           5.690590801239014,
           7.513577051162719,
           5.7570949276288355,
           7.881903219223021,
           8.519556423823039,
           19.806125775973,
           5.425916790962219,
           15.144290031592051,
           48.59476547956467,
           16.35218648910522,
           33.68127240260442,
           9.616805948416392,
           7.339688801765442,
           21.6398885011673,
           8.151386640866598,
           12.004882798194886,
           8.729421830177307,
           28.680151801109314,
           51.26834629376729,
           30.749356341362,
           9.18083525101344,
           6.612327282428741,
           18.263757900396982,
           23.58020570278168,
           35.01955306529999,
           6.584798073768616,
           6.238520455360413,
           9.889458751678468,
           17.14396019935608,
           6.776503280798594,
           27.05478808720906,
           11.42347412109375,
           6.927671732902527,
           6.936619307994842,
           26.456641912460327,
           28.325519662698106,
           5.425916790962219,
           31.4915310160319,
           8.307692510286968,
           7.893270735740662,
           30.758566951751707,
           7.8314043998718255,
           53.88679049809774,
           8.194265144666035,
           25.511716478665672,
           74.65415363311769,
           27.48160710334778,
           7.628253483772278,
           13.450469391345978,
           39.82650079727173,
           13.733336086273194,
           14.615988985697427,
           27.802247370084128,
           33.791558844248456,
           7.2275886956850695,
           24.99987264553706,
           14.438414478302,
           15.48814770857493,
           32.08022079467773,
           30.78167972564697,
           38.039676547050476,
           43.52487719535827,
           20.285661460558572,
           44.19885079860688,
           46.34683280706406,
           17.097849357128144,
           12.868093945980073,
           32.08022079467773,
           45.824058127403255,
           11.721142763296763,
           13.134095215797423,
           29.69100354194641,
           10.020375068982442,
           19.89786508321762,
           11.55802897532781,
           7.182898541291555,
           68.6058608921369,
           8.340452564557394,
           29.895777238210044,
           31.090715884367626,
           16.293317914009094,
           19.31981465816498,
           14.538412863413493,
           22.765164847373963,
           38.33042860666911,
           8.401476031939188,
           7.6737712709108985,
           48.223330872853595,
           32.09429055134456,
           50.84974064826965,
           47.93980816602707,
           32.88436127503713,
           17.25090563853582,
           31.27339532375336,
           7.566480576197305,
           41.727797373930606,
           9.316982413927715,
           27.295790767669676,
           16.961639237403872,
           6.035369539260865,
           47.78251827875773,
           41.81886341969172,
           5.375417971611023,
           33.346438479423526,
           26.871187586784362,
           37.756890058517456,
           28.600998605887092,
           30.30774859984716,
           31.171100896994272,
           8.564246578216553
          ]
         ]
        },
        {
         "hovertemplate": "Epoch=%{x}<br>RMSE=%{y}<extra></extra>",
         "legendgroup": "",
         "line": {
          "color": "#ff0000",
          "dash": "solid",
          "width": 3
         },
         "marker": {
          "symbol": "circle"
         },
         "mode": "lines",
         "name": "",
         "orientation": "v",
         "showlegend": false,
         "type": "scatter",
         "x": [
          0,
          1,
          2,
          3,
          4,
          5,
          6,
          7,
          8,
          9,
          10,
          11,
          12,
          13,
          14,
          15,
          16,
          17,
          18,
          19
         ],
         "xaxis": "x",
         "y": [
          4.999822616577148,
          4.188889026641846,
          3.8263094425201416,
          3.6810190677642822,
          3.5973477363586426,
          3.544598340988159,
          3.5125465393066406,
          3.493673801422119,
          3.4854812622070312,
          3.481813907623291,
          3.4800431728363037,
          3.4784748554229736,
          3.478501558303833,
          3.4779365062713623,
          3.4780116081237793,
          3.478682279586792,
          3.4781622886657715,
          3.477694272994995,
          3.4783427715301514,
          3.4782776832580566
         ],
         "yaxis": "y"
        }
       ],
       "layout": {
        "annotations": [
         {
          "font": {
           "size": 16
          },
          "showarrow": false,
          "text": "Loss Curve",
          "x": 0.225,
          "xanchor": "center",
          "xref": "paper",
          "y": 1,
          "yanchor": "bottom",
          "yref": "paper"
         },
         {
          "font": {
           "size": 16
          },
          "showarrow": false,
          "text": "Model Plot",
          "x": 0.775,
          "xanchor": "center",
          "xref": "paper",
          "y": 1,
          "yanchor": "bottom",
          "yref": "paper"
         }
        ],
        "scene": {
         "domain": {
          "x": [
           0.55,
           1
          ],
          "y": [
           0,
           1
          ]
         },
         "xaxis": {
          "title": {
           "text": "TRIP_MILES"
          }
         },
         "yaxis": {
          "title": {
           "text": "TRIP_MINUTES"
          }
         },
         "zaxis": {
          "title": {
           "text": "FARE"
          }
         }
        },
        "template": {
         "data": {
          "bar": [
           {
            "error_x": {
             "color": "#2a3f5f"
            },
            "error_y": {
             "color": "#2a3f5f"
            },
            "marker": {
             "line": {
              "color": "#E5ECF6",
              "width": 0.5
             },
             "pattern": {
              "fillmode": "overlay",
              "size": 10,
              "solidity": 0.2
             }
            },
            "type": "bar"
           }
          ],
          "barpolar": [
           {
            "marker": {
             "line": {
              "color": "#E5ECF6",
              "width": 0.5
             },
             "pattern": {
              "fillmode": "overlay",
              "size": 10,
              "solidity": 0.2
             }
            },
            "type": "barpolar"
           }
          ],
          "carpet": [
           {
            "aaxis": {
             "endlinecolor": "#2a3f5f",
             "gridcolor": "white",
             "linecolor": "white",
             "minorgridcolor": "white",
             "startlinecolor": "#2a3f5f"
            },
            "baxis": {
             "endlinecolor": "#2a3f5f",
             "gridcolor": "white",
             "linecolor": "white",
             "minorgridcolor": "white",
             "startlinecolor": "#2a3f5f"
            },
            "type": "carpet"
           }
          ],
          "choropleth": [
           {
            "colorbar": {
             "outlinewidth": 0,
             "ticks": ""
            },
            "type": "choropleth"
           }
          ],
          "contour": [
           {
            "colorbar": {
             "outlinewidth": 0,
             "ticks": ""
            },
            "colorscale": [
             [
              0,
              "#0d0887"
             ],
             [
              0.1111111111111111,
              "#46039f"
             ],
             [
              0.2222222222222222,
              "#7201a8"
             ],
             [
              0.3333333333333333,
              "#9c179e"
             ],
             [
              0.4444444444444444,
              "#bd3786"
             ],
             [
              0.5555555555555556,
              "#d8576b"
             ],
             [
              0.6666666666666666,
              "#ed7953"
             ],
             [
              0.7777777777777778,
              "#fb9f3a"
             ],
             [
              0.8888888888888888,
              "#fdca26"
             ],
             [
              1,
              "#f0f921"
             ]
            ],
            "type": "contour"
           }
          ],
          "contourcarpet": [
           {
            "colorbar": {
             "outlinewidth": 0,
             "ticks": ""
            },
            "type": "contourcarpet"
           }
          ],
          "heatmap": [
           {
            "colorbar": {
             "outlinewidth": 0,
             "ticks": ""
            },
            "colorscale": [
             [
              0,
              "#0d0887"
             ],
             [
              0.1111111111111111,
              "#46039f"
             ],
             [
              0.2222222222222222,
              "#7201a8"
             ],
             [
              0.3333333333333333,
              "#9c179e"
             ],
             [
              0.4444444444444444,
              "#bd3786"
             ],
             [
              0.5555555555555556,
              "#d8576b"
             ],
             [
              0.6666666666666666,
              "#ed7953"
             ],
             [
              0.7777777777777778,
              "#fb9f3a"
             ],
             [
              0.8888888888888888,
              "#fdca26"
             ],
             [
              1,
              "#f0f921"
             ]
            ],
            "type": "heatmap"
           }
          ],
          "heatmapgl": [
           {
            "colorbar": {
             "outlinewidth": 0,
             "ticks": ""
            },
            "colorscale": [
             [
              0,
              "#0d0887"
             ],
             [
              0.1111111111111111,
              "#46039f"
             ],
             [
              0.2222222222222222,
              "#7201a8"
             ],
             [
              0.3333333333333333,
              "#9c179e"
             ],
             [
              0.4444444444444444,
              "#bd3786"
             ],
             [
              0.5555555555555556,
              "#d8576b"
             ],
             [
              0.6666666666666666,
              "#ed7953"
             ],
             [
              0.7777777777777778,
              "#fb9f3a"
             ],
             [
              0.8888888888888888,
              "#fdca26"
             ],
             [
              1,
              "#f0f921"
             ]
            ],
            "type": "heatmapgl"
           }
          ],
          "histogram": [
           {
            "marker": {
             "pattern": {
              "fillmode": "overlay",
              "size": 10,
              "solidity": 0.2
             }
            },
            "type": "histogram"
           }
          ],
          "histogram2d": [
           {
            "colorbar": {
             "outlinewidth": 0,
             "ticks": ""
            },
            "colorscale": [
             [
              0,
              "#0d0887"
             ],
             [
              0.1111111111111111,
              "#46039f"
             ],
             [
              0.2222222222222222,
              "#7201a8"
             ],
             [
              0.3333333333333333,
              "#9c179e"
             ],
             [
              0.4444444444444444,
              "#bd3786"
             ],
             [
              0.5555555555555556,
              "#d8576b"
             ],
             [
              0.6666666666666666,
              "#ed7953"
             ],
             [
              0.7777777777777778,
              "#fb9f3a"
             ],
             [
              0.8888888888888888,
              "#fdca26"
             ],
             [
              1,
              "#f0f921"
             ]
            ],
            "type": "histogram2d"
           }
          ],
          "histogram2dcontour": [
           {
            "colorbar": {
             "outlinewidth": 0,
             "ticks": ""
            },
            "colorscale": [
             [
              0,
              "#0d0887"
             ],
             [
              0.1111111111111111,
              "#46039f"
             ],
             [
              0.2222222222222222,
              "#7201a8"
             ],
             [
              0.3333333333333333,
              "#9c179e"
             ],
             [
              0.4444444444444444,
              "#bd3786"
             ],
             [
              0.5555555555555556,
              "#d8576b"
             ],
             [
              0.6666666666666666,
              "#ed7953"
             ],
             [
              0.7777777777777778,
              "#fb9f3a"
             ],
             [
              0.8888888888888888,
              "#fdca26"
             ],
             [
              1,
              "#f0f921"
             ]
            ],
            "type": "histogram2dcontour"
           }
          ],
          "mesh3d": [
           {
            "colorbar": {
             "outlinewidth": 0,
             "ticks": ""
            },
            "type": "mesh3d"
           }
          ],
          "parcoords": [
           {
            "line": {
             "colorbar": {
              "outlinewidth": 0,
              "ticks": ""
             }
            },
            "type": "parcoords"
           }
          ],
          "pie": [
           {
            "automargin": true,
            "type": "pie"
           }
          ],
          "scatter": [
           {
            "fillpattern": {
             "fillmode": "overlay",
             "size": 10,
             "solidity": 0.2
            },
            "type": "scatter"
           }
          ],
          "scatter3d": [
           {
            "line": {
             "colorbar": {
              "outlinewidth": 0,
              "ticks": ""
             }
            },
            "marker": {
             "colorbar": {
              "outlinewidth": 0,
              "ticks": ""
             }
            },
            "type": "scatter3d"
           }
          ],
          "scattercarpet": [
           {
            "marker": {
             "colorbar": {
              "outlinewidth": 0,
              "ticks": ""
             }
            },
            "type": "scattercarpet"
           }
          ],
          "scattergeo": [
           {
            "marker": {
             "colorbar": {
              "outlinewidth": 0,
              "ticks": ""
             }
            },
            "type": "scattergeo"
           }
          ],
          "scattergl": [
           {
            "marker": {
             "colorbar": {
              "outlinewidth": 0,
              "ticks": ""
             }
            },
            "type": "scattergl"
           }
          ],
          "scattermapbox": [
           {
            "marker": {
             "colorbar": {
              "outlinewidth": 0,
              "ticks": ""
             }
            },
            "type": "scattermapbox"
           }
          ],
          "scatterpolar": [
           {
            "marker": {
             "colorbar": {
              "outlinewidth": 0,
              "ticks": ""
             }
            },
            "type": "scatterpolar"
           }
          ],
          "scatterpolargl": [
           {
            "marker": {
             "colorbar": {
              "outlinewidth": 0,
              "ticks": ""
             }
            },
            "type": "scatterpolargl"
           }
          ],
          "scatterternary": [
           {
            "marker": {
             "colorbar": {
              "outlinewidth": 0,
              "ticks": ""
             }
            },
            "type": "scatterternary"
           }
          ],
          "surface": [
           {
            "colorbar": {
             "outlinewidth": 0,
             "ticks": ""
            },
            "colorscale": [
             [
              0,
              "#0d0887"
             ],
             [
              0.1111111111111111,
              "#46039f"
             ],
             [
              0.2222222222222222,
              "#7201a8"
             ],
             [
              0.3333333333333333,
              "#9c179e"
             ],
             [
              0.4444444444444444,
              "#bd3786"
             ],
             [
              0.5555555555555556,
              "#d8576b"
             ],
             [
              0.6666666666666666,
              "#ed7953"
             ],
             [
              0.7777777777777778,
              "#fb9f3a"
             ],
             [
              0.8888888888888888,
              "#fdca26"
             ],
             [
              1,
              "#f0f921"
             ]
            ],
            "type": "surface"
           }
          ],
          "table": [
           {
            "cells": {
             "fill": {
              "color": "#EBF0F8"
             },
             "line": {
              "color": "white"
             }
            },
            "header": {
             "fill": {
              "color": "#C8D4E3"
             },
             "line": {
              "color": "white"
             }
            },
            "type": "table"
           }
          ]
         },
         "layout": {
          "annotationdefaults": {
           "arrowcolor": "#2a3f5f",
           "arrowhead": 0,
           "arrowwidth": 1
          },
          "autotypenumbers": "strict",
          "coloraxis": {
           "colorbar": {
            "outlinewidth": 0,
            "ticks": ""
           }
          },
          "colorscale": {
           "diverging": [
            [
             0,
             "#8e0152"
            ],
            [
             0.1,
             "#c51b7d"
            ],
            [
             0.2,
             "#de77ae"
            ],
            [
             0.3,
             "#f1b6da"
            ],
            [
             0.4,
             "#fde0ef"
            ],
            [
             0.5,
             "#f7f7f7"
            ],
            [
             0.6,
             "#e6f5d0"
            ],
            [
             0.7,
             "#b8e186"
            ],
            [
             0.8,
             "#7fbc41"
            ],
            [
             0.9,
             "#4d9221"
            ],
            [
             1,
             "#276419"
            ]
           ],
           "sequential": [
            [
             0,
             "#0d0887"
            ],
            [
             0.1111111111111111,
             "#46039f"
            ],
            [
             0.2222222222222222,
             "#7201a8"
            ],
            [
             0.3333333333333333,
             "#9c179e"
            ],
            [
             0.4444444444444444,
             "#bd3786"
            ],
            [
             0.5555555555555556,
             "#d8576b"
            ],
            [
             0.6666666666666666,
             "#ed7953"
            ],
            [
             0.7777777777777778,
             "#fb9f3a"
            ],
            [
             0.8888888888888888,
             "#fdca26"
            ],
            [
             1,
             "#f0f921"
            ]
           ],
           "sequentialminus": [
            [
             0,
             "#0d0887"
            ],
            [
             0.1111111111111111,
             "#46039f"
            ],
            [
             0.2222222222222222,
             "#7201a8"
            ],
            [
             0.3333333333333333,
             "#9c179e"
            ],
            [
             0.4444444444444444,
             "#bd3786"
            ],
            [
             0.5555555555555556,
             "#d8576b"
            ],
            [
             0.6666666666666666,
             "#ed7953"
            ],
            [
             0.7777777777777778,
             "#fb9f3a"
            ],
            [
             0.8888888888888888,
             "#fdca26"
            ],
            [
             1,
             "#f0f921"
            ]
           ]
          },
          "colorway": [
           "#636efa",
           "#EF553B",
           "#00cc96",
           "#ab63fa",
           "#FFA15A",
           "#19d3f3",
           "#FF6692",
           "#B6E880",
           "#FF97FF",
           "#FECB52"
          ],
          "font": {
           "color": "#2a3f5f"
          },
          "geo": {
           "bgcolor": "white",
           "lakecolor": "white",
           "landcolor": "#E5ECF6",
           "showlakes": true,
           "showland": true,
           "subunitcolor": "white"
          },
          "hoverlabel": {
           "align": "left"
          },
          "hovermode": "closest",
          "mapbox": {
           "style": "light"
          },
          "paper_bgcolor": "white",
          "plot_bgcolor": "#E5ECF6",
          "polar": {
           "angularaxis": {
            "gridcolor": "white",
            "linecolor": "white",
            "ticks": ""
           },
           "bgcolor": "#E5ECF6",
           "radialaxis": {
            "gridcolor": "white",
            "linecolor": "white",
            "ticks": ""
           }
          },
          "scene": {
           "xaxis": {
            "backgroundcolor": "#E5ECF6",
            "gridcolor": "white",
            "gridwidth": 2,
            "linecolor": "white",
            "showbackground": true,
            "ticks": "",
            "zerolinecolor": "white"
           },
           "yaxis": {
            "backgroundcolor": "#E5ECF6",
            "gridcolor": "white",
            "gridwidth": 2,
            "linecolor": "white",
            "showbackground": true,
            "ticks": "",
            "zerolinecolor": "white"
           },
           "zaxis": {
            "backgroundcolor": "#E5ECF6",
            "gridcolor": "white",
            "gridwidth": 2,
            "linecolor": "white",
            "showbackground": true,
            "ticks": "",
            "zerolinecolor": "white"
           }
          },
          "shapedefaults": {
           "line": {
            "color": "#2a3f5f"
           }
          },
          "ternary": {
           "aaxis": {
            "gridcolor": "white",
            "linecolor": "white",
            "ticks": ""
           },
           "baxis": {
            "gridcolor": "white",
            "linecolor": "white",
            "ticks": ""
           },
           "bgcolor": "#E5ECF6",
           "caxis": {
            "gridcolor": "white",
            "linecolor": "white",
            "ticks": ""
           }
          },
          "title": {
           "x": 0.05
          },
          "xaxis": {
           "automargin": true,
           "gridcolor": "white",
           "linecolor": "white",
           "ticks": "",
           "title": {
            "standoff": 15
           },
           "zerolinecolor": "white",
           "zerolinewidth": 2
          },
          "yaxis": {
           "automargin": true,
           "gridcolor": "white",
           "linecolor": "white",
           "ticks": "",
           "title": {
            "standoff": 15
           },
           "zerolinecolor": "white",
           "zerolinewidth": 2
          }
         }
        },
        "xaxis": {
         "anchor": "y",
         "domain": [
          0,
          0.45
         ],
         "title": {
          "text": "Epoch"
         }
        },
        "yaxis": {
         "anchor": "x",
         "domain": [
          0,
          1
         ],
         "range": [
          2.7821554183959964,
          4.999822616577148
         ],
         "title": {
          "text": "Root Mean Squared Error"
         }
        }
       }
      }
     },
     "metadata": {},
     "output_type": "display_data"
    }
   ],
   "source": [
    "# Experiment 3: Train the model using two features\n",
    "# ------------------------------------------------\n",
    "\n",
    "# Step 1: Define the hyperparameters\n",
    "# - These values control the training process.\n",
    "# - Adjust them to observe their impact on model training.\n",
    "learning_rate = 0.001  # The rate at which the model updates weights during training\n",
    "epochs = 20            # The number of complete passes through the dataset\n",
    "batch_size = 50        # The number of data samples processed together in a single training step\n",
    "\n",
    "# Step 2: Add a new feature to the dataset\n",
    "# - Here, we create a new column 'TRIP_MINUTES' by converting 'TRIP_SECONDS' into minutes.\n",
    "# - This additional feature provides a different perspective on trip duration, which\n",
    "#   could improve the model's ability to predict 'FARE'.\n",
    "training_df.loc[:, 'TRIP_MINUTES'] = training_df['TRIP_SECONDS'] / 60  # Convert seconds to minutes\n",
    "\n",
    "# Step 3: Specify the features and label\n",
    "# - Features: The independent variables ('TRIP_MILES' and 'TRIP_MINUTES') used for prediction.\n",
    "# - Label: The dependent variable ('FARE') the model tries to predict.\n",
    "features = ['TRIP_MILES', 'TRIP_MINUTES']  # Use both trip distance and duration as input features\n",
    "label = 'FARE'                             # Predict the fare amount as the target variable\n",
    "\n",
    "# Step 4: Run the experiment\n",
    "# - The `run_experiment` function:\n",
    "#   1. Builds a linear regression model with two input features.\n",
    "#   2. Trains the model using the specified hyperparameters and dataset.\n",
    "#   3. Visualizes the training loss curve and the model's predictions.\n",
    "# - The trained model is returned and stored in `model_2`.\n",
    "model_2 = run_experiment(training_df, features, label, learning_rate, epochs, batch_size)\n",
    "\n",
    "# Notes for Beginners:\n",
    "# --------------------\n",
    "# - Adding more features can make the model more accurate by providing additional information.\n",
    "# - However, using irrelevant or redundant features can increase complexity and degrade performance.\n",
    "# - Experiment by adding or removing features to observe their impact on the loss curve and predictions.\n"
   ]
  },
  {
   "cell_type": "code",
   "execution_count": 19,
   "metadata": {
    "cellView": "form",
    "id": "uFkKK5t33xSX"
   },
   "outputs": [
    {
     "name": "stdout",
     "output_type": "stream",
     "text": [
      "\n",
      "To answer this question for your specific training runs, compare the RMSE for\n",
      "each model. For example, if the RMSE for the model trained with one feature was\n",
      "3.7457 and the RMSE for the model with two features is 3.4787, that means that\n",
      "on average the model with two features makes predictions that are about $0.27\n",
      "closer to the observed fare.\n",
      "\n",
      "\n",
      "\n",
      "When training a model with more than one feature, it is important that all\n",
      "numeric values are roughly on the same scale. In this case, TRIP_SECONDS and\n",
      "TRIP_MILES do not meet this criteria. The mean value for TRIP_MILES is 8.3 and\n",
      "the mean for TRIP_SECONDS is 1320; that is two orders of magnitude difference.\n",
      "Converting the trip duration to minutes helps during training because it puts\n",
      "values for both features on a more comparable scale. Of course, this is not the\n",
      "only way to scale values before training, but you will learn about that in\n",
      "another module.\n",
      "\n",
      "\n",
      "\n",
      "In reality, Chicago taxi cabs use a documented formula to determine cab fares.\n",
      "For a single passenger paying cash, the fare is calculated like this:\n",
      "\n",
      "FARE = 2.25 * TRIP_MILES + 0.12 * TRIP_MINUTES + 3.25\n",
      "\n",
      "Typically with machine learning problems you would not know the 'correct'\n",
      "formula, but in this case you can use this knowledge to evaluate your model. \n",
      "Take a look at your model output (the weights and bias) and determine how well \n",
      "it matches the ground truth fare calculation. You should find that the model \n",
      "is roughly close to this formula.\n",
      "\n"
     ]
    }
   ],
   "source": [
    "# Double-click to view answers for training with two features\n",
    "\n",
    "# Question 1: Does the model with two features produce better results than one using a single feature?\n",
    "# -------------------------------------------------------------------------------------\n",
    "# - To answer this question, compare the RMSE (Root Mean Squared Error) for both models.\n",
    "# - RMSE represents the average error between predicted and actual values:\n",
    "#   - Smaller RMSE indicates better model performance.\n",
    "# - Example: \n",
    "#   - If the RMSE for one feature is 3.7457 and for two features is 3.4787,\n",
    "#     then the two-feature model is better, with an average prediction improvement of ~$0.27.\n",
    "\n",
    "answer_two_features = '''\n",
    "To answer this question for your specific training runs, compare the RMSE for\n",
    "each model. For example, if the RMSE for the model trained with one feature was\n",
    "3.7457 and the RMSE for the model with two features is 3.4787, that means that\n",
    "on average the model with two features makes predictions that are about $0.27\n",
    "closer to the observed fare.\n",
    "\n",
    "'''\n",
    "print(answer_two_features)\n",
    "\n",
    "\n",
    "# Question 2: Does it make a difference if you use TRIP_SECONDS instead of TRIP_MINUTES?\n",
    "# -------------------------------------------------------------------------------------\n",
    "# - In machine learning, numeric features should ideally be on the same scale.\n",
    "# - Example:\n",
    "#   - The mean value for `TRIP_MILES` is 8.3, but for `TRIP_SECONDS` it’s 1320.\n",
    "#     This difference is two orders of magnitude, which can make training inefficient.\n",
    "# - Converting `TRIP_SECONDS` to `TRIP_MINUTES` reduces the scale discrepancy\n",
    "#   and improves the model's ability to learn meaningful relationships.\n",
    "\n",
    "answer_scaling = '''\n",
    "When training a model with more than one feature, it is important that all\n",
    "numeric values are roughly on the same scale. In this case, TRIP_SECONDS and\n",
    "TRIP_MILES do not meet this criteria. The mean value for TRIP_MILES is 8.3 and\n",
    "the mean for TRIP_SECONDS is 1320; that is two orders of magnitude difference.\n",
    "Converting the trip duration to minutes helps during training because it puts\n",
    "values for both features on a more comparable scale. Of course, this is not the\n",
    "only way to scale values before training, but you will learn about that in\n",
    "another module.\n",
    "\n",
    "'''\n",
    "print(answer_scaling)\n",
    "\n",
    "\n",
    "# Question 3: How well does the model come to the ground truth fare calculation for Chicago taxi trips?\n",
    "# -------------------------------------------------------------------------------------\n",
    "# - Chicago taxi fares are calculated using a documented formula:\n",
    "#     FARE = 2.25 * TRIP_MILES + 0.12 * TRIP_MINUTES + 3.25\n",
    "# - By comparing your model’s weights and bias to the formula coefficients\n",
    "#   (2.25, 0.12, and 3.25), you can evaluate how close the model comes to the real-world calculation.\n",
    "# - Typically in machine learning, the true formula is unknown, but this case offers a unique\n",
    "#   opportunity to compare directly.\n",
    "\n",
    "answer_truth = '''\n",
    "In reality, Chicago taxi cabs use a documented formula to determine cab fares.\n",
    "For a single passenger paying cash, the fare is calculated like this:\n",
    "\n",
    "FARE = 2.25 * TRIP_MILES + 0.12 * TRIP_MINUTES + 3.25\n",
    "\n",
    "Typically with machine learning problems you would not know the 'correct'\n",
    "formula, but in this case you can use this knowledge to evaluate your model. \n",
    "Take a look at your model output (the weights and bias) and determine how well \n",
    "it matches the ground truth fare calculation. You should find that the model \n",
    "is roughly close to this formula.\n",
    "'''\n",
    "print(answer_truth)\n"
   ]
  },
  {
   "cell_type": "markdown",
   "metadata": {
    "id": "MzMfgxldSMGK"
   },
   "source": [
    "# Part 4 - Validate Model\n",
    "\n",
    "\n",
    "---\n",
    "\n"
   ]
  },
  {
   "cell_type": "markdown",
   "metadata": {
    "id": "_yW7nVxlO1WY"
   },
   "source": [
    "## Use the model to make predictions\n",
    "\n",
    "Now that you have a trained model, you can use the model to make predictions. In practice, you should make predictions on examples that are not used during training. However, for this exercise, you'll just work with a subset of the same training dataset. In another Colab exercise you will explore ways to make predictions on examples not used in training.\n",
    "\n",
    "**Instructions**\n",
    "\n",
    "1. Run the **Define functions to make predictions** code cell.\n",
    "1. Run the **Make predictions** code cell.\n",
    "1. Review the predictions in the output.\n",
    "1. **Check your understanding** by answering these questions:\n",
    "  * How close is the predicted value to the label value? In other words, does your model accurately predict the fare for a taxi ride?"
   ]
  },
  {
   "cell_type": "code",
   "execution_count": 20,
   "metadata": {
    "cellView": "form",
    "id": "XdNxv3j8PGnr"
   },
   "outputs": [],
   "source": [
    "# Function to format currency values\n",
    "def format_currency(x):\n",
    "    \"\"\"\n",
    "    Formats a numeric value as currency.\n",
    "    \n",
    "    Parameters:\n",
    "        x (float): A numeric value to be formatted.\n",
    "    \n",
    "    Returns:\n",
    "        str: The value formatted as a string with a dollar sign and two decimal places.\n",
    "    \"\"\"\n",
    "    return \"${:.2f}\".format(x)  # Format value with two decimal places and prepend \"$\"\n",
    "\n",
    "\n",
    "# Function to build a random batch of data from the dataset\n",
    "def build_batch(df, batch_size):\n",
    "    \"\"\"\n",
    "    Selects a random batch of rows from the dataset for making predictions.\n",
    "    \n",
    "    Parameters:\n",
    "        df (pd.DataFrame): The dataset to sample from.\n",
    "        batch_size (int): The number of rows to include in the batch.\n",
    "    \n",
    "    Returns:\n",
    "        pd.DataFrame: A batch of randomly sampled rows from the dataset.\n",
    "    \"\"\"\n",
    "    batch = df.sample(n=batch_size).copy()  # Randomly sample 'batch_size' rows\n",
    "    batch.set_index(np.arange(batch_size), inplace=True)  # Reset the index for the batch\n",
    "    return batch\n",
    "\n",
    "\n",
    "# Function to make fare predictions and compare them to actual values\n",
    "def predict_fare(model, df, features, label, batch_size=50):\n",
    "    \"\"\"\n",
    "    Uses the trained model to predict fares for a batch of data and compares predictions to observed values.\n",
    "    \n",
    "    Parameters:\n",
    "        model (keras.Model): The trained model used for making predictions.\n",
    "        df (pd.DataFrame): The dataset containing features and labels.\n",
    "        features (list): A list of feature names used as input for the model.\n",
    "        label (str): The name of the target variable (observed fare).\n",
    "        batch_size (int): The number of rows to include in the prediction batch.\n",
    "    \n",
    "    Returns:\n",
    "        pd.DataFrame: A DataFrame containing predicted and observed fares, L1 loss, and feature values.\n",
    "    \"\"\"\n",
    "    # Step 1: Build a random batch of data from the dataset\n",
    "    batch = build_batch(df, batch_size)\n",
    "\n",
    "    # Step 2: Use the model to make predictions for the batch\n",
    "    predicted_values = model.predict_on_batch(x=batch.loc[:, features].values)\n",
    "\n",
    "    # Step 3: Prepare the output data\n",
    "    # - Create a dictionary to store predicted and observed values, along with feature data.\n",
    "    data = {\n",
    "        \"PREDICTED_FARE\": [],  # Store model-predicted fares\n",
    "        \"OBSERVED_FARE\": [],   # Store actual fares from the dataset\n",
    "        \"L1_LOSS\": [],         # Store L1 loss (absolute difference between predicted and observed fares)\n",
    "        features[0]: [],       # Store the first feature (e.g., TRIP_MILES)\n",
    "        features[1]: []        # Store the second feature (e.g., TRIP_MINUTES)\n",
    "    }\n",
    "\n",
    "    # Step 4: Populate the output dictionary with data\n",
    "    for i in range(batch_size):\n",
    "        predicted = predicted_values[i][0]  # Extract predicted fare for the current row\n",
    "        observed = batch.at[i, label]       # Extract observed (actual) fare for the current row\n",
    "\n",
    "        # Store the formatted predicted fare, observed fare, and L1 loss\n",
    "        data[\"PREDICTED_FARE\"].append(format_currency(predicted))\n",
    "        data[\"OBSERVED_FARE\"].append(format_currency(observed))\n",
    "        data[\"L1_LOSS\"].append(format_currency(abs(observed - predicted)))  # L1 loss = |observed - predicted|\n",
    "\n",
    "        # Store feature values\n",
    "        data[features[0]].append(batch.at[i, features[0]])  # Value for the first feature\n",
    "        data[features[1]].append(\"{:.2f}\".format(batch.at[i, features[1]]))  # Value for the second feature\n",
    "\n",
    "    # Step 5: Convert the output dictionary into a DataFrame\n",
    "    output_df = pd.DataFrame(data)\n",
    "    return output_df  # Return the DataFrame containing predictions and comparisons\n",
    "\n",
    "\n",
    "# Function to display predictions in a formatted way\n",
    "def show_predictions(output):\n",
    "    \"\"\"\n",
    "    Prints the predictions and comparisons in a neatly formatted table.\n",
    "    \n",
    "    Parameters:\n",
    "        output (pd.DataFrame): A DataFrame containing predicted and observed fares, L1 loss, and features.\n",
    "    \"\"\"\n",
    "    # Create a header banner for the output\n",
    "    header = \"-\" * 80\n",
    "    banner = header + \"\\n\" + \"|\" + \"PREDICTIONS\".center(78) + \"|\" + \"\\n\" + header\n",
    "\n",
    "    # Print the banner and the DataFrame\n",
    "    print(banner)\n",
    "    print(output)\n",
    "    return  # End of function\n"
   ]
  },
  {
   "cell_type": "code",
   "execution_count": 21,
   "metadata": {
    "cellView": "form",
    "id": "PK3oO2kYV8m0"
   },
   "outputs": [
    {
     "name": "stdout",
     "output_type": "stream",
     "text": [
      "--------------------------------------------------------------------------------\n",
      "|                                 PREDICTIONS                                  |\n",
      "--------------------------------------------------------------------------------\n",
      "   PREDICTED_FARE OBSERVED_FARE L1_LOSS  TRIP_MILES TRIP_MINUTES\n",
      "0           $9.81        $10.00   $0.19        1.93        14.27\n",
      "1           $7.11         $7.00   $0.11        0.99         8.75\n",
      "2          $42.24        $43.00   $0.76       17.20        24.00\n",
      "3           $5.82         $5.25   $0.57        0.68         4.22\n",
      "4           $8.04         $9.00   $0.96        1.01        14.93\n",
      "5           $5.85         $5.25   $0.60        0.67         4.57\n",
      "6          $77.95        $81.75   $3.80       32.66        53.85\n",
      "7          $18.19        $17.25   $0.94        5.73        18.83\n",
      "8          $37.96        $37.75   $0.21       15.28        21.42\n",
      "9          $43.35        $43.25   $0.10       17.31        30.13\n",
      "10          $9.89         $9.00   $0.89        2.20        11.00\n",
      "11         $45.04        $45.00   $0.04       18.03        31.77\n",
      "12          $8.99         $9.25   $0.26        1.46        15.22\n",
      "13         $49.81        $46.50   $3.31       17.89        66.75\n",
      "14         $45.16        $43.63   $1.53       17.23        43.83\n",
      "15         $48.25        $46.75   $1.50       18.71        44.40\n",
      "16          $5.89         $5.00   $0.89        0.80         3.00\n",
      "17         $32.73        $32.75   $0.02       12.12        29.65\n",
      "18          $7.83         $7.50   $0.33        1.36         8.53\n",
      "19          $8.02         $9.00   $0.98        1.36         9.87\n",
      "20          $8.69         $8.25   $0.44        1.72         9.43\n",
      "21          $9.40         $8.75   $0.65        2.10         9.00\n",
      "22         $35.68        $35.25   $0.43       12.32        47.25\n",
      "23          $6.85         $6.25   $0.60        0.95         7.53\n",
      "24         $10.29         $9.75   $0.54        2.50         9.57\n",
      "25          $7.97         $7.25   $0.72        1.55         6.83\n",
      "26         $12.41        $12.50   $0.09        2.80        20.00\n",
      "27          $5.33         $4.75   $0.58        0.54         2.80\n",
      "28         $25.63        $25.25   $0.38        9.30        20.10\n",
      "29         $12.24        $11.75   $0.49        3.00        16.00\n",
      "30         $32.13        $31.25   $0.88       11.47        34.62\n",
      "31         $17.72        $30.00  $12.28        5.70        16.00\n",
      "32         $46.10        $45.50   $0.60       17.95        40.23\n",
      "33          $6.12         $5.50   $0.62        0.74         5.45\n",
      "34         $51.81        $53.25   $1.44       21.72        26.73\n",
      "35         $43.48        $42.75   $0.73       17.09        34.17\n",
      "36          $6.18         $5.75   $0.43        0.80         5.00\n",
      "37         $27.44        $27.25   $0.19       10.22        19.73\n",
      "38         $30.80        $30.00   $0.80       11.00        32.00\n",
      "39         $38.43        $38.50   $0.07       14.90        30.00\n",
      "40         $48.17        $45.50   $2.67       17.99        53.97\n",
      "41         $17.78        $17.50   $0.28        5.65        17.13\n",
      "42         $11.95        $11.75   $0.20        3.00        14.00\n",
      "43         $48.36        $48.25   $0.11       19.38        35.77\n",
      "44         $28.21        $32.25   $4.04        9.30        38.00\n",
      "45         $43.61        $43.50   $0.11       17.45        29.97\n",
      "46         $68.69        $68.25   $0.44       27.72        59.22\n",
      "47         $12.33        $12.00   $0.33        3.40        11.00\n",
      "48         $12.01        $11.25   $0.76        3.43         8.35\n",
      "49          $6.25         $6.25   $0.00        0.60         8.28\n"
     ]
    }
   ],
   "source": [
    "# Make predictions using the trained model and display the results\n",
    "# ---------------------------------------------------------------\n",
    "\n",
    "# Step 1: Predict fares using the trained model\n",
    "# - The `predict_fare` function:\n",
    "#   1. Builds a random batch of data from the training dataset.\n",
    "#   2. Uses the trained model to predict fare values for the batch.\n",
    "#   3. Compares predicted fares with observed fares (actual values from the dataset).\n",
    "#   4. Calculates L1 loss (absolute error) for each prediction.\n",
    "output = predict_fare(model_2, training_df, features, label)\n",
    "\n",
    "# Step 2: Display the predictions in a formatted table\n",
    "# - The `show_predictions` function prints the predictions, observed fares,\n",
    "#   L1 loss, and the feature values used for predictions.\n",
    "show_predictions(output)\n"
   ]
  },
  {
   "cell_type": "code",
   "execution_count": 22,
   "metadata": {
    "cellView": "form",
    "id": "6sjix7lXI7xT"
   },
   "outputs": [
    {
     "name": "stdout",
     "output_type": "stream",
     "text": [
      "\n",
      "Based on a random sampling of examples, the model seems to do pretty well\n",
      "predicting the fare for a taxi ride. Most of the predicted values do not vary\n",
      "significantly from the observed value. You should be able to see this by looking\n",
      "at the column L1_LOSS = |observed - predicted|.\n",
      "\n"
     ]
    }
   ],
   "source": [
    "# Double-click to view answers for validating the model\n",
    "\n",
    "# Question: How close is the predicted value to the label value?\n",
    "# ---------------------------------------------------------------------\n",
    "# - The closeness of predicted values to the actual values can be measured\n",
    "#   using the L1 loss:\n",
    "#     L1 Loss = |observed - predicted|\n",
    "# - Smaller values in the L1 loss column indicate more accurate predictions.\n",
    "# - By looking at the random sampling of predictions, you can assess how well\n",
    "#   the model is performing on the training data.\n",
    "\n",
    "answer = '''\n",
    "Based on a random sampling of examples, the model seems to do pretty well\n",
    "predicting the fare for a taxi ride. Most of the predicted values do not vary\n",
    "significantly from the observed value. You should be able to see this by looking\n",
    "at the column L1_LOSS = |observed - predicted|.\n",
    "'''\n",
    "print(answer)\n"
   ]
  }
 ],
 "metadata": {
  "colab": {
   "collapsed_sections": [
    "sgR4YRjj5T-b"
   ],
   "provenance": []
  },
  "kernelspec": {
   "display_name": "datascience_core",
   "language": "python",
   "name": "python3"
  },
  "language_info": {
   "codemirror_mode": {
    "name": "ipython",
    "version": 3
   },
   "file_extension": ".py",
   "mimetype": "text/x-python",
   "name": "python",
   "nbconvert_exporter": "python",
   "pygments_lexer": "ipython3",
   "version": "3.12.4"
  }
 },
 "nbformat": 4,
 "nbformat_minor": 0
}
